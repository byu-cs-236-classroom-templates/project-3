{
 "cells": [
  {
   "attachments": {},
   "cell_type": "markdown",
   "metadata": {},
   "source": [
    "#### Introduction to relations and relational algebra\n",
    "CS 236 <br>\n",
    "Fall 2024\n",
    "\n",
    "Michael A. Goodrich and Eric G. Mercer<br>\n",
    "Brigham Young University <br>\n",
    "March 2023, Updated Oct 2024\n",
    "***"
   ]
  },
  {
   "attachments": {},
   "cell_type": "markdown",
   "metadata": {},
   "source": [
    "Consider the following example from the class slides:\n",
    "    _Relational Algebra Part 1_\n",
    "\n",
    "* $R\\subset A\\times B$\n",
    "* $R=\\{(a,1),(b,2),(c,3),(d,4)\\}$\n",
    "\n",
    "The relation $R$ is represented as a set of mathematical tuples, which uses the textbook's notation. \n",
    "\n",
    "In relational databases and in class, the same relation is represented as a table:\n",
    "\n",
    "| char | int | \n",
    "| :-: | :-: | \n",
    "| $a$ | $1$ |\n",
    "| $b$ | $2$ | \n",
    "| $c$ | $3$ | \n",
    "| $d$ | $4$ | \n",
    "\n",
    "The first row of the table is the __header__. You can think of the elements of the header as assigning names to each column. For example, the first column contains elements from the set $A$. The header contains information about the sets from which the cartesian product is formed, $R\\subset A\\times B$.\n",
    "\n",
    "Below the header are rows containing __tuples__. The tuples are the elements of the __set__ the defines the relation, $R=\\{(a,1),(b,2),(c,3),(d,4)\\}$.\n",
    "\n",
    "Just like the order of elements in a set doesn't matter\n",
    "\n",
    "* $\\{(a,1),(b,2),(c,3),(d,4)\\} = \\{(d,4),(b,2),(a,1),(c,3)\\}$\n",
    "\n",
    "The order of the rows in the table doesn't matter (except for the header). The following table represents the same relation as the table above.\n",
    "\n",
    "| char | int | \n",
    "| :-: | :-: | \n",
    "| $d$ | $4$ | \n",
    "| $a$ | $1$ |\n",
    "| $b$ | $2$ | \n",
    "| $c$ | $3$ | \n",
    "\n",
    "\n",
    "***"
   ]
  },
  {
   "attachments": {},
   "cell_type": "markdown",
   "metadata": {},
   "source": [
    "Let's construct a class that represents a relation.  The variables of this function need to match the parts of the table. Thus, there needs to be a variable representing the header and another variable representing the set of tuples. Similar to how the Project 3 started code does it, we'll define the following\n",
    "- The relation name as a `str`. You won't see the relation name in the starter code for Project 3, but it's useful here since it allows us to track a few things in the tutorial. \n",
    "- The relation header will be defined as a list of strings: `list[str]`\n",
    "- Each tuple in the relation will be defined as a new type called `RelationTuple`\n",
    "  - The `RelationTuple` will be built using Python's default `tuple` type.  \n",
    "  - We'll allow both integers and strings to be the elements of a tuple, so look for the vertical bar that says the tuple types can be either an int or a str yielding `RelationTuple = tuple[str | int]`\n",
    "  - We won't specify how many elements will be in the `RelationTuple` so we'll use Python's `...` to indicate that we can have several tuples yielding `RelationTuple = tuple[str | int, ...]`\n",
    "- A `__str__` method that returns a string in the correct format."
   ]
  },
  {
   "cell_type": "code",
   "execution_count": 134,
   "metadata": {},
   "outputs": [
    {
     "name": "stdout",
     "output_type": "stream",
     "text": [
      "relation name = R\n",
      "╒════════╤═══════╕\n",
      "│ char   │   int │\n",
      "╞════════╪═══════╡\n",
      "│ a      │     1 │\n",
      "├────────┼───────┤\n",
      "│ c      │     3 │\n",
      "├────────┼───────┤\n",
      "│ b      │     2 │\n",
      "├────────┼───────┤\n",
      "│ d      │     4 │\n",
      "╘════════╧═══════╛\n",
      "relation name = Q\n",
      "╒═════╤═════╕\n",
      "│ C   │ D   │\n",
      "╞═════╪═════╡\n",
      "╘═════╧═════╛\n",
      "relation name = W\n",
      "╒═════╕\n",
      "│   A │\n",
      "╞═════╡\n",
      "│   1 │\n",
      "├─────┤\n",
      "│   2 │\n",
      "├─────┤\n",
      "│   3 │\n",
      "╘═════╛\n"
     ]
    }
   ],
   "source": [
    "from tabulate import tabulate # requires the tabulate module\n",
    "        ### I like using the tabulate environment, but I had to install a\n",
    "        ### package to make this work. Within the vscode terminal, the \n",
    "        ### command to install is \"pip3 install tabulate\"\n",
    "\n",
    "RelationTuple = tuple[str | int, ...]\n",
    "        \n",
    "class Relation:\n",
    "    def __init__(self, relation_name: str, relation_header: list[str], set_of_tuples: set[RelationTuple]) -> None:\n",
    "        self.name:str = relation_name # I threw in a string for the relation name to help show how the math works\n",
    "        self.header: list[str] = relation_header\n",
    "        self.set_of_tuples: set[RelationTuple] = set_of_tuples\n",
    "\n",
    "    def __str__(self) -> str:\n",
    "        value: str = f\"relation name = {self.name}\\n\" + tabulate(iter(self.set_of_tuples), self.header, tablefmt=\"fancy_grid\")\n",
    "        return value\n",
    "        \n",
    "    \n",
    "R: Relation = Relation(relation_name = \"R\",relation_header = ('char','int'), set_of_tuples = {('a',1),('b',2),('c',3),('d',4)})\n",
    "print(R)\n",
    "\n",
    "Q: Relation = Relation('Q',('C','D'),{})\n",
    "print(Q)\n",
    "\n",
    "# The following code will cause the __str__ method to crash\n",
    "# The problem is that tabulate requires strings and the types in the set are ints\n",
    "# W: Relation = Relation('W',('A'), {1, 2, 3})\n",
    "# They must be tuples. Later, the trailing comma will be explained\n",
    "W: Relation = Relation('W',('A'), {(1,), (2,), (3,)})\n",
    "print(W)\n"
   ]
  },
  {
   "attachments": {},
   "cell_type": "markdown",
   "metadata": {},
   "source": [
    "The top row in the tables above consist of the relation header. The remaining rows represent the set of tuples contained in the relation. Each line contains a unique tuple.\n",
    "\n",
    "The order of the tuples in the set of tuples doesn't matter since sets are not ordered, so the relation R2 defined below is the same as R defined above."
   ]
  },
  {
   "cell_type": "code",
   "execution_count": 135,
   "metadata": {},
   "outputs": [
    {
     "name": "stdout",
     "output_type": "stream",
     "text": [
      "relation name = R2\n",
      "╒════════╤═══════╕\n",
      "│ char   │   int │\n",
      "╞════════╪═══════╡\n",
      "│ a      │     1 │\n",
      "├────────┼───────┤\n",
      "│ c      │     3 │\n",
      "├────────┼───────┤\n",
      "│ b      │     2 │\n",
      "├────────┼───────┤\n",
      "│ d      │     4 │\n",
      "╘════════╧═══════╛\n"
     ]
    }
   ],
   "source": [
    "R2: Relation = Relation(relation_name = \"R2\",relation_header = ('char','int'), set_of_tuples = {('b',2),('a',1),('c',3),('d',4)})\n",
    "print(R2)\n"
   ]
  },
  {
   "attachments": {},
   "cell_type": "markdown",
   "metadata": {},
   "source": [
    "Interestingly, my machine puts the tuples in R and the tuples in R2 on the same row.\n",
    "\n",
    "---\n"
   ]
  },
  {
   "cell_type": "markdown",
   "metadata": {},
   "source": [
    "Note that testing whether two relations are equal might not work the way our intuition says it should. Consider whether you think the following statement should be true or false."
   ]
  },
  {
   "cell_type": "code",
   "execution_count": 136,
   "metadata": {},
   "outputs": [
    {
     "name": "stdout",
     "output_type": "stream",
     "text": [
      "False\n"
     ]
    }
   ],
   "source": [
    "print(R==R2)"
   ]
  },
  {
   "attachments": {},
   "cell_type": "markdown",
   "metadata": {},
   "source": [
    "The reason is that R and R2 are two different instances of a class, and even though the variables within the two classes are the same the instances are not considered equal. When we print out the `id` information about each instance, we see that the objects have different addresses. A useful LLM prompt is\n",
    "\n",
    "    what happens when i try to see if two objects are the same in python? For example, suppose I have an object called R and another object called Q and I write\"R==Q\""
   ]
  },
  {
   "cell_type": "code",
   "execution_count": 137,
   "metadata": {},
   "outputs": [
    {
     "name": "stdout",
     "output_type": "stream",
     "text": [
      "4383608592\n",
      "4383614208\n"
     ]
    }
   ],
   "source": [
    "print(id(R))\n",
    "print(id(R2))"
   ]
  },
  {
   "attachments": {},
   "cell_type": "markdown",
   "metadata": {},
   "source": [
    "But we can define an equality operator for the class within the class definition. See\n",
    "\n",
    "https://stackoverflow.com/questions/1227121/compare-object-instances-for-equality-by-their-attributes\n",
    "\n",
    "Let's redefine the class to define the `__eq__` function."
   ]
  },
  {
   "cell_type": "code",
   "execution_count": 138,
   "metadata": {},
   "outputs": [
    {
     "name": "stdout",
     "output_type": "stream",
     "text": [
      "True\n"
     ]
    }
   ],
   "source": [
    "from typing import Any\n",
    "\n",
    "class Relation:\n",
    "    def __init__(self, relation_name: str, relation_header: list[str], set_of_tuples: set[RelationTuple]) -> None:\n",
    "        self.name:str = relation_name # I threw in a string for the relation name for fun\n",
    "        self.header: list[str] = relation_header\n",
    "        self.set_of_tuples: set[RelationTuple] = set_of_tuples\n",
    "\n",
    "    def __str__(self) -> str:\n",
    "        value: str = f\"relation name = {self.name}\\n\" + tabulate(iter(self.set_of_tuples), self.header, tablefmt=\"fancy_grid\")\n",
    "        return value\n",
    "\n",
    "    def __eq__(self, other: Any) -> bool:\n",
    "        if not isinstance(other, Relation):\n",
    "            print(\"you are trying to compare a relation to something that is not a relation\")\n",
    "            return False\n",
    "        return (\n",
    "            self.header == other.header\n",
    "            and self.set_of_tuples == other.set_of_tuples\n",
    "        )\n",
    "\n",
    "    \n",
    "R: Relation = Relation(relation_name = \"R\",relation_header = ('char','int'), set_of_tuples = {('a',1),('b',2),('c',3),('d',4)})\n",
    "R2: Relation = Relation(relation_name = \"R2\",relation_header = ('char','int'), set_of_tuples = {('b',2),('a',1),('c',3),('d',4)})\n",
    "print(R==R2)"
   ]
  },
  {
   "attachments": {},
   "cell_type": "markdown",
   "metadata": {},
   "source": [
    "Defining the `__eq__` function within the class allows us to use the == operator to check whether the contents of the two relations are the same. Notice a few things about the `__eq__` function:\n",
    "\n",
    "- Two arguments are passed to the function: `self` and `other`. \n",
    "  - `self` refers to the instance of the relation class\n",
    "  - `other` refers to whatever the relation can be compared to. The code above uses the `Any` type to say that we can compare anything to the relation.\n",
    "- The first line of the function tests whether the `other` object passed in is a `Relation` type. If it's not, the function returns false.\n",
    "- The function returns the boolean expression that tests whether both headers match as well as whether the set of tuples match.\n",
    "\n",
    "***\n"
   ]
  },
  {
   "cell_type": "markdown",
   "metadata": {},
   "source": [
    "### Two Tricky Problems ###\n",
    "\n",
    "There are two tricky problems that can consume a lot of time, so let's address each."
   ]
  },
  {
   "cell_type": "markdown",
   "metadata": {},
   "source": [
    "#### Problem 1: Modifying copies of objects ####\n",
    "\n",
    "Let's start with how our intuition thinks copying should work in Python."
   ]
  },
  {
   "cell_type": "code",
   "execution_count": 139,
   "metadata": {},
   "outputs": [
    {
     "name": "stdout",
     "output_type": "stream",
     "text": [
      "Happy\n",
      "Happy Birthday\n",
      "False\n",
      "4391131312\n",
      "4391383792\n"
     ]
    }
   ],
   "source": [
    "string1: str = \"Happy\"\n",
    "string2: str = string1 + \" Birthday\"\n",
    "\n",
    "print(string1)\n",
    "print(string2)\n",
    "print(string1 == string2)\n",
    "print(id(string1))\n",
    "print(id(string2))"
   ]
  },
  {
   "cell_type": "markdown",
   "metadata": {},
   "source": [
    "When we copy a string to another string, the copy creates a new instance of the string. When we modify the copy, only the copy is changed.  We showed three pieces of evidence to support this:\n",
    "- we printed both strings and saw that they were different\n",
    "- we used `==` to show that the strings were different\n",
    "- we printed the `id` of both strings and showed that they were different\n"
   ]
  },
  {
   "cell_type": "markdown",
   "metadata": {},
   "source": [
    "Let's see what happens when we copy a relation. We'll create a copy and print the `id` of both the original and the copy."
   ]
  },
  {
   "cell_type": "code",
   "execution_count": 140,
   "metadata": {},
   "outputs": [
    {
     "name": "stdout",
     "output_type": "stream",
     "text": [
      "4382795344\n",
      "4382795344\n"
     ]
    }
   ],
   "source": [
    "R: Relation = Relation(relation_name = \"R\",relation_header = ('char','int'), set_of_tuples = {('a',1),('b',2),('c',3),('d',4)})\n",
    "Q: Relation = R\n",
    "\n",
    "print(id(R))\n",
    "print(id(Q))"
   ]
  },
  {
   "cell_type": "markdown",
   "metadata": {},
   "source": [
    "Notice that the two objects have the same `id`. The problem is that Python defaults to creating a **pointer** to the original object. This means that if we modify the copy we also modify the original. We can see this if I overwrite the header of the copy and then print out the header of the original and the copy. "
   ]
  },
  {
   "cell_type": "code",
   "execution_count": 141,
   "metadata": {},
   "outputs": [
    {
     "name": "stdout",
     "output_type": "stream",
     "text": [
      "Header of R before modification = ('char', 'int')\n",
      "Header of Q before modification = ('char', 'int')\n",
      "Header of R after modification = ['bart', 'lisa']\n",
      "Header of Q after modification = ['bart', 'lisa']\n"
     ]
    }
   ],
   "source": [
    "print(f'Header of R before modification = {R.header}')\n",
    "print(f'Header of Q before modification = {Q.header}')\n",
    "\n",
    "Q.header = ['bart', 'lisa']\n",
    "\n",
    "print(f'Header of R after modification = {R.header}')\n",
    "print(f'Header of Q after modification = {Q.header}')\n"
   ]
  },
  {
   "cell_type": "markdown",
   "metadata": {},
   "source": [
    "Notice how both the copy and the original are modified. This is because the copy created a new pointer to the original relation, so when we modified the memory to which the pointer referenced the we also modified the original.\n",
    "\n",
    "We can fix this by defining our own `__copy__` method. A good LLM prompt to explore more is:\n",
    "\n",
    "     is there a dunder method in python that describes how to perform a copy operation of an object\n",
    "\n",
    "If you want to avoid this problem, use `deepcopy`"
   ]
  },
  {
   "cell_type": "code",
   "execution_count": 142,
   "metadata": {},
   "outputs": [
    {
     "name": "stdout",
     "output_type": "stream",
     "text": [
      "4382798032\n",
      "4382799856\n",
      "Header of R before modification = ('char', 'int')\n",
      "Header of Q before modification = ('char', 'int')\n",
      "Header of R before modification = ('char', 'int')\n",
      "Header of Q before modification = ['bart', 'lisa']\n",
      "Header of R after modification = ('char', 'int')\n",
      "Header of Q after modification = ['bart', 'lisa']\n"
     ]
    }
   ],
   "source": [
    "from copy import deepcopy\n",
    "\n",
    "R: Relation = Relation(relation_name = \"R\",relation_header = ('char','int'), set_of_tuples = {('a',1),('b',2),('c',3),('d',4)})\n",
    "Q: Relation = deepcopy(R)\n",
    "\n",
    "print(id(R))\n",
    "print(id(Q))\n",
    "\n",
    "print(f'Header of R before modification = {R.header}')\n",
    "print(f'Header of Q before modification = {Q.header}')\n",
    "\n",
    "Q.header = ['bart', 'lisa']\n",
    "\n",
    "print(f'Header of R before modification = {R.header}')\n",
    "print(f'Header of Q before modification = {Q.header}')\n",
    "\n",
    "Q.header = ['bart', 'lisa']\n",
    "\n",
    "print(f'Header of R after modification = {R.header}')\n",
    "print(f'Header of Q after modification = {Q.header}')"
   ]
  },
  {
   "cell_type": "markdown",
   "metadata": {},
   "source": [
    "---\n"
   ]
  },
  {
   "cell_type": "markdown",
   "metadata": {},
   "source": [
    "#### Side Effects and Problem 1: Some Programming Best Practices\n",
    "\n",
    "**Note that some of the information shared here was culled from copilot in response to a prompt on differences in initalizing member variables in the starter code.**\n",
    "\n",
    "Starter code is provided for project 3. It has a subtle but important difference with the definition of the class above. Specifically, assigning the `relation_header` to the class variable `self.header`, which occurs in `__init__`. In the code above, the assignment is\n",
    "\n",
    "`self.header: list[str] = relation_header`\n",
    "\n",
    "but in the starter code the assigment is \n",
    "\n",
    "`self.header = list(relation_header)`\n",
    "\n",
    "What's the difference? Let's experiment with some variables outside of the definition of the Relation class. "
   ]
  },
  {
   "cell_type": "code",
   "execution_count": 143,
   "metadata": {},
   "outputs": [
    {
     "name": "stdout",
     "output_type": "stream",
     "text": [
      "The original list has id = 4416579520\n",
      "The assignment operator in version 1 has id = 4416579520\n",
      "The assignment operator in version 2 has id = 4370466688\n"
     ]
    }
   ],
   "source": [
    "relation_header: list[str] = ['A', 'B', 'C']\n",
    "header_v1: list[str] = relation_header\n",
    "header_v2 = list(relation_header)\n",
    "\n",
    "print(f\"The original list has id = {id(relation_header)}\")\n",
    "print(f\"The assignment operator in version 1 has id = {id(header_v1)}\")\n",
    "print(f\"The assignment operator in version 2 has id = {id(header_v2)}\")"
   ]
  },
  {
   "cell_type": "markdown",
   "metadata": {},
   "source": [
    "Notice that the id's for the original list and the first version of the header have the same id, but the id's of the original list and the second version of the header have different id's. Stated simply,\n",
    " - the assignment `header_v1: list[str] = relation_header` copies a *reference* (e.g., the pointer)\n",
    " - the assignment `header_v2 = list(relation_header)` creates a brand new list object\n",
    "\n",
    "You can tell that the second assignment creates a brand new list object because it uses the formatting that we use whenever we create a new object in Python. The `list(stuff)` creates a new instance of a list object, where `stuff` initializes the list object. We can confirm that a new list object is created by asking Python about the list keyword, as follows:"
   ]
  },
  {
   "cell_type": "code",
   "execution_count": 144,
   "metadata": {},
   "outputs": [
    {
     "name": "stdout",
     "output_type": "stream",
     "text": [
      "Help on class list in module builtins:\n",
      "\n",
      "class list(object)\n",
      " |  list(iterable=(), /)\n",
      " |  \n",
      " |  Built-in mutable sequence.\n",
      " |  \n",
      " |  If no argument is given, the constructor creates a new empty list.\n",
      " |  The argument must be an iterable if specified.\n",
      " |  \n",
      " |  Methods defined here:\n",
      " |  \n",
      " |  __add__(self, value, /)\n",
      " |      Return self+value.\n",
      " |  \n",
      " |  __contains__(self, key, /)\n",
      " |      Return key in self.\n",
      " |  \n",
      " |  __delitem__(self, key, /)\n",
      " |      Delete self[key].\n",
      " |  \n",
      " |  __eq__(self, value, /)\n",
      " |      Return self==value.\n",
      " |  \n",
      " |  __ge__(self, value, /)\n",
      " |      Return self>=value.\n",
      " |  \n",
      " |  __getattribute__(self, name, /)\n",
      " |      Return getattr(self, name).\n",
      " |  \n",
      " |  __getitem__(...)\n",
      " |      x.__getitem__(y) <==> x[y]\n",
      " |  \n",
      " |  __gt__(self, value, /)\n",
      " |      Return self>value.\n",
      " |  \n",
      " |  __iadd__(self, value, /)\n",
      " |      Implement self+=value.\n",
      " |  \n",
      " |  __imul__(self, value, /)\n",
      " |      Implement self*=value.\n",
      " |  \n",
      " |  __init__(self, /, *args, **kwargs)\n",
      " |      Initialize self.  See help(type(self)) for accurate signature.\n",
      " |  \n",
      " |  __iter__(self, /)\n",
      " |      Implement iter(self).\n",
      " |  \n",
      " |  __le__(self, value, /)\n",
      " |      Return self<=value.\n",
      " |  \n",
      " |  __len__(self, /)\n",
      " |      Return len(self).\n",
      " |  \n",
      " |  __lt__(self, value, /)\n",
      " |      Return self<value.\n",
      " |  \n",
      " |  __mul__(self, value, /)\n",
      " |      Return self*value.\n",
      " |  \n",
      " |  __ne__(self, value, /)\n",
      " |      Return self!=value.\n",
      " |  \n",
      " |  __repr__(self, /)\n",
      " |      Return repr(self).\n",
      " |  \n",
      " |  __reversed__(self, /)\n",
      " |      Return a reverse iterator over the list.\n",
      " |  \n",
      " |  __rmul__(self, value, /)\n",
      " |      Return value*self.\n",
      " |  \n",
      " |  __setitem__(self, key, value, /)\n",
      " |      Set self[key] to value.\n",
      " |  \n",
      " |  __sizeof__(self, /)\n",
      " |      Return the size of the list in memory, in bytes.\n",
      " |  \n",
      " |  append(self, object, /)\n",
      " |      Append object to the end of the list.\n",
      " |  \n",
      " |  clear(self, /)\n",
      " |      Remove all items from list.\n",
      " |  \n",
      " |  copy(self, /)\n",
      " |      Return a shallow copy of the list.\n",
      " |  \n",
      " |  count(self, value, /)\n",
      " |      Return number of occurrences of value.\n",
      " |  \n",
      " |  extend(self, iterable, /)\n",
      " |      Extend list by appending elements from the iterable.\n",
      " |  \n",
      " |  index(self, value, start=0, stop=9223372036854775807, /)\n",
      " |      Return first index of value.\n",
      " |      \n",
      " |      Raises ValueError if the value is not present.\n",
      " |  \n",
      " |  insert(self, index, object, /)\n",
      " |      Insert object before index.\n",
      " |  \n",
      " |  pop(self, index=-1, /)\n",
      " |      Remove and return item at index (default last).\n",
      " |      \n",
      " |      Raises IndexError if list is empty or index is out of range.\n",
      " |  \n",
      " |  remove(self, value, /)\n",
      " |      Remove first occurrence of value.\n",
      " |      \n",
      " |      Raises ValueError if the value is not present.\n",
      " |  \n",
      " |  reverse(self, /)\n",
      " |      Reverse *IN PLACE*.\n",
      " |  \n",
      " |  sort(self, /, *, key=None, reverse=False)\n",
      " |      Sort the list in ascending order and return None.\n",
      " |      \n",
      " |      The sort is in-place (i.e. the list itself is modified) and stable (i.e. the\n",
      " |      order of two equal elements is maintained).\n",
      " |      \n",
      " |      If a key function is given, apply it once to each list item and sort them,\n",
      " |      ascending or descending, according to their function values.\n",
      " |      \n",
      " |      The reverse flag can be set to sort in descending order.\n",
      " |  \n",
      " |  ----------------------------------------------------------------------\n",
      " |  Class methods defined here:\n",
      " |  \n",
      " |  __class_getitem__(...) from builtins.type\n",
      " |      See PEP 585\n",
      " |  \n",
      " |  ----------------------------------------------------------------------\n",
      " |  Static methods defined here:\n",
      " |  \n",
      " |  __new__(*args, **kwargs) from builtins.type\n",
      " |      Create and return a new object.  See help(type) for accurate signature.\n",
      " |  \n",
      " |  ----------------------------------------------------------------------\n",
      " |  Data and other attributes defined here:\n",
      " |  \n",
      " |  __hash__ = None\n",
      "\n"
     ]
    }
   ],
   "source": [
    "help(list)"
   ]
  },
  {
   "cell_type": "markdown",
   "metadata": {},
   "source": [
    "The different types of assignments have some important implications. Copilot lists four advantages of using the assignment `header_v1: list[str] = relation_header`\n",
    "\n",
    "The main difference between the two versions of the `Relation` class is how the `header` attribute is initialized. In the first version, `self.header` is assigned a copy of the `header` list, while in the second version, `self.header` is assigned the `header` list directly. Here are some reasons why you might choose the second approach:\n",
    "\n",
    "1. **Memory Efficiency**:\n",
    "   - By directly assigning `header`, you avoid creating a copy of the list, which can save memory, especially if the list is large.\n",
    "\n",
    "2. **Performance**:\n",
    "   - Direct assignment is faster than copying the list, which can be beneficial if this operation is performed frequently.\n",
    "\n",
    "3. **Mutability Considerations**:\n",
    "   - If you want changes to the original `header` list to be reflected in the `Relation` instance, direct assignment is necessary. However, this also means that external changes to the `header` list will affect the `Relation` instance, which might not always be desirable.\n",
    "\n",
    "4. **Simplicity**:\n",
    "   - The code is slightly simpler and more straightforward with direct assignment.\n",
    "\n",
    "Be cautious with direct assignment if you need to ensure that the `Relation` instance has its own independent copy of the `header` list. In such cases, copying the list (as in the first version) is safer to avoid unintended side effects from external modifications.\n"
   ]
  },
  {
   "cell_type": "markdown",
   "metadata": {},
   "source": [
    "Copilot lists the following advantages of the assignment `header_v2 = list(relation_header)`\n",
    "\n",
    "The first approach, where `header` is assigned a copy of the `relation_header` list, has several advantages:\n",
    "\n",
    "1. **Data Integrity**:\n",
    "   - By copying the list, you ensure that the `Relation` instance has its own independent version of the `header`. This prevents unintended side effects from external modifications to the original list.\n",
    "\n",
    "2. **Encapsulation**:\n",
    "   - This approach adheres to the principle of encapsulation, where the internal state of the object is protected from outside interference. Changes to the original `header` list won't affect the `Relation` instance, maintaining the integrity of the object's state.\n",
    "\n",
    "3. **Predictability**:\n",
    "   - It makes the behavior of the `Relation` class more predictable. Users of the class can be confident that once a `Relation` object is created, its `header` won't change unless explicitly modified through the class's methods.\n",
    "\n",
    "4. **Debugging**:\n",
    "   - It can simplify debugging. If the `header` list is modified unexpectedly, you can be sure that the modification happened within the `Relation` class, not from an external source.\n",
    "\n",
    "5. **Immutability**:\n",
    "   - If the `header` list is intended to be immutable after the `Relation` object is created, copying it ensures that the original list cannot be changed, reinforcing this immutability.\n",
    "\n",
    "Overall, the first approach provides a higher level of safety and robustness, especially in scenarios where the `header` list should remain unchanged after the `Relation` object is initialized."
   ]
  },
  {
   "cell_type": "markdown",
   "metadata": {},
   "source": [
    "Let's quickly illustrate by changing `relation_header` and printing out all versions."
   ]
  },
  {
   "cell_type": "code",
   "execution_count": 145,
   "metadata": {},
   "outputs": [
    {
     "name": "stdout",
     "output_type": "stream",
     "text": [
      "** Before change **\n",
      "relation_header = ['A', 'B', 'C']\n",
      "header_v1 = ['A', 'B', 'C']\n",
      "header_v2 = ['A', 'B', 'C']\n",
      "\n",
      "** After change **\n",
      "relation_header = ['new', 'newer', 'C', 'newest']\n",
      "header_v1 = ['new', 'newer', 'C', 'newest']\n",
      "header_v2 = ['A', 'B', 'C']\n"
     ]
    }
   ],
   "source": [
    "relation_header: list[str] = ['A', 'B', 'C']\n",
    "header_v1: list[str] = relation_header\n",
    "header_v2 = list(relation_header)\n",
    "print(f\"** Before change **\")\n",
    "print(f\"relation_header = {relation_header}\")\n",
    "print(f\"header_v1 = {header_v1}\")\n",
    "print(f\"header_v2 = {header_v2}\")\n",
    "\n",
    "relation_header[0] = 'new'\n",
    "relation_header[1] = 'newer'\n",
    "relation_header.append('newest')\n",
    "print(f\"\\n** After change **\")\n",
    "print(f\"relation_header = {relation_header}\")\n",
    "print(f\"header_v1 = {header_v1}\")\n",
    "print(f\"header_v2 = {header_v2}\")"
   ]
  },
  {
   "cell_type": "markdown",
   "metadata": {},
   "source": [
    "Stated simply, if someplace else in your code can change a variable that you used to initialize a class variable, create a copy of that variable when you initialize the class instead of creating a reference to it."
   ]
  },
  {
   "cell_type": "markdown",
   "metadata": {},
   "source": [
    "---"
   ]
  },
  {
   "cell_type": "markdown",
   "metadata": {},
   "source": [
    "#### Problem 2: Creating relations with one-ples or empty relations ####\n",
    "\n",
    "A tuple can have only a single element in it, what Goodrich jokingly called a \"one-ple\" in class. There is a tricky problem that comes up when we try to create a tuple with only a single element. Consider the following:"
   ]
  },
  {
   "cell_type": "code",
   "execution_count": 146,
   "metadata": {},
   "outputs": [
    {
     "name": "stdout",
     "output_type": "stream",
     "text": [
      "relation name = R\n",
      "╒═════╕\n",
      "│ c   │\n",
      "╞═════╡\n",
      "│ a   │\n",
      "╘═════╛\n"
     ]
    }
   ],
   "source": [
    "\n",
    "R: Relation = Relation('R',('char'),{('a')}) #To create a tuple with only one item, you have add a comma after the item, otherwise Python will not recognize the variable as a tuple.\n",
    "print(R)\n"
   ]
  },
  {
   "attachments": {},
   "cell_type": "markdown",
   "metadata": {},
   "source": [
    "Notice how the only the \"c\" from the attribute name \"char\" is printed out. This can be a difficult bug to deal.\n",
    "\n",
    "It gets worse if we try to create a relation with no tuples in the set"
   ]
  },
  {
   "cell_type": "code",
   "execution_count": 147,
   "metadata": {},
   "outputs": [
    {
     "name": "stdout",
     "output_type": "stream",
     "text": [
      "relation name = Q\n",
      "╒═════╤═════╤═════╤═════╕\n",
      "│ c   │ h   │ a   │ r   │\n",
      "╞═════╪═════╪═════╪═════╡\n",
      "╘═════╧═════╧═════╧═════╛\n"
     ]
    }
   ],
   "source": [
    "Q: Relation = Relation('Q',('char'),{}) #To create a tuple with only one item, you have add a comma after the item, otherwise Python will not recognize the variable as a tuple.\n",
    "print(Q)"
   ]
  },
  {
   "attachments": {},
   "cell_type": "markdown",
   "metadata": {},
   "source": [
    "That's not what we intended at all. We can get around this by adding a comma after the single element of the tuple (after both the 'char' and the 'a')..."
   ]
  },
  {
   "cell_type": "code",
   "execution_count": 148,
   "metadata": {},
   "outputs": [
    {
     "name": "stdout",
     "output_type": "stream",
     "text": [
      "relation name = P\n",
      "╒════════╕\n",
      "│ char   │\n",
      "╞════════╡\n",
      "│ a      │\n",
      "╘════════╛\n"
     ]
    }
   ],
   "source": [
    "P: Relation = Relation('P',('char',),{('a',)}) #To create a tuple with only one item, you have add a comma after the item, otherwise Python will not recognize the variable as a tuple.\n",
    "print(P)\n"
   ]
  },
  {
   "attachments": {},
   "cell_type": "markdown",
   "metadata": {},
   "source": [
    "... and by adding a single comma after the header when we create a relation with the set of tuples empty"
   ]
  },
  {
   "cell_type": "code",
   "execution_count": 149,
   "metadata": {},
   "outputs": [
    {
     "name": "stdout",
     "output_type": "stream",
     "text": [
      "relation name = Q\n",
      "╒════════╕\n",
      "│ char   │\n",
      "╞════════╡\n",
      "╘════════╛\n"
     ]
    }
   ],
   "source": [
    "Q: Relation = Relation('Q',('char',),{}) #To create a tuple with only one item, you have add a comma after the item, otherwise Python will not recognize the variable as a tuple.\n",
    "print(Q)\n"
   ]
  },
  {
   "cell_type": "markdown",
   "metadata": {},
   "source": [
    "A good LLM prompt to understand this issue better is\n",
    "\n",
    "     Why do i have to add a comma after a list with only one element in python? \n",
    "\n",
    "--- "
   ]
  },
  {
   "cell_type": "markdown",
   "metadata": {},
   "source": [
    "### Adding relational algebra operators to the Relation class"
   ]
  },
  {
   "attachments": {},
   "cell_type": "markdown",
   "metadata": {},
   "source": [
    "We are now in a position to start filling in the rest of the Relation class.\n",
    "\n",
    "I want to be able to apply the _relational operators_ to any relation or pair of relations. Using good object-oriented programming style, I'll add the relational operators as functions to the class.\n",
    "\n",
    "Let's begin by creating our own error handler a la the starter code\n"
   ]
  },
  {
   "cell_type": "code",
   "execution_count": 150,
   "metadata": {},
   "outputs": [],
   "source": [
    "class IncompatibleOperandError(Exception):\n",
    "    def __init__(self, msg: str) -> None:\n",
    "        super().__init__(msg)"
   ]
  },
  {
   "cell_type": "markdown",
   "metadata": {},
   "source": [
    "\n",
    "\n",
    "Let's begin with the union operator\n",
    "\n",
    "### Union ###\n",
    "Consider the relation R defined as before\n",
    "| char | int | \n",
    "| :-: | :-: | \n",
    "| $a$ | $1$ |\n",
    "| $b$ | $2$ | \n",
    "| $c$ | $3$ | \n",
    "| $d$ | $4$ | \n",
    "\n",
    "and consider a new relation Q defined as\n",
    "| char | int | \n",
    "| :-: | :-: | \n",
    "| $f$ | $3$ |\n",
    "\n",
    "The union $P\\cup Q$ is possible since the headers match, and is\n",
    "| char | int | \n",
    "| :-: | :-: | \n",
    "| $a$ | $1$ |\n",
    "| $b$ | $2$ | \n",
    "| $c$ | $3$ | \n",
    "| $d$ | $4$ | \n",
    "| $f$ | $3$ |  \n",
    "\n",
    "Let's check in the code."
   ]
  },
  {
   "cell_type": "code",
   "execution_count": 151,
   "metadata": {},
   "outputs": [],
   "source": [
    "class Relation:\n",
    "    def __init__(self, relation_name: str, relation_header: list[str], set_of_tuples: set[RelationTuple]) -> None:\n",
    "        self.name:str = relation_name # I threw in a string for the relation name for fun\n",
    "        self.header: list[str] = relation_header\n",
    "        self.set_of_tuples: set[RelationTuple] = set_of_tuples\n",
    "\n",
    "    def __str__(self) -> str:\n",
    "        value: str = f\"relation name = {self.name}\\n\" + tabulate(iter(self.set_of_tuples), self.header, tablefmt=\"fancy_grid\")\n",
    "        return value\n",
    "\n",
    "    def __eq__(self, other: Any) -> bool:\n",
    "        if not isinstance(other, Relation):\n",
    "            print(\"you are trying to compare a relation to something that is not a relation\")\n",
    "            return False\n",
    "        return (\n",
    "            self.header == other.header\n",
    "            and self.set_of_tuples == other.set_of_tuples\n",
    "        )\n",
    "    \n",
    "    ########################\n",
    "    # Relational Operators #\n",
    "    ########################\n",
    "    def union(self,other) -> 'Relation':\n",
    "        if not isinstance(other, Relation):\n",
    "            raise IncompatibleOperandError(f\"Tried to union a relation with a {type(other)}\") # don't attempt to union with something not a relation\n",
    "        # First, check the precondition to see if the headers are the same\n",
    "        if self.header != other.header:\n",
    "            raise IncompatibleOperandError(\"Tried to union two relations with different headers\")\n",
    "        \n",
    "        # Second, create a new header that is the union of the sets of tuples\n",
    "        name: str = self.name + \"\\u222A\" + other.name\n",
    "        header: list[str] = self.header\n",
    "        set_of_tuples = self.set_of_tuples\n",
    "        set_of_tuples = set_of_tuples.union(other.set_of_tuples)    # This is the union operator defined for set objects\n",
    "        return Relation(name,header,set_of_tuples) # Create a new relation\n",
    "        \n"
   ]
  },
  {
   "cell_type": "code",
   "execution_count": 152,
   "metadata": {},
   "outputs": [
    {
     "name": "stdout",
     "output_type": "stream",
     "text": [
      "relation name = R∪Q\n",
      "╒════════╤═══════╕\n",
      "│ char   │   int │\n",
      "╞════════╪═══════╡\n",
      "│ a      │     1 │\n",
      "├────────┼───────┤\n",
      "│ b      │     2 │\n",
      "├────────┼───────┤\n",
      "│ d      │     4 │\n",
      "├────────┼───────┤\n",
      "│ c      │     3 │\n",
      "├────────┼───────┤\n",
      "│ f      │     3 │\n",
      "╘════════╧═══════╛\n"
     ]
    }
   ],
   "source": [
    "    \n",
    "R = Relation(relation_name = 'R',relation_header = ('char','int'), set_of_tuples = {('a',1),('b',2),('c',3),('d',4)})\n",
    "Q = Relation('Q',('char','int'),{('f',3),}) # Notice the comma after the ('f',3) tuple. This create a set of tuples, with only one element in the set\n",
    "\n",
    "P: Relation = R.union(Q)\n",
    "print(P) # I can see that the relation name is a union when I print it out"
   ]
  },
  {
   "cell_type": "markdown",
   "metadata": {},
   "source": [
    "Let's check the error handling"
   ]
  },
  {
   "cell_type": "code",
   "execution_count": 153,
   "metadata": {},
   "outputs": [
    {
     "name": "stdout",
     "output_type": "stream",
     "text": [
      "Tried to union a relation with a <class 'str'>\n"
     ]
    }
   ],
   "source": [
    "try:\n",
    "    P.union('mystring')\n",
    "except IncompatibleOperandError as e:\n",
    "    print(e) "
   ]
  },
  {
   "cell_type": "code",
   "execution_count": 154,
   "metadata": {},
   "outputs": [
    {
     "name": "stdout",
     "output_type": "stream",
     "text": [
      "Tried to union two relations with different headers\n"
     ]
    }
   ],
   "source": [
    "W: Relation = Relation('Q',('bart','lisa'),{('f',3),}) # Notice the comma after the ('f',3) tuple. This create a set of tuples, with only one element in the set\n",
    "try:\n",
    "    P.union(W)\n",
    "except IncompatibleOperandError as e:\n",
    "    print(e) "
   ]
  },
  {
   "cell_type": "markdown",
   "metadata": {},
   "source": [
    "Notice that when we perform the union we don't add the tuples to R. Instead, we create a new set of tuples and return a brand new relation with those tuples."
   ]
  },
  {
   "attachments": {},
   "cell_type": "markdown",
   "metadata": {},
   "source": [
    "***\n",
    "\n",
    "\n",
    "#### Project ####\n",
    "\n",
    "We'll only implement a portion of this operator since we want to implement the rest in Project 3. Specifically, this project operation will only work to project to a single column.\n",
    " \n",
    "Consider the relation $P = R\\cup Q$ defined as before\n",
    "| char | int | \n",
    "| :-: | :-: | \n",
    "| $a$ | $1$ |\n",
    "| $b$ | $2$ | \n",
    "| $c$ | $3$ | \n",
    "| $d$ | $4$ |\n",
    "| $f$ | $3$ | \n",
    "\n",
    "We want to compute $\\pi_{char}(P)$, which does two things. \n",
    "* First, it creates a new relation.\n",
    "* Second, it populates the new relation with the char column.\n",
    "\n",
    "The result is the relation $\\pi_{char}(P)$\n",
    "| char | \n",
    "| :-: |\n",
    "| $a$ |\n",
    "| $b$ |\n",
    "| $c$ |\n",
    "| $d$ |\n",
    "| $f$ |\n",
    "\n",
    "***\n",
    "Here's the code"
   ]
  },
  {
   "cell_type": "code",
   "execution_count": 155,
   "metadata": {},
   "outputs": [],
   "source": [
    "class Relation:\n",
    "    def __init__(self, relation_name: str, relation_header: list[str], set_of_tuples: set[RelationTuple]) -> None:\n",
    "        self.name:str = relation_name # I threw in a string for the relation name for fun\n",
    "        self.header: list[str] = relation_header\n",
    "        self.set_of_tuples: set[RelationTuple] = set_of_tuples\n",
    "\n",
    "    def __str__(self) -> str:\n",
    "        value: str = f\"relation name = {self.name}\\n\" + tabulate(iter(self.set_of_tuples), self.header, tablefmt=\"fancy_grid\")\n",
    "        return value\n",
    "\n",
    "    def __eq__(self, other: Any) -> bool:\n",
    "        if not isinstance(other, Relation):\n",
    "            print(\"you are trying to compare a relation to something that is not a relation\")\n",
    "            return False\n",
    "        return (\n",
    "            self.header == other.header\n",
    "            and self.set_of_tuples == other.set_of_tuples\n",
    "        )\n",
    "    \n",
    "    ########################\n",
    "    # Relational Operators #\n",
    "    ########################\n",
    "    def union(self,other) -> 'Relation':\n",
    "        if not isinstance(other, Relation):\n",
    "            raise IncompatibleOperandError(f\"Tried to union a relation with a {type(other)}\") # don't attempt to union with something not a relation\n",
    "        # First, check the precondition to see if the headers are the same\n",
    "        if self.header != other.header:\n",
    "            raise IncompatibleOperandError(\"Tried to union two relations with different headers\")\n",
    "        \n",
    "        # Second, create a new header that is the union of the sets of tuples\n",
    "        name: str = self.name + \"\\u222A\" + other.name\n",
    "        header: list[str] = self.header\n",
    "        set_of_tuples = self.set_of_tuples\n",
    "        set_of_tuples = set_of_tuples.union(other.set_of_tuples)    # This is the union operator defined for set objects\n",
    "        return Relation(name,header,set_of_tuples) # Create a new relation\n",
    "\n",
    "    def project(self,column_header: str) -> 'Relation':\n",
    "        # Only a portion of this function is implemented. \n",
    "        # Specifically, only the portion that projects onto a single column.\n",
    "        # You have to implement the rest of this function in the Project 3\n",
    "        \n",
    "        # First, check the precondition\n",
    "        # The precondition for the project operator is that the column attribute\n",
    "        # must exist in the set of attributes\n",
    "        if column_header not in set(self.header):\n",
    "            raise IncompatibleOperandError(f\"Tried to project onto {column_header}, which isn't an attribute of the relation\")\n",
    "        \n",
    "        # Second, create a new relation that is the output of the projection operator.\n",
    "        # THe relation needs a name, a header, and the set of tuples\n",
    "        new_name = \"\\u03C0\" + \"_{\" + column_header + \"}(\" + self.name + \")\" # The \\u03c0 is a special code for a union symbol\n",
    "        new_header = (column_header,) # Notice the comma after \"column_header\", which forces the header to be a tuple\n",
    "        header_index = self.header.index(column_header) # Get the index of the header that matches the column you want\n",
    "        new_tuples: set[RelationTuple] = {(rtuple[header_index],1) for rtuple in self.set_of_tuples}\n",
    "        new_relation = Relation(new_name,new_header,new_tuples) # Create the relation\n",
    "        return new_relation \n"
   ]
  },
  {
   "attachments": {},
   "cell_type": "markdown",
   "metadata": {},
   "source": [
    "Let's now look at the output of the project operator. "
   ]
  },
  {
   "cell_type": "code",
   "execution_count": 156,
   "metadata": {},
   "outputs": [
    {
     "name": "stdout",
     "output_type": "stream",
     "text": [
      "relation name = π_{char}(R∪Q)\n",
      "╒════╤════════╕\n",
      "│    │   char │\n",
      "╞════╪════════╡\n",
      "│ a  │      1 │\n",
      "├────┼────────┤\n",
      "│ d  │      1 │\n",
      "├────┼────────┤\n",
      "│ b  │      1 │\n",
      "├────┼────────┤\n",
      "│ c  │      1 │\n",
      "├────┼────────┤\n",
      "│ f  │      1 │\n",
      "╘════╧════════╛\n"
     ]
    }
   ],
   "source": [
    "R: Relation = Relation(relation_name = 'R',relation_header = ('char','int'), set_of_tuples = {('a',1),('b',2),('c',3),('d',4)})\n",
    "Q: Relation = Relation('Q',('char','int'),{('f','3'),}) # Observe the comma after the ('f',3) tuple. This forces python to make the tuple the lone element of a set\n",
    "\n",
    "P: Relation = R.union(Q)\n",
    "M: Relation = P.project('char')\n",
    "print(M)\n"
   ]
  },
  {
   "attachments": {},
   "cell_type": "markdown",
   "metadata": {},
   "source": [
    "Let's project onto the 'int' column instead. Why does projecting onto the 'char' column produce five tuples but projecting onto the 'char' column only produce four tuples?"
   ]
  },
  {
   "cell_type": "code",
   "execution_count": 157,
   "metadata": {},
   "outputs": [
    {
     "name": "stdout",
     "output_type": "stream",
     "text": [
      "relation name = π_{int}(R∪Q)\n",
      "╒════╤═══════╕\n",
      "│    │   int │\n",
      "╞════╪═══════╡\n",
      "│  3 │     1 │\n",
      "├────┼───────┤\n",
      "│  2 │     1 │\n",
      "├────┼───────┤\n",
      "│  3 │     1 │\n",
      "├────┼───────┤\n",
      "│  1 │     1 │\n",
      "├────┼───────┤\n",
      "│  4 │     1 │\n",
      "╘════╧═══════╛\n"
     ]
    }
   ],
   "source": [
    "P = R.union(Q)\n",
    "M = P.project('int')\n",
    "print(M)"
   ]
  },
  {
   "attachments": {},
   "cell_type": "markdown",
   "metadata": {},
   "source": [
    "The answer is that the set of tuples is a set, and sets don't have repeats. \n",
    "\n",
    "Without ignoring repeats, we have the relation $P$ defined as\n",
    "| char | int | \n",
    "| :-: | :-: | \n",
    "| $a$ | $1$ |\n",
    "| $b$ | $2$ | \n",
    "| $c$ | $3$ | \n",
    "| $d$ | $4$ |\n",
    "| $f$ | $3$ | \n",
    "\n",
    "yielding $\\pi_{int}(P)$ \n",
    "| int | \n",
    "| :-: | \n",
    "| $1$ |\n",
    "| $2$ | \n",
    "| $3$ | \n",
    "| $4$ |\n",
    "| $3$ |\n",
    "\n",
    "but the \"3\" appears in the set twice, so the correct answer is\n",
    "$\\pi_{int}(P)$ \n",
    "| int | \n",
    "| :-: | \n",
    "| $1$ |\n",
    "| $2$ | \n",
    "| $3$ | \n",
    "| $4$ |\n"
   ]
  },
  {
   "cell_type": "markdown",
   "metadata": {},
   "source": [
    "---"
   ]
  },
  {
   "cell_type": "markdown",
   "metadata": {},
   "source": [
    "You can ignore the rest of this notebook. I'm using it to create material for the slides in class.\n",
    "\n",
    "#### What is a database? ###\n",
    "\n",
    "Consider the following datalog program\n",
    "\n",
    "<pre>\n",
    "Schemes:\n",
    "   childOf(P, C)       # P = Parent, C = Child \n",
    "   marriedTo(S1, S2)   # S1 = Spouse 1, S2 = Spouse 2\n",
    "\n",
    "Facts:<br/>\n",
    "   marriedTo('Jack', 'Jill').\n",
    "   marriedTo('Annie', 'Aaron').\n",
    "   marriedTo('Molly', 'Matt').\n",
    "   childOf('Jack', 'Matt').\n",
    "   childOf('Annie', 'Molly').   \n",
    "   childOf('Matt', 'Nate').\n",
    "\n",
    "Rules:\n",
    "   childOf(Y, X) :- childOf(Z, X), marriedTo(Y, Z).\n",
    "   marriedTo(X, Y) :- marriedTo(Y, X).\n",
    "\n",
    "Queries:\n",
    "   marriedTo('Jack', 'Jill')?\n",
    "   childOf('Aaron', 'Molly')? \n",
    "   childOf(P, 'Nate')?\n",
    "</pre>\n"
   ]
  },
  {
   "cell_type": "markdown",
   "metadata": {},
   "source": [
    "This datalog program should create a database with two relations. Let's create them. I'm going to do this without having the _name_ variable in the `Relation` class since this matches the starter code more closely."
   ]
  },
  {
   "cell_type": "code",
   "execution_count": 158,
   "metadata": {},
   "outputs": [],
   "source": [
    "class Relation:\n",
    "    def __init__(self, relation_header: list[str], set_of_tuples: set[RelationTuple]) -> None:\n",
    "        self.header = list(relation_header)\n",
    "        self.set_of_tuples = set(set_of_tuples)\n",
    "\n",
    "    def __str__(self) -> str:\n",
    "        value: str = tabulate(iter(self.set_of_tuples), self.header, tablefmt=\"fancy_grid\")\n",
    "        return value\n",
    "\n",
    "    def __eq__(self, other: Any) -> bool:\n",
    "        if not isinstance(other, Relation):\n",
    "            print(\"you are trying to compare a relation to something that is not a relation\")\n",
    "            return False\n",
    "        return (\n",
    "            self.header == other.header\n",
    "            and self.set_of_tuples == other.set_of_tuples\n",
    "        )\n",
    "    \n",
    "    ########################\n",
    "    # Relational Operators #\n",
    "    ########################\n",
    "    def union(self,other) -> 'Relation':\n",
    "        if not isinstance(other, Relation):\n",
    "            raise IncompatibleOperandError(f\"Tried to union a relation with a {type(other)}\") # don't attempt to union with something not a relation\n",
    "        # First, check the precondition to see if the headers are the same\n",
    "        if self.header != other.header:\n",
    "            raise IncompatibleOperandError(\"Tried to union two relations with different headers\")\n",
    "        \n",
    "        # Second, create a new header that is the union of the sets of tuples\n",
    "        header: list[str] = self.header\n",
    "        set_of_tuples = self.set_of_tuples\n",
    "        set_of_tuples = set_of_tuples.union(other.set_of_tuples)    # This is the union operator defined for set objects\n",
    "        return Relation(header,set_of_tuples) # Create a new relation\n",
    "\n",
    "    def project(self,column_header: str) -> 'Relation':\n",
    "        # Only a portion of this function is implemented. \n",
    "        # Specifically, only the portion that projects onto a single column.\n",
    "        # You have to implement the rest of this function in the Project 3\n",
    "        \n",
    "        # First, check the precondition\n",
    "        # The precondition for the project operator is that the column attribute\n",
    "        # must exist in the set of attributes\n",
    "        if column_header not in set(self.header):\n",
    "            raise IncompatibleOperandError(f\"Tried to project onto {column_header}, which isn't an attribute of the relation\")\n",
    "        \n",
    "        # Second, create a new relation that is the output of the projection operator.\n",
    "        # THe relation needs a name, a header, and the set of tuples\n",
    "        new_header = (column_header,) # Notice the comma after \"column_header\", which forces the header to be a tuple\n",
    "        header_index = self.header.index(column_header) # Get the index of the header that matches the column you want\n",
    "        # I modified this next line to produce \"one-ples\"\n",
    "        new_tuples: set[RelationTuple] = {(rtuple[header_index],) for rtuple in self.set_of_tuples} \n",
    "        new_relation = Relation(new_header,new_tuples) # Create the relation\n",
    "        return new_relation "
   ]
  },
  {
   "cell_type": "code",
   "execution_count": 159,
   "metadata": {},
   "outputs": [
    {
     "name": "stdout",
     "output_type": "stream",
     "text": [
      "╒═══════╤═══════╕\n",
      "│ P     │ C     │\n",
      "╞═══════╪═══════╡\n",
      "│ Matt  │ Nate  │\n",
      "├───────┼───────┤\n",
      "│ Jack  │ Matt  │\n",
      "├───────┼───────┤\n",
      "│ Annie │ Molly │\n",
      "╘═══════╧═══════╛\n",
      "╒═══════╤═══════╕\n",
      "│ S1    │ S2    │\n",
      "╞═══════╪═══════╡\n",
      "│ Molly │ Matt  │\n",
      "├───────┼───────┤\n",
      "│ Annie │ Aaron │\n",
      "├───────┼───────┤\n",
      "│ Jack  │ Jill  │\n",
      "╘═══════╧═══════╛\n"
     ]
    }
   ],
   "source": [
    "childOf: Relation = Relation(relation_header=['P','C'],\n",
    "                             set_of_tuples={('Jack', 'Matt'),\n",
    "                                             ('Annie', 'Molly'),\n",
    "                                             ('Matt','Nate')})\n",
    "marriedTo: Relation = Relation(relation_header=['S1','S2'],\n",
    "                             set_of_tuples={('Jack', 'Jill'),\n",
    "                                             ('Annie', 'Aaron'),\n",
    "                                             ('Molly','Matt')})\n",
    "\n",
    "print(childOf)\n",
    "print(marriedTo)"
   ]
  },
  {
   "cell_type": "markdown",
   "metadata": {},
   "source": [
    "How do I store this in a database? Since we are saying that a database is just a set of relations, let's define a relation object as a dictionary of relations. We'll use the relation's name as the key in the dictionary."
   ]
  },
  {
   "cell_type": "code",
   "execution_count": 160,
   "metadata": {},
   "outputs": [
    {
     "name": "stdout",
     "output_type": "stream",
     "text": [
      "relation childOf is \n",
      "╒═══════╤═══════╕\n",
      "│ P     │ C     │\n",
      "╞═══════╪═══════╡\n",
      "│ Matt  │ Nate  │\n",
      "├───────┼───────┤\n",
      "│ Jack  │ Matt  │\n",
      "├───────┼───────┤\n",
      "│ Annie │ Molly │\n",
      "╘═══════╧═══════╛\n",
      "relation marriedTo is \n",
      "╒═══════╤═══════╕\n",
      "│ S1    │ S2    │\n",
      "╞═══════╪═══════╡\n",
      "│ Molly │ Matt  │\n",
      "├───────┼───────┤\n",
      "│ Annie │ Aaron │\n",
      "├───────┼───────┤\n",
      "│ Jack  │ Jill  │\n",
      "╘═══════╧═══════╛\n"
     ]
    }
   ],
   "source": [
    "database: dict['str',Relation] = {'childOf': childOf, 'marriedTo': marriedTo}\n",
    "for relation_name in database.keys():\n",
    "    print(f\"relation {relation_name} is \\n{database[relation_name]}\")"
   ]
  },
  {
   "cell_type": "markdown",
   "metadata": {},
   "source": [
    "Let's create the relation that we know should form when I want to do a project operation. Let's project the _childOf_ relation onto the _P_ column, \n",
    "\n",
    "${\\rm answer} = \\pi_{P}({\\rm database['childOf']})$\n",
    "\n",
    "When we do the math by hand, we know that we should end up with a relation with one column and \"one-ples\" of the parents.  I'm calling this the _math_answer_ because this is what happens when we do the project operation by hand. We'll create a relation for this answer we obtained by hand."
   ]
  },
  {
   "cell_type": "code",
   "execution_count": 161,
   "metadata": {},
   "outputs": [
    {
     "name": "stdout",
     "output_type": "stream",
     "text": [
      "╒═══════╕\n",
      "│ P     │\n",
      "╞═══════╡\n",
      "│ Jack  │\n",
      "├───────┤\n",
      "│ Matt  │\n",
      "├───────┤\n",
      "│ Annie │\n",
      "╘═══════╛\n"
     ]
    }
   ],
   "source": [
    "math_answer: Relation = Relation(relation_header=['P'],\n",
    "                             set_of_tuples={('Matt',), ('Jack',), ('Annie',)})\n",
    "print(math_answer)"
   ]
  },
  {
   "cell_type": "markdown",
   "metadata": {},
   "source": [
    "Let's now run the project function from the relation class to test whether the _project_ function we've implemented in code actually works."
   ]
  },
  {
   "cell_type": "code",
   "execution_count": 162,
   "metadata": {},
   "outputs": [
    {
     "name": "stdout",
     "output_type": "stream",
     "text": [
      "╒═══════╕\n",
      "│ P     │\n",
      "╞═══════╡\n",
      "│ Jack  │\n",
      "├───────┤\n",
      "│ Matt  │\n",
      "├───────┤\n",
      "│ Annie │\n",
      "╘═══════╛\n"
     ]
    }
   ],
   "source": [
    "code_answer = database['childOf'].project('P')\n",
    "print(code_answer)"
   ]
  },
  {
   "cell_type": "markdown",
   "metadata": {},
   "source": [
    "And we can put this into an assert statement to test that the code output matches the math answer."
   ]
  },
  {
   "cell_type": "code",
   "execution_count": 163,
   "metadata": {},
   "outputs": [],
   "source": [
    "assert code_answer.__str__() == math_answer.__str__(), \"Project function not implemented correctly\""
   ]
  }
 ],
 "metadata": {
  "kernelspec": {
   "display_name": "Python 3",
   "language": "python",
   "name": "python3"
  },
  "language_info": {
   "codemirror_mode": {
    "name": "ipython",
    "version": 3
   },
   "file_extension": ".py",
   "mimetype": "text/x-python",
   "name": "python",
   "nbconvert_exporter": "python",
   "pygments_lexer": "ipython3",
   "version": "3.10.2"
  },
  "orig_nbformat": 4
 },
 "nbformat": 4,
 "nbformat_minor": 2
}
