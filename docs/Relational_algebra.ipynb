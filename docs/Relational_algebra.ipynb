{
 "cells": [
  {
   "attachments": {},
   "cell_type": "markdown",
   "metadata": {},
   "source": [
    "## Introduction to relations and relational algebra\n",
    "CS 236 <br>\n",
    "Fall 2025\n",
    "\n",
    "Michael A. Goodrich and Eric G. Mercer<br>\n",
    "Brigham Young University <br>\n",
    "March 2023, Updated Oct 2024 and Sept 2025 <br>\n",
    "Input from ChatPT-5 in response to prompts on (a) how to introduce parameterized tests in pytest and (b) how to start thinking about test coverage using input partitioning\n",
    "***"
   ]
  },
  {
   "cell_type": "markdown",
   "metadata": {},
   "source": [
    "## 0. Overview\n",
    "\n",
    "This notebook introduces set/relational operations and shows how to write high-quality unit tests in Python (with `pytest`). We will:\n",
    "- Review the definition of a relation \n",
    "- Demonstrate implementations of relations and relational operators in code\n",
    "- Describe how to construct and use **parameterized tests**\n",
    "- Discuss **test coverage** via **input partitioning**\n",
    "- Clarify the difference between **copying** data vs **referencing** it in Python\n",
    "\n",
    "---"
   ]
  },
  {
   "attachments": {},
   "cell_type": "markdown",
   "metadata": {},
   "source": [
    "## 1. What is a Relation\n",
    "\n",
    "The textbook defines as relation as a set of mathematical tuples:\n",
    "\n",
    "* $R\\subset A\\times B$\n",
    "* $R=\\{(a,1),(b,2),(c,3),(d,4)\\}$\n",
    "\n",
    "In relational databases, the same relation is represented as a table instead of a set:\n",
    "\n",
    "| char | int | \n",
    "| :-: | :-: | \n",
    "| $a$ | $1$ |\n",
    "| $b$ | $2$ | \n",
    "| $c$ | $3$ | \n",
    "| $d$ | $4$ | \n",
    "\n",
    "The first row of the table contains the **attributes** associated with each element of the tuple. We can collecte the attributes into a __header__. You can think of the attributed specified in the header as assigning names to each column. For example, the first column contains elements from the set $A$. The header contains information about the sets from which the cartesian product is formed, $R\\subset A\\times B$.\n",
    "\n",
    "Below the header are rows containing __tuples__. The tuples are the elements of the __set__ the defines the relation, $R=\\{(a,1),(b,2),(c,3),(d,4)\\}$.\n",
    "\n",
    "Just like the order of elements in a set doesn't matter\n",
    "\n",
    "* $\\{(a,1),(b,2),(c,3),(d,4)\\} = \\{(d,4),(b,2),(a,1),(c,3)\\}$\n",
    "\n",
    "The order of the rows in the table doesn't matter (except for the header). The following table represents the same relation as the table above.\n",
    "\n",
    "| char | int | \n",
    "| :-: | :-: | \n",
    "| $d$ | $4$ | \n",
    "| $a$ | $1$ |\n",
    "| $b$ | $2$ | \n",
    "| $c$ | $3$ | \n",
    "\n",
    "\n",
    "***"
   ]
  },
  {
   "attachments": {},
   "cell_type": "markdown",
   "metadata": {},
   "source": [
    "## 2. Encoding a Relation as a Python Class\n",
    "\n",
    "Let's construct a class that represents a relation.  The variables of this function need to match the parts of the table. Thus, there needs to be a variable representing the header and another variable representing the set of tuples. Similar to how the Project 3 started code does it, we'll define the following\n",
    "- The relation name as a `str`. You won't see the relation name in the starter code for Project 3, but it's useful here since it allows us to track a few things in the tutorial. \n",
    "- The relation header will be defined as a list of strings: `list[str]`\n",
    "- Each tuple in the relation will be defined as a new type called `RelationTuple`\n",
    "  - The `RelationTuple` will be built using Python's default `tuple` type.  \n",
    "  - We'll allow both integers and strings to be the elements of a tuple, so look for the vertical bar that says the tuple types can be either an int or a str yielding `RelationTuple = tuple[str | int]`\n",
    "  - We won't specify how many elements will be in the `RelationTuple` so we'll use Python's `...` to indicate that we can have several tuples yielding `RelationTuple = tuple[str | int, ...]`\n",
    "- A helper `__str__` method that returns a string in the correct format."
   ]
  },
  {
   "cell_type": "code",
   "execution_count": 85,
   "metadata": {},
   "outputs": [
    {
     "name": "stdout",
     "output_type": "stream",
     "text": [
      "relation name = R\n",
      "╒════════╤═══════╕\n",
      "│ char   │   int │\n",
      "╞════════╪═══════╡\n",
      "│ a      │     1 │\n",
      "├────────┼───────┤\n",
      "│ b      │     2 │\n",
      "├────────┼───────┤\n",
      "│ d      │     4 │\n",
      "├────────┼───────┤\n",
      "│ c      │     3 │\n",
      "╘════════╧═══════╛\n",
      "relation name = Q\n",
      "╒═════╤═════╕\n",
      "│ C   │ D   │\n",
      "╞═════╪═════╡\n",
      "╘═════╧═════╛\n",
      "relation name = W\n",
      "╒═════╕\n",
      "│   A │\n",
      "╞═════╡\n",
      "│   1 │\n",
      "├─────┤\n",
      "│   2 │\n",
      "├─────┤\n",
      "│   3 │\n",
      "╘═════╛\n"
     ]
    }
   ],
   "source": [
    "from tabulate import tabulate  # requires the tabulate module\n",
    "\n",
    "RelationTuple = tuple[str | int, ...]\n",
    "        \n",
    "class Relation:\n",
    "    def __init__(self, relation_name: str, relation_header: list[str], set_of_tuples: set[RelationTuple]) -> None:\n",
    "        self.name:str = relation_name # I threw in a string for the relation name to help show how the math works\n",
    "        self.header: list[str] = relation_header\n",
    "        self.set_of_tuples: set[RelationTuple] = set_of_tuples\n",
    "\n",
    "    def __str__(self) -> str:\n",
    "        value: str = f\"relation name = {self.name}\\n\" + tabulate(iter(self.set_of_tuples), self.header, tablefmt=\"fancy_grid\")\n",
    "        return value\n",
    "        \n",
    "    \n",
    "R: Relation = Relation(relation_name = \"R\",relation_header = ('char','int'), set_of_tuples = {('a',1),('b',2),('c',3),('d',4)})\n",
    "print(R)\n",
    "\n",
    "Q: Relation = Relation('Q',('C','D'),{})\n",
    "print(Q)\n",
    "\n",
    "# The following code will cause the __str__ method to crash\n",
    "# The problem is that tabulate requires strings and the types in the set are ints\n",
    "# W: Relation = Relation('W',('A'), {1, 2, 3})\n",
    "# They must be tuples. Later, the trailing comma will be explained\n",
    "W: Relation = Relation('W',('A'), {(1,), (2,), (3,)})\n",
    "print(W)\n"
   ]
  },
  {
   "attachments": {},
   "cell_type": "markdown",
   "metadata": {},
   "source": [
    "The top row in the tables above consist of the relation header. The remaining rows represent the set of tuples contained in the relation. Each line contains a unique tuple.\n",
    "\n",
    "The order of the tuples in the set of tuples doesn't matter since sets are not ordered, so the relation R2 defined below is the same as R defined above.\n",
    "\n",
    "---"
   ]
  },
  {
   "cell_type": "markdown",
   "metadata": {},
   "source": [
    "#### 2.1 The `__eq__` Dunder Method\n",
    "\n",
    "A **dunder method** is any method in Python that begins and ends with **d**ouble **under**scores. There are several dunder methods defined each time a class is defined. Sometimes, we need to change the default definition of the dunder methods that are automatically created so that they behave like we want. It will be necessary to do this for the dunder method `__eq__` becaue the default implementation does not correctly check whether two relations are equal. \n",
    "\n",
    "Consider whether you think the following statement that checks whether two relations are equal should be true or false."
   ]
  },
  {
   "cell_type": "code",
   "execution_count": 86,
   "metadata": {},
   "outputs": [
    {
     "name": "stdout",
     "output_type": "stream",
     "text": [
      "relation name = R\n",
      "╒════════╤═══════╕\n",
      "│ char   │   int │\n",
      "╞════════╪═══════╡\n",
      "│ a      │     1 │\n",
      "├────────┼───────┤\n",
      "│ b      │     2 │\n",
      "├────────┼───────┤\n",
      "│ d      │     4 │\n",
      "├────────┼───────┤\n",
      "│ c      │     3 │\n",
      "╘════════╧═══════╛\n",
      "relation name = R\n",
      "╒════════╤═══════╕\n",
      "│ char   │   int │\n",
      "╞════════╪═══════╡\n",
      "│ a      │     1 │\n",
      "├────────┼───────┤\n",
      "│ b      │     2 │\n",
      "├────────┼───────┤\n",
      "│ d      │     4 │\n",
      "├────────┼───────┤\n",
      "│ c      │     3 │\n",
      "╘════════╧═══════╛\n",
      "The default __eq__ method says the statement R==R2 is False\n"
     ]
    }
   ],
   "source": [
    "R2: Relation = Relation(relation_name = \"R\",relation_header = ('char','int'), set_of_tuples = {('a',1),('b',2),('c',3),('d',4)})\n",
    "print(R)\n",
    "print(R2)\n",
    "print(f\"The default __eq__ method says the statement R==R2 is {R==R2}\")"
   ]
  },
  {
   "attachments": {},
   "cell_type": "markdown",
   "metadata": {},
   "source": [
    "Mathematically, $R=R2$ since (a) the headers are equal and (b) the two relations have the same set of tuples. The reason the default implementation of `__eq__` says that R does not equal R2 is the default implementation **doesn't check what's inside the relations** but rather **checks whether R and R2 are two different names for the same object**. In other words, `__eq__` just checks whether the two relation names are the same object.  When we print out the `id` information about each instance, we see that the objects have different addresses."
   ]
  },
  {
   "cell_type": "code",
   "execution_count": 87,
   "metadata": {},
   "outputs": [
    {
     "name": "stdout",
     "output_type": "stream",
     "text": [
      "4431646832\n",
      "4431645872\n"
     ]
    }
   ],
   "source": [
    "print(id(R))\n",
    "print(id(R2))"
   ]
  },
  {
   "attachments": {},
   "cell_type": "markdown",
   "metadata": {},
   "source": [
    "We will need to define an equality operator that checks the contents of the relation (both header and set of tuples) rather than just the id's of the two relations. A good discussion of how to do this can be found here: \n",
    "\n",
    "https://stackoverflow.com/questions/1227121/compare-object-instances-for-equality-by-their-attributes\n",
    "\n",
    "Let's redefine the class to define the `__eq__` function."
   ]
  },
  {
   "cell_type": "code",
   "execution_count": 88,
   "metadata": {},
   "outputs": [
    {
     "name": "stdout",
     "output_type": "stream",
     "text": [
      "True\n"
     ]
    }
   ],
   "source": [
    "from typing import Any\n",
    "\n",
    "class Relation:\n",
    "    def __init__(self, relation_name: str, relation_header: list[str], set_of_tuples: set[RelationTuple]) -> None:\n",
    "        self.name:str = relation_name # I threw in a string for the relation name for fun\n",
    "        self.header: list[str] = relation_header\n",
    "        self.set_of_tuples: set[RelationTuple] = set_of_tuples\n",
    "\n",
    "    def __str__(self) -> str:\n",
    "        value: str = f\"relation name = {self.name}\\n\" + tabulate(iter(self.set_of_tuples), self.header, tablefmt=\"fancy_grid\")\n",
    "        return value\n",
    "\n",
    "    def __eq__(self, other: Any) -> bool:\n",
    "        if not isinstance(other, Relation):\n",
    "            print(\"you are trying to compare a relation to something that is not a relation\")\n",
    "            return False\n",
    "        return (\n",
    "            self.header == other.header\n",
    "            and self.set_of_tuples == other.set_of_tuples\n",
    "        )\n",
    "\n",
    "    \n",
    "R: Relation = Relation(relation_name = \"R\",relation_header = ('char','int'), set_of_tuples = {('a',1),('b',2),('c',3),('d',4)})\n",
    "R2: Relation = Relation(relation_name = \"R2\",relation_header = ('char','int'), set_of_tuples = {('b',2),('a',1),('c',3),('d',4)})\n",
    "print(R==R2)"
   ]
  },
  {
   "attachments": {},
   "cell_type": "markdown",
   "metadata": {},
   "source": [
    "Defining the `__eq__` function within the class allows us to use the == operator to check whether the contents of the two relations are the same. Notice a few things about the `__eq__` method:\n",
    "\n",
    "- Two arguments are passed to the `__eq__` method: `self` and `other`. \n",
    "  - `self` refers to the instance of the relation class\n",
    "  - `other` refers to whatever the relation can be compared to. The code above uses the `Any` type to say that we can compare anything to the relation.\n",
    "- The first line of the method tests whether the `other` object passed in is a `Relation` type. If it's not, the function returns false.\n",
    "- The `__eq__` method returns the boolean expression that tests whether both headers match as well as whether the set of tuples match.\n",
    "\n",
    "***\n"
   ]
  },
  {
   "cell_type": "markdown",
   "metadata": {},
   "source": [
    "#### 2.2 Copy vs Reference (Aliasing)\n",
    "\n",
    "In Python, variables **hold references** to objects. Assigning one variable to another **does not make a new copy** — both names refer to the **same object** (aliasing). Mutating through either name changes the single shared object.\n",
    "\n",
    "**Ways to copy (make a distinct object):**\n",
    "- Shallow copy for built-ins:\n",
    "  - List: `lst.copy()`, `list(lst)`, `lst[:]`\n",
    "  - Dict: `d.copy()`, `dict(d)`\n",
    "  - Set: `s.copy()`, `set(s)`\n",
    "- `copy.copy(x)` for a shallow copy of general objects\n",
    "- `copy.deepcopy(x)` for a deep copy when nested objects must be copied too\n",
    "\n",
    "**Rules of thumb**\n",
    "- If you plan to **mutate**, decide whether that mutation should be **shared** (reference) or **isolated** (copy).\n",
    "- For **immutable** types (e.g., `int`, `str`, `tuple` of immutables), aliasing is harmless because the object itself cannot be mutated.\n",
    "\n",
    "Below we demonstrate aliasing vs copying for a list and show the same idea for sets and dicts."
   ]
  },
  {
   "cell_type": "markdown",
   "metadata": {},
   "source": [
    "####  2.3 Sometimes, Copying Creates New Objects\n",
    "\n",
    "Let's start with how some of our intuitions think copying should work in Python."
   ]
  },
  {
   "cell_type": "code",
   "execution_count": 89,
   "metadata": {},
   "outputs": [
    {
     "name": "stdout",
     "output_type": "stream",
     "text": [
      "Happy\n",
      "Happy Birthday\n",
      "False\n",
      "4425998784\n",
      "4432820784\n"
     ]
    }
   ],
   "source": [
    "string1: str = \"Happy\"\n",
    "string2: str = string1 + \" Birthday\"\n",
    "\n",
    "print(string1)\n",
    "print(string2)\n",
    "print(string1 == string2)\n",
    "print(id(string1))\n",
    "print(id(string2))"
   ]
  },
  {
   "cell_type": "markdown",
   "metadata": {},
   "source": [
    "When we copy a string to another string, the copy creates a new instance of the string. When we modify the copy, only the copy is changed.  We showed three pieces of evidence to support this:\n",
    "- we printed both strings and saw that they were different\n",
    "- we used `==` to show that the strings were different\n",
    "- we printed the `id` of both strings and showed that they were different\n"
   ]
  },
  {
   "cell_type": "markdown",
   "metadata": {},
   "source": [
    "#### 2.4 Sometimes, Copying Only Copies a Reference\n",
    "\n",
    "Let's see what happens when we copy a relation. We'll create a copy and print the `id` of both the original and the copy."
   ]
  },
  {
   "cell_type": "code",
   "execution_count": 90,
   "metadata": {},
   "outputs": [
    {
     "name": "stdout",
     "output_type": "stream",
     "text": [
      "4432623232\n",
      "4432623232\n"
     ]
    }
   ],
   "source": [
    "R: Relation = Relation(relation_name = \"R\",relation_header = ('char','int'), set_of_tuples = {('a',1),('b',2),('c',3),('d',4)})\n",
    "Q: Relation = R\n",
    "\n",
    "print(id(R))\n",
    "print(id(Q))"
   ]
  },
  {
   "cell_type": "markdown",
   "metadata": {},
   "source": [
    "Notice that the two objects have the same `id`. The problem is that Python defaults to creating a **reference** to the original object. This means that if we modify the copy we also modify the original. We can see this if I overwrite the header of the copy and then print out the header of the original and the copy. "
   ]
  },
  {
   "cell_type": "code",
   "execution_count": 91,
   "metadata": {},
   "outputs": [
    {
     "name": "stdout",
     "output_type": "stream",
     "text": [
      "Header of R before modification = ('char', 'int')\n",
      "Header of Q before modification = ('char', 'int')\n",
      "Header of R after modification = ['bart', 'lisa']\n",
      "Header of Q after modification = ['bart', 'lisa']\n"
     ]
    }
   ],
   "source": [
    "print(f'Header of R before modification = {R.header}')\n",
    "print(f'Header of Q before modification = {Q.header}')\n",
    "\n",
    "Q.header = ['bart', 'lisa']\n",
    "\n",
    "print(f'Header of R after modification = {R.header}')\n",
    "print(f'Header of Q after modification = {Q.header}')\n"
   ]
  },
  {
   "cell_type": "markdown",
   "metadata": {},
   "source": [
    "Notice how both the copy and the original are modified. This is because the copy created a new pointer to the original relation, so when we modified the memory to which the pointer referenced the we also modified the original."
   ]
  },
  {
   "cell_type": "markdown",
   "metadata": {},
   "source": [
    "#### 2.5 You Can Define Your Own Form of Copy\n",
    "\n",
    "We can fix this by defining our own `__copy__` method. A good LLM prompt to explore more is:\n",
    "\n",
    "     is there a dunder method in python that describes how to perform a copy operation of an object\n"
   ]
  },
  {
   "cell_type": "markdown",
   "metadata": {},
   "source": [
    "#### 2.6 Python Tools for Making Deep Copies\n",
    "\n",
    "Python's `deepcopy` creates a new instance of the object."
   ]
  },
  {
   "cell_type": "code",
   "execution_count": 92,
   "metadata": {},
   "outputs": [
    {
     "name": "stdout",
     "output_type": "stream",
     "text": [
      "4426134064\n",
      "4431657008\n",
      "Header of R before modification = ('char', 'int')\n",
      "Header of Q before modification = ('char', 'int')\n",
      "Header of R before modification = ('char', 'int')\n",
      "Header of Q before modification = ['bart', 'lisa']\n",
      "Header of R after modification = ('char', 'int')\n",
      "Header of Q after modification = ['bart', 'lisa']\n"
     ]
    }
   ],
   "source": [
    "from copy import deepcopy\n",
    "\n",
    "R: Relation = Relation(relation_name = \"R\",relation_header = ('char','int'), set_of_tuples = {('a',1),('b',2),('c',3),('d',4)})\n",
    "Q: Relation = deepcopy(R)\n",
    "\n",
    "print(id(R))\n",
    "print(id(Q))\n",
    "\n",
    "print(f'Header of R before modification = {R.header}')\n",
    "print(f'Header of Q before modification = {Q.header}')\n",
    "\n",
    "Q.header = ['bart', 'lisa']\n",
    "\n",
    "print(f'Header of R before modification = {R.header}')\n",
    "print(f'Header of Q before modification = {Q.header}')\n",
    "\n",
    "Q.header = ['bart', 'lisa']\n",
    "\n",
    "print(f'Header of R after modification = {R.header}')\n",
    "print(f'Header of Q after modification = {Q.header}')"
   ]
  },
  {
   "cell_type": "markdown",
   "metadata": {},
   "source": [
    "---\n"
   ]
  },
  {
   "cell_type": "markdown",
   "metadata": {},
   "source": [
    "## 3. Notes on the Starter Code\n",
    "\n",
    "There are a few things in the starter code that have been confusing to students in previous semesters. \n",
    "\n",
    "#### 3.1  Creating New Initalized Lists\n",
    "\n",
    "**Note that some of the information shared here was culled from copilot in response to a prompt on differences in initalizing member variables in the starter code.**\n",
    "\n",
    "Starter code is provided for project 3. It has a subtle but important difference with the definition of the class above. Specifically, assigning the `relation_header` to the class variable `self.header`, which occurs in `__init__`. In the code above, the assignment is\n",
    "\n",
    "`self.header: list[str] = relation_header`\n",
    "\n",
    "but in the starter code the assigment is \n",
    "\n",
    "`self.header = list(relation_header)`\n",
    "\n",
    "What's the difference? Let's experiment with some variables outside of the definition of the Relation class. "
   ]
  },
  {
   "cell_type": "code",
   "execution_count": 93,
   "metadata": {},
   "outputs": [
    {
     "name": "stdout",
     "output_type": "stream",
     "text": [
      "The original list has id = 4438924096\n",
      "The assignment operator in version 1 has id = 4438924096\n",
      "The assignment operator in version 2 has id = 4438768064\n"
     ]
    }
   ],
   "source": [
    "relation_header: list[str] = ['A', 'B', 'C']\n",
    "header_v1: list[str] = relation_header\n",
    "header_v2 = list(relation_header)\n",
    "\n",
    "print(f\"The original list has id = {id(relation_header)}\")\n",
    "print(f\"The assignment operator in version 1 has id = {id(header_v1)}\")\n",
    "print(f\"The assignment operator in version 2 has id = {id(header_v2)}\")"
   ]
  },
  {
   "cell_type": "markdown",
   "metadata": {},
   "source": [
    "Notice that the id's for the original list and the first version of the header have the same id, but the id's of the original list and the second version of the header have different id's. Stated simply,\n",
    " - the assignment `header_v1: list[str] = relation_header` copies a *reference* (e.g., the pointer)\n",
    " - the assignment `header_v2 = list(relation_header)` creates a brand new list object\n",
    "\n",
    "You can tell that the second assignment creates a brand new list object because it uses the formatting that we use whenever we create a new object in Python. The `list(stuff)` creates a new instance of a list object, where `stuff` initializes the list object. We can confirm that a new list object is created by asking Python about the list keyword, as follows:"
   ]
  },
  {
   "cell_type": "code",
   "execution_count": 94,
   "metadata": {},
   "outputs": [
    {
     "name": "stdout",
     "output_type": "stream",
     "text": [
      "Help on class list in module builtins:\n",
      "\n",
      "class list(object)\n",
      " |  list(iterable=(), /)\n",
      " |\n",
      " |  Built-in mutable sequence.\n",
      " |\n",
      " |  If no argument is given, the constructor creates a new empty list.\n",
      " |  The argument must be an iterable if specified.\n",
      " |\n",
      " |  Methods defined here:\n",
      " |\n",
      " |  __add__(self, value, /)\n",
      " |      Return self+value.\n",
      " |\n",
      " |  __contains__(self, key, /)\n",
      " |      Return bool(key in self).\n",
      " |\n",
      " |  __delitem__(self, key, /)\n",
      " |      Delete self[key].\n",
      " |\n",
      " |  __eq__(self, value, /)\n",
      " |      Return self==value.\n",
      " |\n",
      " |  __ge__(self, value, /)\n",
      " |      Return self>=value.\n",
      " |\n",
      " |  __getattribute__(self, name, /)\n",
      " |      Return getattr(self, name).\n",
      " |\n",
      " |  __getitem__(self, index, /)\n",
      " |      Return self[index].\n",
      " |\n",
      " |  __gt__(self, value, /)\n",
      " |      Return self>value.\n",
      " |\n",
      " |  __iadd__(self, value, /)\n",
      " |      Implement self+=value.\n",
      " |\n",
      " |  __imul__(self, value, /)\n",
      " |      Implement self*=value.\n",
      " |\n",
      " |  __init__(self, /, *args, **kwargs)\n",
      " |      Initialize self.  See help(type(self)) for accurate signature.\n",
      " |\n",
      " |  __iter__(self, /)\n",
      " |      Implement iter(self).\n",
      " |\n",
      " |  __le__(self, value, /)\n",
      " |      Return self<=value.\n",
      " |\n",
      " |  __len__(self, /)\n",
      " |      Return len(self).\n",
      " |\n",
      " |  __lt__(self, value, /)\n",
      " |      Return self<value.\n",
      " |\n",
      " |  __mul__(self, value, /)\n",
      " |      Return self*value.\n",
      " |\n",
      " |  __ne__(self, value, /)\n",
      " |      Return self!=value.\n",
      " |\n",
      " |  __repr__(self, /)\n",
      " |      Return repr(self).\n",
      " |\n",
      " |  __reversed__(self, /)\n",
      " |      Return a reverse iterator over the list.\n",
      " |\n",
      " |  __rmul__(self, value, /)\n",
      " |      Return value*self.\n",
      " |\n",
      " |  __setitem__(self, key, value, /)\n",
      " |      Set self[key] to value.\n",
      " |\n",
      " |  __sizeof__(self, /)\n",
      " |      Return the size of the list in memory, in bytes.\n",
      " |\n",
      " |  append(self, object, /)\n",
      " |      Append object to the end of the list.\n",
      " |\n",
      " |  clear(self, /)\n",
      " |      Remove all items from list.\n",
      " |\n",
      " |  copy(self, /)\n",
      " |      Return a shallow copy of the list.\n",
      " |\n",
      " |  count(self, value, /)\n",
      " |      Return number of occurrences of value.\n",
      " |\n",
      " |  extend(self, iterable, /)\n",
      " |      Extend list by appending elements from the iterable.\n",
      " |\n",
      " |  index(self, value, start=0, stop=9223372036854775807, /)\n",
      " |      Return first index of value.\n",
      " |\n",
      " |      Raises ValueError if the value is not present.\n",
      " |\n",
      " |  insert(self, index, object, /)\n",
      " |      Insert object before index.\n",
      " |\n",
      " |  pop(self, index=-1, /)\n",
      " |      Remove and return item at index (default last).\n",
      " |\n",
      " |      Raises IndexError if list is empty or index is out of range.\n",
      " |\n",
      " |  remove(self, value, /)\n",
      " |      Remove first occurrence of value.\n",
      " |\n",
      " |      Raises ValueError if the value is not present.\n",
      " |\n",
      " |  reverse(self, /)\n",
      " |      Reverse *IN PLACE*.\n",
      " |\n",
      " |  sort(self, /, *, key=None, reverse=False)\n",
      " |      Sort the list in ascending order and return None.\n",
      " |\n",
      " |      The sort is in-place (i.e. the list itself is modified) and stable (i.e. the\n",
      " |      order of two equal elements is maintained).\n",
      " |\n",
      " |      If a key function is given, apply it once to each list item and sort them,\n",
      " |      ascending or descending, according to their function values.\n",
      " |\n",
      " |      The reverse flag can be set to sort in descending order.\n",
      " |\n",
      " |  ----------------------------------------------------------------------\n",
      " |  Class methods defined here:\n",
      " |\n",
      " |  __class_getitem__(...)\n",
      " |      See PEP 585\n",
      " |\n",
      " |  ----------------------------------------------------------------------\n",
      " |  Static methods defined here:\n",
      " |\n",
      " |  __new__(*args, **kwargs)\n",
      " |      Create and return a new object.  See help(type) for accurate signature.\n",
      " |\n",
      " |  ----------------------------------------------------------------------\n",
      " |  Data and other attributes defined here:\n",
      " |\n",
      " |  __hash__ = None\n",
      "\n"
     ]
    }
   ],
   "source": [
    "help(list)"
   ]
  },
  {
   "cell_type": "markdown",
   "metadata": {},
   "source": [
    "---"
   ]
  },
  {
   "cell_type": "markdown",
   "metadata": {},
   "source": [
    "#### 3.2 Creating relations with one-ples or empty relations ####\n",
    "\n",
    "A tuple can have only a single element in it, what Goodrich jokingly calls a \"one-ple\" in class. There is a tricky problem that comes up when we try to create a tuple with only a single element. Consider the following:"
   ]
  },
  {
   "cell_type": "code",
   "execution_count": 95,
   "metadata": {},
   "outputs": [
    {
     "name": "stdout",
     "output_type": "stream",
     "text": [
      "relation name = R\n",
      "╒═════╕\n",
      "│ c   │\n",
      "╞═════╡\n",
      "│ a   │\n",
      "╘═════╛\n"
     ]
    }
   ],
   "source": [
    "\n",
    "R: Relation = Relation('R',('char'),{('a')}) #To create a tuple with only one item, you have add a comma after the item, otherwise Python will not recognize the variable as a tuple.\n",
    "print(R)\n"
   ]
  },
  {
   "attachments": {},
   "cell_type": "markdown",
   "metadata": {},
   "source": [
    "Notice how the only the \"c\" from the attribute name \"char\" is printed out. This can be a difficult bug to diagnose.\n",
    "\n",
    "It gets worse if we try to create a relation with no tuples in the set"
   ]
  },
  {
   "cell_type": "code",
   "execution_count": 96,
   "metadata": {},
   "outputs": [
    {
     "name": "stdout",
     "output_type": "stream",
     "text": [
      "relation name = Q\n",
      "╒═════╤═════╤═════╤═════╕\n",
      "│ c   │ h   │ a   │ r   │\n",
      "╞═════╪═════╪═════╪═════╡\n",
      "╘═════╧═════╧═════╧═════╛\n"
     ]
    }
   ],
   "source": [
    "Q: Relation = Relation('Q',('char'),{}) #To create a tuple with only one item, you have add a comma after the item, otherwise Python will not recognize the variable as a tuple.\n",
    "print(Q)"
   ]
  },
  {
   "attachments": {},
   "cell_type": "markdown",
   "metadata": {},
   "source": [
    "That's not what we intended at all. We can get around this by adding a comma after the single element of the tuple (after both the 'char' and the 'a')..."
   ]
  },
  {
   "cell_type": "code",
   "execution_count": 97,
   "metadata": {},
   "outputs": [
    {
     "name": "stdout",
     "output_type": "stream",
     "text": [
      "relation name = P\n",
      "╒════════╕\n",
      "│ char   │\n",
      "╞════════╡\n",
      "│ a      │\n",
      "╘════════╛\n"
     ]
    }
   ],
   "source": [
    "P: Relation = Relation('P',('char',),{('a',)}) #To create a tuple with only one item, you have add a comma after the item, otherwise Python will not recognize the variable as a tuple.\n",
    "print(P)\n"
   ]
  },
  {
   "attachments": {},
   "cell_type": "markdown",
   "metadata": {},
   "source": [
    "... and by adding a single comma after the header when we create a relation with the set of tuples empty"
   ]
  },
  {
   "cell_type": "code",
   "execution_count": 98,
   "metadata": {},
   "outputs": [
    {
     "name": "stdout",
     "output_type": "stream",
     "text": [
      "relation name = Q\n",
      "╒════════╕\n",
      "│ char   │\n",
      "╞════════╡\n",
      "╘════════╛\n"
     ]
    }
   ],
   "source": [
    "Q: Relation = Relation('Q',('char',),{}) #To create a tuple with only one item, you have add a comma after the item, otherwise Python will not recognize the variable as a tuple.\n",
    "print(Q)\n"
   ]
  },
  {
   "cell_type": "markdown",
   "metadata": {},
   "source": [
    "A good LLM prompt to understand this issue better is\n",
    "\n",
    "     Why do i have to add a comma after a list with only one element in python? \n",
    "\n",
    "--- "
   ]
  },
  {
   "cell_type": "markdown",
   "metadata": {},
   "source": [
    "## 4. Adding relational algebra operators to the Relation class"
   ]
  },
  {
   "attachments": {},
   "cell_type": "markdown",
   "metadata": {},
   "source": [
    "We are now in a position to start filling in the rest of the Relation class.\n",
    "\n",
    "I want to be able to apply the _relational operators_ to any relation or pair of relations. Using good object-oriented programming style, I'll add the relational operators as functions to the class.\n",
    "\n",
    "Let's begin by creating our own error handler a la the starter code\n"
   ]
  },
  {
   "cell_type": "code",
   "execution_count": 99,
   "metadata": {},
   "outputs": [],
   "source": [
    "class IncompatibleOperandError(Exception):\n",
    "    def __init__(self, msg: str) -> None:\n",
    "        super().__init__(msg)"
   ]
  },
  {
   "cell_type": "markdown",
   "metadata": {},
   "source": [
    "#### 4.1 Union\n",
    "\n",
    "Consider the relation R defined as before\n",
    "| char | int | \n",
    "| :-: | :-: | \n",
    "| $a$ | $1$ |\n",
    "| $b$ | $2$ | \n",
    "| $c$ | $3$ | \n",
    "| $d$ | $4$ | \n",
    "\n",
    "and consider a new relation Q defined as\n",
    "| char | int | \n",
    "| :-: | :-: | \n",
    "| $f$ | $3$ |\n",
    "\n",
    "The union $P\\cup Q$ is possible since the headers match, and is\n",
    "| char | int | \n",
    "| :-: | :-: | \n",
    "| $a$ | $1$ |\n",
    "| $b$ | $2$ | \n",
    "| $c$ | $3$ | \n",
    "| $d$ | $4$ | \n",
    "| $f$ | $3$ |  \n",
    "\n",
    "Let's check in the code."
   ]
  },
  {
   "cell_type": "code",
   "execution_count": 114,
   "metadata": {},
   "outputs": [],
   "source": [
    "class Relation:\n",
    "    def __init__(self, relation_name: str, relation_header: list[str], set_of_tuples: set[RelationTuple]) -> None:\n",
    "        self.name:str = relation_name # I threw in a string for the relation name for fun\n",
    "        self.header: list[str] = relation_header\n",
    "        self.set_of_tuples: set[RelationTuple] = set_of_tuples\n",
    "\n",
    "    def __str__(self) -> str:\n",
    "        value: str = f\"relation name = {self.name}\\n\" + tabulate(iter(self.set_of_tuples), self.header, tablefmt=\"fancy_grid\")\n",
    "        return value\n",
    "\n",
    "    def __eq__(self, other: Any) -> bool:\n",
    "        if not isinstance(other, Relation):\n",
    "            print(\"you are trying to compare a relation to something that is not a relation\")\n",
    "            return False\n",
    "        return (\n",
    "            self.header == other.header\n",
    "            and self.set_of_tuples == other.set_of_tuples\n",
    "        )\n",
    "    \n",
    "    ########################\n",
    "    # Relational Operators #\n",
    "    ########################\n",
    "    def union(self,other) -> 'Relation':\n",
    "        if not isinstance(other, Relation):\n",
    "            raise IncompatibleOperandError(f\"Tried to union a relation with a {type(other)}\") # don't attempt to union with something not a relation\n",
    "        # First, check the precondition to see if the headers are the same\n",
    "        if self.header != other.header:\n",
    "            raise IncompatibleOperandError(\"Tried to union two relations with different headers\")\n",
    "        \n",
    "        # Second, create a new header that is the union of the sets of tuples\n",
    "        name: str = self.name + \"\\u222A\" + other.name\n",
    "        header: list[str] = self.header\n",
    "        set_of_tuples = self.set_of_tuples\n",
    "        set_of_tuples = set_of_tuples.union(other.set_of_tuples)    # This is the union operator defined for set objects\n",
    "        return Relation(name,header,set_of_tuples) # Create a new relation\n",
    "        \n"
   ]
  },
  {
   "cell_type": "code",
   "execution_count": 115,
   "metadata": {},
   "outputs": [
    {
     "name": "stdout",
     "output_type": "stream",
     "text": [
      "relation name = R∪Q\n",
      "╒════════╤═══════╕\n",
      "│ char   │   int │\n",
      "╞════════╪═══════╡\n",
      "│ a      │     1 │\n",
      "├────────┼───────┤\n",
      "│ d      │     4 │\n",
      "├────────┼───────┤\n",
      "│ c      │     3 │\n",
      "├────────┼───────┤\n",
      "│ f      │     3 │\n",
      "├────────┼───────┤\n",
      "│ b      │     2 │\n",
      "╘════════╧═══════╛\n"
     ]
    }
   ],
   "source": [
    "    \n",
    "R = Relation(relation_name = 'R',relation_header = ('char','int'), set_of_tuples = {('a',1),('b',2),('c',3),('d',4)})\n",
    "Q = Relation('Q',('char','int'),{('f',3),}) # Notice the comma after the ('f',3) tuple. This create a set of tuples, with only one element in the set\n",
    "\n",
    "P: Relation = R.union(Q)\n",
    "print(P) # I can see that the relation name is a union when I print it out"
   ]
  },
  {
   "cell_type": "markdown",
   "metadata": {},
   "source": [
    "#### 4.2 Error Handling Unit Tests\n",
    "\n",
    "Let's check the error handling"
   ]
  },
  {
   "cell_type": "code",
   "execution_count": 116,
   "metadata": {},
   "outputs": [
    {
     "name": "stdout",
     "output_type": "stream",
     "text": [
      "Tried to union a relation with a <class 'str'>\n"
     ]
    }
   ],
   "source": [
    "try:\n",
    "    P.union('mystring')\n",
    "except IncompatibleOperandError as e:\n",
    "    print(e) "
   ]
  },
  {
   "cell_type": "markdown",
   "metadata": {},
   "source": [
    "Let's try to form the union of two relations that have different headers."
   ]
  },
  {
   "cell_type": "code",
   "execution_count": 117,
   "metadata": {},
   "outputs": [
    {
     "name": "stdout",
     "output_type": "stream",
     "text": [
      "Tried to union two relations with different headers\n"
     ]
    }
   ],
   "source": [
    "W: Relation = Relation('Q',('bart','lisa'),{('f',3),}) # Notice the comma after the ('f',3) tuple. This create a set of tuples, with only one element in the set\n",
    "try:\n",
    "    P.union(W)\n",
    "except IncompatibleOperandError as e:\n",
    "    print(e) "
   ]
  },
  {
   "cell_type": "markdown",
   "metadata": {},
   "source": [
    "Notice that when we perform the union we don't add the tuples to R. Instead, we create a new set of tuples and return a brand new relation with those tuples."
   ]
  },
  {
   "cell_type": "markdown",
   "metadata": {},
   "source": [
    "#### 4.3 Parameterized Unit Tests\n",
    "\n",
    "There are times when we want to write several tests for a specific function or class. It can become tedious to write a function for each test that we want to perform. A common way around this is to use parameterized tests. \n",
    "\n",
    "Instead of writing many tests that are nearly identical, we can write **one test** and feed it **many cases** using `@pytest.mark.parametrize`. This improves readability and coverage with less code. Notice the spelling of `parametrize`. The verb form of **parameter** is spelled **parameterize**. The function used in `pytest` for doing parmeterized tests uses a different spelling. \n",
    "\n",
    "When we \"do the math\" we identify several cases that could cause problems. \n",
    "- Disjoint sets\n",
    "- Overlapping sets\n",
    "- Union with empty set\n",
    "- Idempotence: `A ∪ A == A`\n",
    "- Commutativity: `A ∪ B == B ∪ A`\n",
    "\n",
    "Let's set up `pytest` inside of the Jupyter notebook before looking at how we'd write parameterized tests."
   ]
  },
  {
   "cell_type": "code",
   "execution_count": 118,
   "metadata": {},
   "outputs": [],
   "source": [
    "import ipytest\n",
    "import pytest\n",
    "\n",
    "ipytest.autoconfig()\n",
    "\n",
    "\n",
    "# --- Helpers ---------------------------------------------------------------\n",
    "\n",
    "def make_rel(name: str, header: list[str], rows: set[tuple]) -> Relation:\n",
    "    # If your code defines a RelationTuple alias, plain tuples should still work.\n",
    "    return Relation(name, header, set(rows))\n"
   ]
  },
  {
   "cell_type": "code",
   "execution_count": 119,
   "metadata": {},
   "outputs": [
    {
     "name": "stdout",
     "output_type": "stream",
     "text": [
      "\u001b[32m.\u001b[0m\u001b[32m.\u001b[0m\u001b[32m.\u001b[0m\u001b[32m.\u001b[0m\u001b[32m.\u001b[0m\u001b[32m                                                                                        [100%]\u001b[0m\n",
      "\u001b[32m\u001b[32m\u001b[1m5 passed\u001b[0m\u001b[32m in 0.04s\u001b[0m\u001b[0m\n"
     ]
    }
   ],
   "source": [
    "%%ipytest\n",
    "@pytest.mark.parametrize(\n",
    "    \"hdr,rows1,name1,rows2,name2,expected_rows\",\n",
    "    [\n",
    "        # Disjoint\n",
    "        ([\"A\",\"B\"], {(1,\"a\"), (2,\"b\")}, \"R1\",\n",
    "                     {(3,\"c\")},            \"R2\",\n",
    "                     {(1,\"a\"), (2,\"b\"), (3,\"c\")}),\n",
    "\n",
    "        # Overlap (duplicates should be removed by set semantics)\n",
    "        ([\"A\",\"B\"], {(1,\"a\"), (2,\"b\")}, \"R1\",\n",
    "                     {(2,\"b\"), (3,\"c\")}, \"R2\",\n",
    "                     {(1,\"a\"), (2,\"b\"), (3,\"c\")}),\n",
    "\n",
    "        # Left empty\n",
    "        ([\"A\",\"B\"], set(),              \"Empty\",\n",
    "                     {(1,\"a\")},         \"R2\",\n",
    "                     {(1,\"a\")}),\n",
    "\n",
    "        # Right empty\n",
    "        ([\"A\",\"B\"], {(1,\"a\")},          \"R1\",\n",
    "                     set(),             \"Empty\",\n",
    "                     {(1,\"a\")}),\n",
    "\n",
    "        # Idempotent: R ∪ R = R\n",
    "        ([\"A\",\"B\"], {(10,\"x\"), (11,\"y\")}, \"R\",\n",
    "                     {(10,\"x\"), (11,\"y\")}, \"R_again\",\n",
    "                     {(10,\"x\"), (11,\"y\")}),\n",
    "    ],\n",
    ")\n",
    "def test_union_basic_cases(hdr, rows1, name1, rows2, name2, expected_rows):\n",
    "    r1 = make_rel(name1, hdr, rows1)\n",
    "    r2 = make_rel(name2, hdr, rows2)\n",
    "\n",
    "    out = r1.union(r2)\n",
    "\n",
    "    # Header must match original header (by precondition)\n",
    "    assert out.header == hdr\n",
    "    # Row set must match expected\n",
    "    assert out.set_of_tuples == expected_rows\n",
    "    # Equality should work via __eq__\n",
    "    assert out == make_rel(\"EXPECTED\", hdr, expected_rows)\n",
    "\n"
   ]
  },
  {
   "cell_type": "markdown",
   "metadata": {},
   "source": [
    "#### 4.4 What’s Happening in the Parameterized Tests?\n",
    "\n",
    "The `@pytest.mark.parametrize` **decorator** is a way to tell `pytest`:  \n",
    "“Run this same test function many times, once for each row in the table of inputs.” You don't need to understand how **decorators** work, but they are a neat programming concept that allows you to modify the way functions work. A good LLM will be able to provide a tutorial about decorators.\n",
    "\n",
    "Let’s unpack what’s going on in `test_union_basic_cases`:\n",
    "\n",
    "```python\n",
    "@pytest.mark.parametrize(\n",
    "    \"hdr,rows1,name1,rows2,name2,expected_rows\",\n",
    "    [\n",
    "        ([\"A\",\"B\"], {(1,\"a\"), (2,\"b\")}, \"R1\",\n",
    "                     {(3,\"c\")},          \"R2\",\n",
    "                     {(1,\"a\"), (2,\"b\"), (3,\"c\")}),   # disjoint\n",
    "\n",
    "        ([\"A\",\"B\"], {(1,\"a\"), (2,\"b\")}, \"R1\",\n",
    "                     {(2,\"b\"), (3,\"c\")}, \"R2\",\n",
    "                     {(1,\"a\"), (2,\"b\"), (3,\"c\")}),   # overlap\n",
    "\n",
    "        ...\n",
    "    ],\n",
    ")\n",
    "def test_union_basic_cases(hdr, rows1, name1, rows2, name2, expected_rows):\n",
    "    ...\n",
    "```"
   ]
  },
  {
   "cell_type": "markdown",
   "metadata": {},
   "source": [
    "The first argument to `parametrize` is a comma-separated string of variable names.  \n",
    "These become the parameters to the test function (`hdr, rows1, name1, ...`).\n",
    "\n",
    "- The second argument is a **list of tuples**.  \n",
    "  Each tuple is one set of inputs that fills in those variables.\n",
    "\n",
    "- When pytest runs:\n",
    "  - It substitutes the first tuple into the variables and runs the test once.  \n",
    "  - Then it substitutes the second tuple and runs again.  \n",
    "  - And so on for every row.  \n",
    "\n",
    "This way, one test function actually checks **five different scenarios**:\n",
    "1. Disjoint relations  \n",
    "2. Overlapping relations (testing duplicate elimination)  \n",
    "3. Left operand empty  \n",
    "4. Right operand empty  \n",
    "5. Idempotence (`R ∪ R = R`)  \n",
    "\n",
    "\n",
    "**Why Do This?**\n",
    "\n",
    "Without parameterization, we would need to write **five almost-identical test functions**. That makes tests longer, harder to read, and more likely to miss a case.  \n",
    "\n",
    "By using `parametrize`, we:\n",
    "- Capture the essence of what changes across cases (the data, not the logic).  \n",
    "- Keep the test logic short and clear.  \n",
    "- Guarantee consistent checks across many scenarios.  \n",
    "\n",
    "\n",
    "**Key takeaway:** Parameterized tests let you explore a whole *family* of inputs with one concise piece of code."
   ]
  },
  {
   "cell_type": "markdown",
   "metadata": {},
   "source": [
    "#### 4.5 More Parameterized Tests for Union\n",
    "\n",
    "Some of the **edge cases** in the math don't fit nicely into the previous parameterized test, but we can collect them into a new decorated test."
   ]
  },
  {
   "cell_type": "code",
   "execution_count": 120,
   "metadata": {},
   "outputs": [
    {
     "name": "stdout",
     "output_type": "stream",
     "text": [
      "\u001b[32m.\u001b[0m\u001b[32m.\u001b[0m\u001b[32m.\u001b[0m\u001b[32m.\u001b[0m\u001b[32m.\u001b[0m\u001b[32m.\u001b[0m\u001b[32m                                                                                       [100%]\u001b[0m\n",
      "\u001b[32m\u001b[32m\u001b[1m6 passed\u001b[0m\u001b[32m in 0.01s\u001b[0m\u001b[0m\n"
     ]
    }
   ],
   "source": [
    "%%ipytest\n",
    "@pytest.mark.parametrize(\n",
    "    \"hdr,rows1,rows2\",\n",
    "    [\n",
    "        ([\"A\",\"B\"], {(1,\"a\"), (2,\"b\")}, {(2,\"b\"), (3,\"c\")}),\n",
    "        ([\"A\"],      {(1,)},            {(1,), (2,)}),\n",
    "        ([\"X\",\"Y\"], {(0,\"p\")},          {(0,\"p\")}),\n",
    "    ],\n",
    ")\n",
    "def test_union_commutative(hdr, rows1, rows2):\n",
    "    r1 = make_rel(\"R1\", hdr, rows1)\n",
    "    r2 = make_rel(\"R2\", hdr, rows2)\n",
    "\n",
    "    # Commutativity: r1 ∪ r2 == r2 ∪ r1\n",
    "    out1 = r1.union(r2)\n",
    "    out2 = r2.union(r1)\n",
    "    assert out1 == out2\n",
    "\n",
    "\n",
    "def test_union_header_mismatch_raises():\n",
    "    r1 = make_rel(\"R1\", [\"A\",\"B\"], {(1,\"a\")})\n",
    "    r2 = make_rel(\"R2\", [\"A\",\"C\"], {(1,\"a\")})\n",
    "    with pytest.raises(IncompatibleOperandError):\n",
    "        _ = r1.union(r2)\n",
    "\n",
    "\n",
    "def test_union_wrong_type_raises():\n",
    "    r1 = make_rel(\"R1\", [\"A\"], {(1,)})\n",
    "    with pytest.raises(IncompatibleOperandError):\n",
    "        _ = r1.union({\"not\": \"a relation\"})  # type: ignore[arg-type]\n",
    "\n",
    "\n",
    "def test_union_does_not_mutate_operands():\n",
    "    hdr = [\"A\",\"B\"]\n",
    "    rows1 = {(1,\"a\")}\n",
    "    rows2 = {(2,\"b\")}\n",
    "    r1 = make_rel(\"R1\", hdr, rows1)\n",
    "    r2 = make_rel(\"R2\", hdr, rows2)\n",
    "\n",
    "    _ = r1.union(r2)\n",
    "\n",
    "    # Ensure original operands unchanged\n",
    "    assert r1.set_of_tuples == rows1\n",
    "    assert r2.set_of_tuples == rows2\n",
    "    assert r1.header == hdr and r2.header == hdr"
   ]
  },
  {
   "attachments": {},
   "cell_type": "markdown",
   "metadata": {},
   "source": [
    "***\n",
    "\n",
    "\n",
    "## The Project Relational Operator\n",
    "\n",
    "We'll only implement a portion of this operator since we want to implement the rest in Project 3. Specifically, this project operation will only work to project to a single column.\n",
    " \n",
    "Consider the relation $P = R\\cup Q$ defined as before\n",
    "| char | int | \n",
    "| :-: | :-: | \n",
    "| $a$ | $1$ |\n",
    "| $b$ | $2$ | \n",
    "| $c$ | $3$ | \n",
    "| $d$ | $4$ |\n",
    "| $f$ | $3$ | \n",
    "\n",
    "We want to compute $\\pi_{char}(P)$, which does two things. \n",
    "* First, it creates a new relation.\n",
    "* Second, it populates the new relation with the char column.\n",
    "\n",
    "The result is the relation $\\pi_{char}(P)$\n",
    "| char | \n",
    "| :-: |\n",
    "| $a$ |\n",
    "| $b$ |\n",
    "| $c$ |\n",
    "| $d$ |\n",
    "| $f$ |\n",
    "\n",
    "***\n",
    "Here's the code"
   ]
  },
  {
   "cell_type": "code",
   "execution_count": 121,
   "metadata": {},
   "outputs": [],
   "source": [
    "class Relation:\n",
    "    def __init__(self, relation_name: str, relation_header: list[str], set_of_tuples: set[RelationTuple]) -> None:\n",
    "        self.name:str = relation_name # I threw in a string for the relation name for fun\n",
    "        self.header: list[str] = relation_header\n",
    "        self.set_of_tuples: set[RelationTuple] = set_of_tuples\n",
    "\n",
    "    def __str__(self) -> str:\n",
    "        value: str = f\"relation name = {self.name}\\n\" + tabulate(iter(self.set_of_tuples), self.header, tablefmt=\"fancy_grid\")\n",
    "        return value\n",
    "\n",
    "    def __eq__(self, other: Any) -> bool:\n",
    "        if not isinstance(other, Relation):\n",
    "            print(\"you are trying to compare a relation to something that is not a relation\")\n",
    "            return False\n",
    "        return (\n",
    "            self.header == other.header\n",
    "            and self.set_of_tuples == other.set_of_tuples\n",
    "        )\n",
    "    \n",
    "    ########################\n",
    "    # Relational Operators #\n",
    "    ########################\n",
    "    def union(self,other) -> 'Relation':\n",
    "        if not isinstance(other, Relation):\n",
    "            raise IncompatibleOperandError(f\"Tried to union a relation with a {type(other)}\") # don't attempt to union with something not a relation\n",
    "        # First, check the precondition to see if the headers are the same\n",
    "        if self.header != other.header:\n",
    "            raise IncompatibleOperandError(\"Tried to union two relations with different headers\")\n",
    "        \n",
    "        # Second, create a new header that is the union of the sets of tuples\n",
    "        name: str = self.name + \"\\u222A\" + other.name\n",
    "        header: list[str] = self.header\n",
    "        set_of_tuples = self.set_of_tuples\n",
    "        set_of_tuples = set_of_tuples.union(other.set_of_tuples)    # This is the union operator defined for set objects\n",
    "        return Relation(name,header,set_of_tuples) # Create a new relation\n",
    "\n",
    "    def project(self,column_header: str) -> 'Relation':\n",
    "        # Only a portion of this function is implemented. \n",
    "        # Specifically, only the portion that projects onto a single column.\n",
    "        # You have to implement the rest of this function in the Project 3\n",
    "        \n",
    "        # First, check the precondition\n",
    "        # The precondition for the project operator is that the column attribute\n",
    "        # must exist in the set of attributes\n",
    "        if column_header not in set(self.header):\n",
    "            raise IncompatibleOperandError(f\"Tried to project onto {column_header}, which isn't an attribute of the relation\")\n",
    "        \n",
    "        # Second, create a new relation that is the output of the projection operator.\n",
    "        # THe relation needs a name, a header, and the set of tuples\n",
    "        new_name = \"\\u03C0\" + \"_{\" + column_header + \"}(\" + self.name + \")\" # The \\u03c0 is a special code for a union symbol\n",
    "        new_header = (column_header,) # Notice the comma after \"column_header\", which forces the header to be a tuple\n",
    "        header_index = self.header.index(column_header) # Get the index of the header that matches the column you want\n",
    "        new_tuples: set[RelationTuple] = {(rtuple[header_index],1) for rtuple in self.set_of_tuples}\n",
    "        new_relation = Relation(new_name,new_header,new_tuples) # Create the relation\n",
    "        return new_relation \n"
   ]
  },
  {
   "attachments": {},
   "cell_type": "markdown",
   "metadata": {},
   "source": [
    "Let's now look at the output of the project operator. "
   ]
  },
  {
   "cell_type": "code",
   "execution_count": 122,
   "metadata": {},
   "outputs": [
    {
     "name": "stdout",
     "output_type": "stream",
     "text": [
      "relation name = π_{char}(R∪Q)\n",
      "╒════╤════════╕\n",
      "│    │   char │\n",
      "╞════╪════════╡\n",
      "│ a  │      1 │\n",
      "├────┼────────┤\n",
      "│ b  │      1 │\n",
      "├────┼────────┤\n",
      "│ c  │      1 │\n",
      "├────┼────────┤\n",
      "│ f  │      1 │\n",
      "├────┼────────┤\n",
      "│ d  │      1 │\n",
      "╘════╧════════╛\n"
     ]
    }
   ],
   "source": [
    "R: Relation = Relation(relation_name = 'R',relation_header = ('char','int'), set_of_tuples = {('a',1),('b',2),('c',3),('d',4)})\n",
    "Q: Relation = Relation('Q',('char','int'),{('f','3'),}) # Observe the comma after the ('f',3) tuple. This forces python to make the tuple the lone element of a set\n",
    "\n",
    "P: Relation = R.union(Q)\n",
    "M: Relation = P.project('char')\n",
    "print(M)\n"
   ]
  },
  {
   "attachments": {},
   "cell_type": "markdown",
   "metadata": {},
   "source": [
    "Let's project onto the 'int' column instead. Why does projecting onto the 'char' column produce five tuples but projecting onto the 'char' column only produce four tuples?"
   ]
  },
  {
   "cell_type": "code",
   "execution_count": 123,
   "metadata": {},
   "outputs": [
    {
     "name": "stdout",
     "output_type": "stream",
     "text": [
      "relation name = π_{int}(R∪Q)\n",
      "╒════╤═══════╕\n",
      "│    │   int │\n",
      "╞════╪═══════╡\n",
      "│  2 │     1 │\n",
      "├────┼───────┤\n",
      "│  3 │     1 │\n",
      "├────┼───────┤\n",
      "│  3 │     1 │\n",
      "├────┼───────┤\n",
      "│  1 │     1 │\n",
      "├────┼───────┤\n",
      "│  4 │     1 │\n",
      "╘════╧═══════╛\n"
     ]
    }
   ],
   "source": [
    "P = R.union(Q)\n",
    "M = P.project('int')\n",
    "print(M)"
   ]
  },
  {
   "attachments": {},
   "cell_type": "markdown",
   "metadata": {},
   "source": [
    "The answer is that the set of tuples is a set, and sets don't have repeats. \n",
    "\n",
    "Without ignoring repeats, we have the relation $P$ defined as\n",
    "| char | int | \n",
    "| :-: | :-: | \n",
    "| $a$ | $1$ |\n",
    "| $b$ | $2$ | \n",
    "| $c$ | $3$ | \n",
    "| $d$ | $4$ |\n",
    "| $f$ | $3$ | \n",
    "\n",
    "yielding $\\pi_{int}(P)$ \n",
    "| int | \n",
    "| :-: | \n",
    "| $1$ |\n",
    "| $2$ | \n",
    "| $3$ | \n",
    "| $4$ |\n",
    "| $3$ |\n",
    "\n",
    "but the \"3\" appears in the set twice, so the correct answer is\n",
    "$\\pi_{int}(P)$ \n",
    "| int | \n",
    "| :-: | \n",
    "| $1$ |\n",
    "| $2$ | \n",
    "| $3$ | \n",
    "| $4$ |\n"
   ]
  },
  {
   "cell_type": "markdown",
   "metadata": {},
   "source": [
    "#### 5.1 Test Coverage via Input Partitioning: `project(relation, cols)`\n",
    "\n",
    "We’ll design tests by **partitioning the input space** into meaningful categories, then pick at least one case from each partition. For projection:\n",
    "\n",
    "**Operation**: `project(relation: set[tuple], cols: tuple[int, ...]) -> set[tuple]`  \n",
    "- Keep only the columns in `cols` (by index)\n",
    "- Remove duplicate tuples after projection\n",
    "\n",
    "**Partitions to cover:**\n",
    "1. **Empty relation** (baseline)\n",
    "2. **Single tuple** (simple)\n",
    "3. **Multiple tuples, no duplicates after projection**\n",
    "4. **Multiple tuples, duplicates after projection** (duplicate elimination)\n",
    "5. **Invalid column index** (error)\n",
    "6. **Projection to all columns** (should equal original)\n",
    "7. **Projection to zero columns** (legal? If allowed, result is either `{()}` or empty set depending on definition—here we’ll disallow and raise)\n",
    "\n",
    "We’ll implement a minimal `project` to support these tests and then write **parameterized tests** covering the partitions."
   ]
  },
  {
   "cell_type": "code",
   "execution_count": 124,
   "metadata": {},
   "outputs": [],
   "source": [
    "import pytest\n",
    "\n",
    "# --- helpers -----------------------------------------------------------------\n",
    "\n",
    "def make_rel(name: str, header: list[str], rows: set[tuple]) -> Relation:\n",
    "    # If RelationTuple is an alias to tuple[...] in your code,\n",
    "    # plain tuples in a set will work.\n",
    "    return Relation(name, header, set(rows))\n",
    "\n",
    "\n",
    "# --- tests for Relation.project ----------------------------------------------\n"
   ]
  },
  {
   "cell_type": "code",
   "execution_count": 125,
   "metadata": {},
   "outputs": [
    {
     "name": "stdout",
     "output_type": "stream",
     "text": [
      "\u001b[31mF\u001b[0m\u001b[31mF\u001b[0m\u001b[32m.\u001b[0m\u001b[32m.\u001b[0m\u001b[31mF\u001b[0m\u001b[31m                                                                                        [100%]\u001b[0m\n",
      "============================================= FAILURES =============================================\n",
      "\u001b[31m\u001b[1m_________________________________ test_project_single_column_basic _________________________________\u001b[0m\n",
      "\n",
      "    \u001b[0m\u001b[94mdef\u001b[39;49;00m\u001b[90m \u001b[39;49;00m\u001b[92mtest_project_single_column_basic\u001b[39;49;00m() -> \u001b[94mNone\u001b[39;49;00m:\u001b[90m\u001b[39;49;00m\n",
      "    \u001b[90m    \u001b[39;49;00m\u001b[33m\"\"\"\u001b[39;49;00m\n",
      "    \u001b[33m    Project onto a single existing column.\u001b[39;49;00m\n",
      "    \u001b[33m    Expect:\u001b[39;49;00m\n",
      "    \u001b[33m      - header becomes that single column\u001b[39;49;00m\n",
      "    \u001b[33m      - rows become 1-tuples\u001b[39;49;00m\n",
      "    \u001b[33m      - duplicates removed by set semantics\u001b[39;49;00m\n",
      "    \u001b[33m    \"\"\"\u001b[39;49;00m\u001b[90m\u001b[39;49;00m\n",
      "        r = make_rel(\u001b[90m\u001b[39;49;00m\n",
      "            \u001b[33m\"\u001b[39;49;00m\u001b[33mR\u001b[39;49;00m\u001b[33m\"\u001b[39;49;00m,\u001b[90m\u001b[39;49;00m\n",
      "            [\u001b[33m\"\u001b[39;49;00m\u001b[33mA\u001b[39;49;00m\u001b[33m\"\u001b[39;49;00m, \u001b[33m\"\u001b[39;49;00m\u001b[33mB\u001b[39;49;00m\u001b[33m\"\u001b[39;49;00m],\u001b[90m\u001b[39;49;00m\n",
      "            {(\u001b[94m1\u001b[39;49;00m, \u001b[33m\"\u001b[39;49;00m\u001b[33mx\u001b[39;49;00m\u001b[33m\"\u001b[39;49;00m), (\u001b[94m2\u001b[39;49;00m, \u001b[33m\"\u001b[39;49;00m\u001b[33my\u001b[39;49;00m\u001b[33m\"\u001b[39;49;00m), (\u001b[94m2\u001b[39;49;00m, \u001b[33m\"\u001b[39;49;00m\u001b[33mz\u001b[39;49;00m\u001b[33m\"\u001b[39;49;00m)},\u001b[90m\u001b[39;49;00m\n",
      "        )\u001b[90m\u001b[39;49;00m\n",
      "    \u001b[90m\u001b[39;49;00m\n",
      "        out = r.project(\u001b[33m\"\u001b[39;49;00m\u001b[33mA\u001b[39;49;00m\u001b[33m\"\u001b[39;49;00m)\u001b[90m\u001b[39;49;00m\n",
      "    \u001b[90m\u001b[39;49;00m\n",
      "        \u001b[90m# Expected relation\u001b[39;49;00m\u001b[90m\u001b[39;49;00m\n",
      "        expected = make_rel(\u001b[90m\u001b[39;49;00m\n",
      "            \u001b[33m\"\u001b[39;49;00m\u001b[33m\\u03C0\u001b[39;49;00m\u001b[33m_\u001b[39;49;00m\u001b[33m{A}\u001b[39;49;00m\u001b[33m(R)\u001b[39;49;00m\u001b[33m\"\u001b[39;49;00m,\u001b[90m\u001b[39;49;00m\n",
      "            [\u001b[33m\"\u001b[39;49;00m\u001b[33mA\u001b[39;49;00m\u001b[33m\"\u001b[39;49;00m],\u001b[90m\u001b[39;49;00m\n",
      "            {(\u001b[94m1\u001b[39;49;00m,), (\u001b[94m2\u001b[39;49;00m,)},\u001b[90m\u001b[39;49;00m\n",
      "        )\u001b[90m\u001b[39;49;00m\n",
      "    \u001b[90m\u001b[39;49;00m\n",
      ">       \u001b[94massert\u001b[39;49;00m out == expected\u001b[90m\u001b[39;49;00m\n",
      "\u001b[1m\u001b[31mE       assert <__main__.Relation object at 0x1084c9880> == <__main__.Relation object at 0x1084c8260>\u001b[0m\n",
      "\n",
      "\u001b[1m\u001b[31m/var/folders/7n/9nnbl1td6sq50rrh09m9x1v80000gn/T/ipykernel_22394/803361556.py\u001b[0m:24: AssertionError\n",
      "\u001b[31m\u001b[1m_________________________________ test_project_removes_duplicates __________________________________\u001b[0m\n",
      "\n",
      "    \u001b[0m\u001b[94mdef\u001b[39;49;00m\u001b[90m \u001b[39;49;00m\u001b[92mtest_project_removes_duplicates\u001b[39;49;00m() -> \u001b[94mNone\u001b[39;49;00m:\u001b[90m\u001b[39;49;00m\n",
      "    \u001b[90m    \u001b[39;49;00m\u001b[33m\"\"\"\u001b[39;49;00m\n",
      "    \u001b[33m    When different rows share the same projected value,\u001b[39;49;00m\n",
      "    \u001b[33m    the result contains only one copy of that value.\u001b[39;49;00m\n",
      "    \u001b[33m    \"\"\"\u001b[39;49;00m\u001b[90m\u001b[39;49;00m\n",
      "        r = make_rel(\u001b[90m\u001b[39;49;00m\n",
      "            \u001b[33m\"\u001b[39;49;00m\u001b[33mTeams\u001b[39;49;00m\u001b[33m\"\u001b[39;49;00m,\u001b[90m\u001b[39;49;00m\n",
      "            [\u001b[33m\"\u001b[39;49;00m\u001b[33mplayer\u001b[39;49;00m\u001b[33m\"\u001b[39;49;00m, \u001b[33m\"\u001b[39;49;00m\u001b[33mteam\u001b[39;49;00m\u001b[33m\"\u001b[39;49;00m],\u001b[90m\u001b[39;49;00m\n",
      "            {(\u001b[33m\"\u001b[39;49;00m\u001b[33mAnn\u001b[39;49;00m\u001b[33m\"\u001b[39;49;00m, \u001b[33m\"\u001b[39;49;00m\u001b[33mBlue\u001b[39;49;00m\u001b[33m\"\u001b[39;49;00m), (\u001b[33m\"\u001b[39;49;00m\u001b[33mBob\u001b[39;49;00m\u001b[33m\"\u001b[39;49;00m, \u001b[33m\"\u001b[39;49;00m\u001b[33mBlue\u001b[39;49;00m\u001b[33m\"\u001b[39;49;00m), (\u001b[33m\"\u001b[39;49;00m\u001b[33mCyd\u001b[39;49;00m\u001b[33m\"\u001b[39;49;00m, \u001b[33m\"\u001b[39;49;00m\u001b[33mRed\u001b[39;49;00m\u001b[33m\"\u001b[39;49;00m)},\u001b[90m\u001b[39;49;00m\n",
      "        )\u001b[90m\u001b[39;49;00m\n",
      "    \u001b[90m\u001b[39;49;00m\n",
      "        out = r.project(\u001b[33m\"\u001b[39;49;00m\u001b[33mteam\u001b[39;49;00m\u001b[33m\"\u001b[39;49;00m)\u001b[90m\u001b[39;49;00m\n",
      "    \u001b[90m\u001b[39;49;00m\n",
      "        expected = make_rel(\u001b[90m\u001b[39;49;00m\n",
      "            \u001b[33m\"\u001b[39;49;00m\u001b[33m\\u03C0\u001b[39;49;00m\u001b[33m_\u001b[39;49;00m\u001b[33m{team}\u001b[39;49;00m\u001b[33m(Teams)\u001b[39;49;00m\u001b[33m\"\u001b[39;49;00m,\u001b[90m\u001b[39;49;00m\n",
      "            [\u001b[33m\"\u001b[39;49;00m\u001b[33mteam\u001b[39;49;00m\u001b[33m\"\u001b[39;49;00m],\u001b[90m\u001b[39;49;00m\n",
      "            {(\u001b[33m\"\u001b[39;49;00m\u001b[33mBlue\u001b[39;49;00m\u001b[33m\"\u001b[39;49;00m,), (\u001b[33m\"\u001b[39;49;00m\u001b[33mRed\u001b[39;49;00m\u001b[33m\"\u001b[39;49;00m,)},\u001b[90m\u001b[39;49;00m\n",
      "        )\u001b[90m\u001b[39;49;00m\n",
      "    \u001b[90m\u001b[39;49;00m\n",
      ">       \u001b[94massert\u001b[39;49;00m out == expected\u001b[90m\u001b[39;49;00m\n",
      "\u001b[1m\u001b[31mE       assert <__main__.Relation object at 0x1084cbec0> == <__main__.Relation object at 0x1084ca570>\u001b[0m\n",
      "\n",
      "\u001b[1m\u001b[31m/var/folders/7n/9nnbl1td6sq50rrh09m9x1v80000gn/T/ipykernel_22394/803361556.py\u001b[0m:46: AssertionError\n",
      "\u001b[31m\u001b[1m__________________________________ test_project_different_columns __________________________________\u001b[0m\n",
      "\n",
      "    \u001b[0m\u001b[94mdef\u001b[39;49;00m\u001b[90m \u001b[39;49;00m\u001b[92mtest_project_different_columns\u001b[39;49;00m() -> \u001b[94mNone\u001b[39;49;00m:\u001b[90m\u001b[39;49;00m\n",
      "    \u001b[90m    \u001b[39;49;00m\u001b[33m\"\"\"\u001b[39;49;00m\n",
      "    \u001b[33m    Smoke test projecting different columns from the same base relation.\u001b[39;49;00m\n",
      "    \u001b[33m    \"\"\"\u001b[39;49;00m\u001b[90m\u001b[39;49;00m\n",
      "        r = make_rel(\u001b[90m\u001b[39;49;00m\n",
      "            \u001b[33m\"\u001b[39;49;00m\u001b[33mPeople\u001b[39;49;00m\u001b[33m\"\u001b[39;49;00m,\u001b[90m\u001b[39;49;00m\n",
      "            [\u001b[33m\"\u001b[39;49;00m\u001b[33mid\u001b[39;49;00m\u001b[33m\"\u001b[39;49;00m, \u001b[33m\"\u001b[39;49;00m\u001b[33mname\u001b[39;49;00m\u001b[33m\"\u001b[39;49;00m],\u001b[90m\u001b[39;49;00m\n",
      "            {(\u001b[94m1\u001b[39;49;00m, \u001b[33m\"\u001b[39;49;00m\u001b[33mAda\u001b[39;49;00m\u001b[33m\"\u001b[39;49;00m), (\u001b[94m2\u001b[39;49;00m, \u001b[33m\"\u001b[39;49;00m\u001b[33mBob\u001b[39;49;00m\u001b[33m\"\u001b[39;49;00m)},\u001b[90m\u001b[39;49;00m\n",
      "        )\u001b[90m\u001b[39;49;00m\n",
      "    \u001b[90m\u001b[39;49;00m\n",
      "        out_id = r.project(\u001b[33m\"\u001b[39;49;00m\u001b[33mid\u001b[39;49;00m\u001b[33m\"\u001b[39;49;00m)\u001b[90m\u001b[39;49;00m\n",
      "        out_name = r.project(\u001b[33m\"\u001b[39;49;00m\u001b[33mname\u001b[39;49;00m\u001b[33m\"\u001b[39;49;00m)\u001b[90m\u001b[39;49;00m\n",
      "    \u001b[90m\u001b[39;49;00m\n",
      "        expected_id = make_rel(\u001b[33m\"\u001b[39;49;00m\u001b[33m\\u03C0\u001b[39;49;00m\u001b[33m_\u001b[39;49;00m\u001b[33m{id}\u001b[39;49;00m\u001b[33m(People)\u001b[39;49;00m\u001b[33m\"\u001b[39;49;00m, [\u001b[33m\"\u001b[39;49;00m\u001b[33mid\u001b[39;49;00m\u001b[33m\"\u001b[39;49;00m], {(\u001b[94m1\u001b[39;49;00m,), (\u001b[94m2\u001b[39;49;00m,)})\u001b[90m\u001b[39;49;00m\n",
      "        expected_name = make_rel(\u001b[33m\"\u001b[39;49;00m\u001b[33m\\u03C0\u001b[39;49;00m\u001b[33m_\u001b[39;49;00m\u001b[33m{name}\u001b[39;49;00m\u001b[33m(People)\u001b[39;49;00m\u001b[33m\"\u001b[39;49;00m, [\u001b[33m\"\u001b[39;49;00m\u001b[33mname\u001b[39;49;00m\u001b[33m\"\u001b[39;49;00m], {(\u001b[33m\"\u001b[39;49;00m\u001b[33mAda\u001b[39;49;00m\u001b[33m\"\u001b[39;49;00m,), (\u001b[33m\"\u001b[39;49;00m\u001b[33mBob\u001b[39;49;00m\u001b[33m\"\u001b[39;49;00m,)})\u001b[90m\u001b[39;49;00m\n",
      "    \u001b[90m\u001b[39;49;00m\n",
      ">       \u001b[94massert\u001b[39;49;00m out_id == expected_id\u001b[90m\u001b[39;49;00m\n",
      "\u001b[1m\u001b[31mE       assert <__main__.Relation object at 0x1084ae7b0> == <__main__.Relation object at 0x1084ad460>\u001b[0m\n",
      "\n",
      "\u001b[1m\u001b[31m/var/folders/7n/9nnbl1td6sq50rrh09m9x1v80000gn/T/ipykernel_22394/803361556.py\u001b[0m:86: AssertionError\n",
      "\u001b[36m\u001b[1m===================================== short test summary info ======================================\u001b[0m\n",
      "\u001b[31mFAILED\u001b[0m t_2e29162528fb485697e01247406f433f.py::\u001b[1mtest_project_single_column_basic\u001b[0m - assert <__main__.Relation object at 0x1084c9880> == <__main__.Relation object at 0x1084c8260>\n",
      "\u001b[31mFAILED\u001b[0m t_2e29162528fb485697e01247406f433f.py::\u001b[1mtest_project_removes_duplicates\u001b[0m - assert <__main__.Relation object at 0x1084cbec0> == <__main__.Relation object at 0x1084ca570>\n",
      "\u001b[31mFAILED\u001b[0m t_2e29162528fb485697e01247406f433f.py::\u001b[1mtest_project_different_columns\u001b[0m - assert <__main__.Relation object at 0x1084ae7b0> == <__main__.Relation object at 0x1084ad460>\n",
      "\u001b[31m\u001b[31m\u001b[1m3 failed\u001b[0m, \u001b[32m2 passed\u001b[0m\u001b[31m in 0.02s\u001b[0m\u001b[0m\n"
     ]
    }
   ],
   "source": [
    "%%ipytest\n",
    "def test_project_single_column_basic() -> None:\n",
    "    \"\"\"\n",
    "    Project onto a single existing column.\n",
    "    Expect:\n",
    "      - header becomes that single column\n",
    "      - rows become 1-tuples\n",
    "      - duplicates removed by set semantics\n",
    "    \"\"\"\n",
    "    r = make_rel(\n",
    "        \"R\",\n",
    "        [\"A\", \"B\"],\n",
    "        {(1, \"x\"), (2, \"y\"), (2, \"z\")},\n",
    "    )\n",
    "\n",
    "    out = r.project(\"A\")\n",
    "\n",
    "    # Expected relation\n",
    "    expected = make_rel(\n",
    "        \"\\u03C0_{A}(R)\",\n",
    "        [\"A\"],\n",
    "        {(1,), (2,)},\n",
    "    )\n",
    "\n",
    "    assert out == expected\n",
    "\n",
    "\n",
    "def test_project_removes_duplicates() -> None:\n",
    "    \"\"\"\n",
    "    When different rows share the same projected value,\n",
    "    the result contains only one copy of that value.\n",
    "    \"\"\"\n",
    "    r = make_rel(\n",
    "        \"Teams\",\n",
    "        [\"player\", \"team\"],\n",
    "        {(\"Ann\", \"Blue\"), (\"Bob\", \"Blue\"), (\"Cyd\", \"Red\")},\n",
    "    )\n",
    "\n",
    "    out = r.project(\"team\")\n",
    "\n",
    "    expected = make_rel(\n",
    "        \"\\u03C0_{team}(Teams)\",\n",
    "        [\"team\"],\n",
    "        {(\"Blue\",), (\"Red\",)},\n",
    "    )\n",
    "\n",
    "    assert out == expected\n",
    "\n",
    "\n",
    "def test_project_invalid_column_raises() -> None:\n",
    "    \"\"\"Projecting on a non-existent column should raise IncompatibleOperandError.\"\"\"\n",
    "    r = make_rel(\n",
    "        \"R\",\n",
    "        [\"A\", \"B\"],\n",
    "        {(1, \"x\")},\n",
    "    )\n",
    "    with pytest.raises(IncompatibleOperandError):\n",
    "        _ = r.project(\"C\")\n",
    "\n",
    "\n",
    "def test_project_name_formatting() -> None:\n",
    "    \"\"\"\n",
    "    The resulting relation name should be π_{col}(OriginalName).\n",
    "    This checks only the name; contents are validated elsewhere.\n",
    "    \"\"\"\n",
    "    r = make_rel(\"R\", [\"A\", \"B\"], {(1, \"x\")})\n",
    "    out = r.project(\"A\")\n",
    "    assert out.name == \"\\u03C0_{A}(R)\"\n",
    "\n",
    "\n",
    "def test_project_different_columns() -> None:\n",
    "    \"\"\"\n",
    "    Smoke test projecting different columns from the same base relation.\n",
    "    \"\"\"\n",
    "    r = make_rel(\n",
    "        \"People\",\n",
    "        [\"id\", \"name\"],\n",
    "        {(1, \"Ada\"), (2, \"Bob\")},\n",
    "    )\n",
    "\n",
    "    out_id = r.project(\"id\")\n",
    "    out_name = r.project(\"name\")\n",
    "\n",
    "    expected_id = make_rel(\"\\u03C0_{id}(People)\", [\"id\"], {(1,), (2,)})\n",
    "    expected_name = make_rel(\"\\u03C0_{name}(People)\", [\"name\"], {(\"Ada\",), (\"Bob\",)})\n",
    "\n",
    "    assert out_id == expected_id\n",
    "    assert out_name == expected_name"
   ]
  },
  {
   "cell_type": "markdown",
   "metadata": {},
   "source": [
    "---"
   ]
  },
  {
   "cell_type": "markdown",
   "metadata": {},
   "source": [
    "You can ignore the rest of this notebook. I'm using it to create material for the slides in class.\n",
    "\n",
    "#### What is a database? ###\n",
    "\n",
    "Consider the following datalog program\n",
    "\n",
    "<pre>\n",
    "Schemes:\n",
    "   childOf(P, C)       # P = Parent, C = Child \n",
    "   marriedTo(S1, S2)   # S1 = Spouse 1, S2 = Spouse 2\n",
    "\n",
    "Facts:<br/>\n",
    "   marriedTo('Jack', 'Jill').\n",
    "   marriedTo('Annie', 'Aaron').\n",
    "   marriedTo('Molly', 'Matt').\n",
    "   childOf('Jack', 'Matt').\n",
    "   childOf('Annie', 'Molly').   \n",
    "   childOf('Matt', 'Nate').\n",
    "\n",
    "Rules:\n",
    "   childOf(Y, X) :- childOf(Z, X), marriedTo(Y, Z).\n",
    "   marriedTo(X, Y) :- marriedTo(Y, X).\n",
    "\n",
    "Queries:\n",
    "   marriedTo('Jack', 'Jill')?\n",
    "   childOf('Aaron', 'Molly')? \n",
    "   childOf(P, 'Nate')?\n",
    "</pre>\n"
   ]
  },
  {
   "cell_type": "markdown",
   "metadata": {},
   "source": [
    "This datalog program should create a database with two relations. Let's create them. I'm going to do this without having the _name_ variable in the `Relation` class since this matches the starter code more closely."
   ]
  },
  {
   "cell_type": "code",
   "execution_count": 126,
   "metadata": {},
   "outputs": [],
   "source": [
    "class Relation:\n",
    "    def __init__(self, relation_header: list[str], set_of_tuples: set[RelationTuple]) -> None:\n",
    "        self.header = list(relation_header)\n",
    "        self.set_of_tuples = set(set_of_tuples)\n",
    "\n",
    "    def __str__(self) -> str:\n",
    "        value: str = tabulate(iter(self.set_of_tuples), self.header, tablefmt=\"fancy_grid\")\n",
    "        return value\n",
    "\n",
    "    def __eq__(self, other: Any) -> bool:\n",
    "        if not isinstance(other, Relation):\n",
    "            print(\"you are trying to compare a relation to something that is not a relation\")\n",
    "            return False\n",
    "        return (\n",
    "            self.header == other.header\n",
    "            and self.set_of_tuples == other.set_of_tuples\n",
    "        )\n",
    "    \n",
    "    ########################\n",
    "    # Relational Operators #\n",
    "    ########################\n",
    "    def union(self,other) -> 'Relation':\n",
    "        if not isinstance(other, Relation):\n",
    "            raise IncompatibleOperandError(f\"Tried to union a relation with a {type(other)}\") # don't attempt to union with something not a relation\n",
    "        # First, check the precondition to see if the headers are the same\n",
    "        if self.header != other.header:\n",
    "            raise IncompatibleOperandError(\"Tried to union two relations with different headers\")\n",
    "        \n",
    "        # Second, create a new header that is the union of the sets of tuples\n",
    "        header: list[str] = self.header\n",
    "        set_of_tuples = self.set_of_tuples\n",
    "        set_of_tuples = set_of_tuples.union(other.set_of_tuples)    # This is the union operator defined for set objects\n",
    "        return Relation(header,set_of_tuples) # Create a new relation\n",
    "\n",
    "    def project(self,column_header: str) -> 'Relation':\n",
    "        # Only a portion of this function is implemented. \n",
    "        # Specifically, only the portion that projects onto a single column.\n",
    "        # You have to implement the rest of this function in the Project 3\n",
    "        \n",
    "        # First, check the precondition\n",
    "        # The precondition for the project operator is that the column attribute\n",
    "        # must exist in the set of attributes\n",
    "        if column_header not in set(self.header):\n",
    "            raise IncompatibleOperandError(f\"Tried to project onto {column_header}, which isn't an attribute of the relation\")\n",
    "        \n",
    "        # Second, create a new relation that is the output of the projection operator.\n",
    "        # THe relation needs a name, a header, and the set of tuples\n",
    "        new_header = (column_header,) # Notice the comma after \"column_header\", which forces the header to be a tuple\n",
    "        header_index = self.header.index(column_header) # Get the index of the header that matches the column you want\n",
    "        # I modified this next line to produce \"one-ples\"\n",
    "        new_tuples: set[RelationTuple] = {(rtuple[header_index],) for rtuple in self.set_of_tuples} \n",
    "        new_relation = Relation(new_header,new_tuples) # Create the relation\n",
    "        return new_relation "
   ]
  },
  {
   "cell_type": "code",
   "execution_count": 127,
   "metadata": {},
   "outputs": [
    {
     "name": "stdout",
     "output_type": "stream",
     "text": [
      "╒═══════╤═══════╕\n",
      "│ P     │ C     │\n",
      "╞═══════╪═══════╡\n",
      "│ Annie │ Molly │\n",
      "├───────┼───────┤\n",
      "│ Matt  │ Nate  │\n",
      "├───────┼───────┤\n",
      "│ Jack  │ Matt  │\n",
      "╘═══════╧═══════╛\n",
      "╒═══════╤═══════╕\n",
      "│ S1    │ S2    │\n",
      "╞═══════╪═══════╡\n",
      "│ Jack  │ Jill  │\n",
      "├───────┼───────┤\n",
      "│ Annie │ Aaron │\n",
      "├───────┼───────┤\n",
      "│ Molly │ Matt  │\n",
      "╘═══════╧═══════╛\n"
     ]
    }
   ],
   "source": [
    "childOf: Relation = Relation(relation_header=['P','C'],\n",
    "                             set_of_tuples={('Jack', 'Matt'),\n",
    "                                             ('Annie', 'Molly'),\n",
    "                                             ('Matt','Nate')})\n",
    "marriedTo: Relation = Relation(relation_header=['S1','S2'],\n",
    "                             set_of_tuples={('Jack', 'Jill'),\n",
    "                                             ('Annie', 'Aaron'),\n",
    "                                             ('Molly','Matt')})\n",
    "\n",
    "print(childOf)\n",
    "print(marriedTo)"
   ]
  },
  {
   "cell_type": "markdown",
   "metadata": {},
   "source": [
    "How do I store this in a database? Since we are saying that a database is just a set of relations, let's define a relation object as a dictionary of relations. We'll use the relation's name as the key in the dictionary."
   ]
  },
  {
   "cell_type": "code",
   "execution_count": 128,
   "metadata": {},
   "outputs": [
    {
     "name": "stdout",
     "output_type": "stream",
     "text": [
      "relation childOf is \n",
      "╒═══════╤═══════╕\n",
      "│ P     │ C     │\n",
      "╞═══════╪═══════╡\n",
      "│ Annie │ Molly │\n",
      "├───────┼───────┤\n",
      "│ Matt  │ Nate  │\n",
      "├───────┼───────┤\n",
      "│ Jack  │ Matt  │\n",
      "╘═══════╧═══════╛\n",
      "relation marriedTo is \n",
      "╒═══════╤═══════╕\n",
      "│ S1    │ S2    │\n",
      "╞═══════╪═══════╡\n",
      "│ Jack  │ Jill  │\n",
      "├───────┼───────┤\n",
      "│ Annie │ Aaron │\n",
      "├───────┼───────┤\n",
      "│ Molly │ Matt  │\n",
      "╘═══════╧═══════╛\n"
     ]
    }
   ],
   "source": [
    "database: dict['str',Relation] = {'childOf': childOf, 'marriedTo': marriedTo}\n",
    "for relation_name in database.keys():\n",
    "    print(f\"relation {relation_name} is \\n{database[relation_name]}\")"
   ]
  },
  {
   "cell_type": "markdown",
   "metadata": {},
   "source": [
    "Let's create the relation that we know should form when I want to do a project operation. Let's project the _childOf_ relation onto the _P_ column, \n",
    "\n",
    "${\\rm answer} = \\pi_{P}({\\rm database['childOf']})$\n",
    "\n",
    "When we do the math by hand, we know that we should end up with a relation with one column and \"one-ples\" of the parents.  I'm calling this the _math_answer_ because this is what happens when we do the project operation by hand. We'll create a relation for this answer we obtained by hand."
   ]
  },
  {
   "cell_type": "code",
   "execution_count": 129,
   "metadata": {},
   "outputs": [
    {
     "name": "stdout",
     "output_type": "stream",
     "text": [
      "╒═══════╕\n",
      "│ P     │\n",
      "╞═══════╡\n",
      "│ Annie │\n",
      "├───────┤\n",
      "│ Matt  │\n",
      "├───────┤\n",
      "│ Jack  │\n",
      "╘═══════╛\n"
     ]
    }
   ],
   "source": [
    "math_answer: Relation = Relation(relation_header=['P'],\n",
    "                             set_of_tuples={('Matt',), ('Jack',), ('Annie',)})\n",
    "print(math_answer)"
   ]
  },
  {
   "cell_type": "markdown",
   "metadata": {},
   "source": [
    "Let's now run the project function from the relation class to test whether the _project_ function we've implemented in code actually works."
   ]
  },
  {
   "cell_type": "code",
   "execution_count": 130,
   "metadata": {},
   "outputs": [
    {
     "name": "stdout",
     "output_type": "stream",
     "text": [
      "╒═══════╕\n",
      "│ P     │\n",
      "╞═══════╡\n",
      "│ Annie │\n",
      "├───────┤\n",
      "│ Matt  │\n",
      "├───────┤\n",
      "│ Jack  │\n",
      "╘═══════╛\n"
     ]
    }
   ],
   "source": [
    "code_answer = database['childOf'].project('P')\n",
    "print(code_answer)"
   ]
  },
  {
   "cell_type": "markdown",
   "metadata": {},
   "source": [
    "And we can put this into an assert statement to test that the code output matches the math answer."
   ]
  },
  {
   "cell_type": "code",
   "execution_count": 131,
   "metadata": {},
   "outputs": [],
   "source": [
    "assert code_answer.__str__() == math_answer.__str__(), \"Project function not implemented correctly\""
   ]
  }
 ],
 "metadata": {
  "kernelspec": {
   "display_name": ".venv",
   "language": "python",
   "name": "python3"
  },
  "language_info": {
   "codemirror_mode": {
    "name": "ipython",
    "version": 3
   },
   "file_extension": ".py",
   "mimetype": "text/x-python",
   "name": "python",
   "nbconvert_exporter": "python",
   "pygments_lexer": "ipython3",
   "version": "3.12.5"
  },
  "orig_nbformat": 4
 },
 "nbformat": 4,
 "nbformat_minor": 2
}
