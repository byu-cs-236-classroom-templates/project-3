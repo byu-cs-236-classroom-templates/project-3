{
 "cells": [
  {
   "attachments": {},
   "cell_type": "markdown",
   "metadata": {},
   "source": [
    "## Introduction to relations and relational algebra\n",
    "CS 236 <br>\n",
    "Fall 2025\n",
    "\n",
    "Michael A. Goodrich and Eric G. Mercer<br>\n",
    "Brigham Young University <br>\n",
    "March 2023, Updated Oct 2024 and Sept 2025 <br><br>\n",
    "This tutorial includes some input from ChatPT-5 in response to prompts on (a) how to introduce parameterized tests in pytest and (b) how to start thinking about test coverage using input partitioning\n",
    "***"
   ]
  },
  {
   "cell_type": "markdown",
   "metadata": {},
   "source": [
    "## 0. Overview\n",
    "\n",
    "This notebook will:\n",
    "- Review both the **mathematical definition** of a relation and the definition used in **relational databases**\n",
    "- Demonstrate implementations of relations and relational operators in Python\n",
    "- Show how to check whether two relations are equal using **dunder** methods\n",
    "- Review the difference between **copying** data vs **referencing** it in Python\n",
    "- Describe how to construct and use **parameterized unit tests**\n",
    "- Discuss **test coverage** via **input partitioning**\n",
    "\n",
    "\n",
    "### 0.1 Before you Begin\n",
    "\n",
    "- Follow the steps in the **Developer Setup** instructions in the Project 3 `README`.\n",
    "- Tell VS Code to use the Python interpreter you created in your virtual environment.\n",
    "\n",
    "---"
   ]
  },
  {
   "attachments": {},
   "cell_type": "markdown",
   "metadata": {},
   "source": [
    "## 1. What is a Relation\n",
    "\n",
    "The textbook defines as relation as a set of mathematical tuples:\n",
    "\n",
    "* $R\\subset A\\times B$\n",
    "* $R=\\{(a,1),(b,2),(c,3),(d,4)\\}$\n",
    "\n",
    "In relational databases, the same relation is represented as a table (with a header) instead of as a set:\n",
    "\n",
    "| `char` | `int` | \n",
    "| :-: | :-: | \n",
    "| $a$ | $1$ |\n",
    "| $b$ | $2$ | \n",
    "| $c$ | $3$ | \n",
    "| $d$ | $4$ | \n",
    "\n",
    "The table __header__ contains the **attributes** associated with each element of the tuple. You can think of the attributes specified in the header as assigning names to each column. For example, the first column in the relation above contains elements from the set `char` and the second column contains elements from the set `int`. The header contains information about the sets from which the cartesian product is formed, $R\\subseteq $`char`$ \\times$ `int`.\n",
    "\n",
    "Below the header are rows containing __tuples__. The tuples are the elements of the __set__ that defines the relation, $R=\\{(a,1),(b,2),(c,3),(d,4)\\}$.\n",
    "\n",
    "The order of elements in a set doesn't matter\n",
    "\n",
    "* $\\{(a,1),(b,2),(c,3),(d,4)\\} = \\{(d,4),(b,2),(a,1),(c,3)\\}$\n",
    "\n",
    "Similarly, the order of the rows in the table doesn't matter (except for the header) because the rows represent the set of tuples. For example, the following table represents the same relation as the table above.\n",
    "\n",
    "| `char` | `int` | \n",
    "| :-: | :-: | \n",
    "| $d$ | $4$ | \n",
    "| $a$ | $1$ |\n",
    "| $b$ | $2$ | \n",
    "| $c$ | $3$ | \n",
    "\n",
    "\n",
    "***"
   ]
  },
  {
   "attachments": {},
   "cell_type": "markdown",
   "metadata": {},
   "source": [
    "## 2. Encoding a Relation as a Python Class\n",
    "\n",
    "Let's construct a class that represents a relation.  The class members need to encode the parts of the table. Thus, there needs to be a class member for the header and another class member for the set of tuples. To help with the discussion, we'll also include the name of the relation in the code below, but you won't see this in the starter code for Project 3. Thus, the relation class will include:\n",
    "- The relation name as a `str`. \n",
    "- The relation header will be defined as a list of strings: `list[str]`\n",
    "- Each tuple in the relation will be defined as a new type called `RelationTuple`\n",
    "  - The `RelationTuple` will be built using Python's default `tuple` type.  \n",
    "  - The class created below allows both integers and strings to be the elements of a tuple, so look for the vertical bar that says the tuple types can be either an int or a str yielding `RelationTuple = tuple[str | int]`\n",
    "  - We won't specify how many elements will be in the `RelationTuple` so we'll use Python's `...` to indicate that we can have several tuples yielding `RelationTuple = tuple[str | int, ...]`\n",
    "- A helper `__str__` method that returns a string in the correct format. This method will use a table formatting tool in Python called `tabulate`, which should have been installed when you executed `pip install --editable \".[dev]\"`."
   ]
  },
  {
   "cell_type": "code",
   "execution_count": 1,
   "metadata": {},
   "outputs": [
    {
     "name": "stdout",
     "output_type": "stream",
     "text": [
      "relation name = R\n",
      "╒════════╤═══════╕\n",
      "│ char   │   int │\n",
      "╞════════╪═══════╡\n",
      "│ d      │     4 │\n",
      "├────────┼───────┤\n",
      "│ b      │     2 │\n",
      "├────────┼───────┤\n",
      "│ a      │     1 │\n",
      "├────────┼───────┤\n",
      "│ c      │     3 │\n",
      "╘════════╧═══════╛\n",
      "relation name = Q\n",
      "╒═════╤═════╕\n",
      "│ C   │ D   │\n",
      "╞═════╪═════╡\n",
      "╘═════╧═════╛\n",
      "relation name = W\n",
      "╒═════╕\n",
      "│   A │\n",
      "╞═════╡\n",
      "│   1 │\n",
      "├─────┤\n",
      "│   2 │\n",
      "├─────┤\n",
      "│   3 │\n",
      "╘═════╛\n"
     ]
    }
   ],
   "source": [
    "from tabulate import tabulate  # requires the tabulate module\n",
    "\n",
    "RelationTuple = tuple[str | int, ...]\n",
    "        \n",
    "class Relation:\n",
    "    def __init__(self, relation_name: str, \n",
    "                 relation_header: list[str], \n",
    "                 set_of_tuples: set[RelationTuple]) -> None:\n",
    "        self.name:str = relation_name # I threw in a string for the relation name to help witht he discussion\n",
    "        self.header: list[str] = relation_header\n",
    "        self.set_of_tuples: set[RelationTuple] = set_of_tuples\n",
    "\n",
    "    def __str__(self) -> str:\n",
    "        value: str = f\"relation name = {self.name}\\n\" + tabulate(iter(self.set_of_tuples), self.header, tablefmt=\"fancy_grid\")\n",
    "        return value\n",
    "        \n",
    "    \n",
    "R: Relation = Relation(relation_name = \"R\",relation_header = ('char','int'), set_of_tuples = {('a',1),('b',2),('c',3),('d',4)})\n",
    "print(R)\n",
    "\n",
    "Q: Relation = Relation('Q',('C','D'),{})\n",
    "print(Q)\n",
    "\n",
    "# The following code will cause the __str__ method to crash\n",
    "# The problem is that tabulate requires strings and the types in the set are ints\n",
    "# W: Relation = Relation('W',('A'), {1, 2, 3})\n",
    "# They must be tuples. Later, the trailing comma will be explained\n",
    "W: Relation = Relation('W',('A'), {(1,), (2,), (3,)})\n",
    "print(W)\n"
   ]
  },
  {
   "attachments": {},
   "cell_type": "markdown",
   "metadata": {},
   "source": [
    "The top row in the tables above consist of the relation header. The remaining rows represent the set of tuples contained in the relation. Each line contains a unique tuple. The order of the tuples in the set of tuples doesn't matter since sets are not ordered.\n",
    "\n",
    "---"
   ]
  },
  {
   "cell_type": "markdown",
   "metadata": {},
   "source": [
    "#### 2.1 The `__eq__` Dunder Method\n",
    "\n",
    "A **dunder method** is any method in Python that begins and ends with **d**ouble **under**scores. There are several dunder methods defined each time a class is defined. Sometimes, we need to change the default definition of the dunder methods that are automatically created so that they behave like we want. It will be necessary to do this for the dunder method `__eq__` because the default implementation does not correctly check whether two relations are equal. \n",
    "\n",
    "Consider whether you think the following statement that checks whether two relations are equal should be true or false."
   ]
  },
  {
   "cell_type": "code",
   "execution_count": 2,
   "metadata": {},
   "outputs": [
    {
     "name": "stdout",
     "output_type": "stream",
     "text": [
      "relation name = R\n",
      "╒════════╤═══════╕\n",
      "│ char   │   int │\n",
      "╞════════╪═══════╡\n",
      "│ d      │     4 │\n",
      "├────────┼───────┤\n",
      "│ b      │     2 │\n",
      "├────────┼───────┤\n",
      "│ a      │     1 │\n",
      "├────────┼───────┤\n",
      "│ c      │     3 │\n",
      "╘════════╧═══════╛\n",
      "relation name = R\n",
      "╒════════╤═══════╕\n",
      "│ char   │   int │\n",
      "╞════════╪═══════╡\n",
      "│ d      │     4 │\n",
      "├────────┼───────┤\n",
      "│ b      │     2 │\n",
      "├────────┼───────┤\n",
      "│ a      │     1 │\n",
      "├────────┼───────┤\n",
      "│ c      │     3 │\n",
      "╘════════╧═══════╛\n",
      "The default __eq__ method says the statement R==R2 is False\n"
     ]
    }
   ],
   "source": [
    "R2: Relation = Relation(relation_name = \"R\",relation_header = ('char','int'), set_of_tuples = {('a',1),('b',2),('c',3),('d',4)})\n",
    "print(R)\n",
    "print(R2)\n",
    "print(f\"The default __eq__ method says the statement R==R2 is {R==R2}\")"
   ]
  },
  {
   "attachments": {},
   "cell_type": "markdown",
   "metadata": {},
   "source": [
    "Mathematically, $R=R2$ since (a) the headers are equal and (b) the two relations have the same set of tuples. The reason the default implementation of `__eq__` says that R does not equal R2 is the default implementation **doesn't check what's inside the relations** but rather **checks whether R and R2 are two different names for the same object**. In other words, `__eq__` just checks whether the two relation names are the same object.  When we print out the `id` information about each instance, we see that the objects have different addresses. Since the addresses don't match, the default `__eq__` method says the two relations are different."
   ]
  },
  {
   "cell_type": "code",
   "execution_count": 3,
   "metadata": {},
   "outputs": [
    {
     "name": "stdout",
     "output_type": "stream",
     "text": [
      "281472726344400\n",
      "281472714996192\n"
     ]
    }
   ],
   "source": [
    "print(id(R))\n",
    "print(id(R2))"
   ]
  },
  {
   "attachments": {},
   "cell_type": "markdown",
   "metadata": {},
   "source": [
    "Thus, we need to define an equality operator that checks the contents of the relation (both header and set of tuples) rather than just the id's of the two relations. A good discussion of how to do this can be found here: \n",
    "\n",
    "https://stackoverflow.com/questions/1227121/compare-object-instances-for-equality-by-their-attributes\n",
    "\n",
    "Let's redefine the class to define the `__eq__` function."
   ]
  },
  {
   "cell_type": "code",
   "execution_count": 4,
   "metadata": {},
   "outputs": [
    {
     "name": "stdout",
     "output_type": "stream",
     "text": [
      "The revised __eq__ method says the statement R==R2 is True\n"
     ]
    }
   ],
   "source": [
    "from typing import Any\n",
    "\n",
    "class Relation:\n",
    "    def __init__(self, relation_name: str, relation_header: list[str], set_of_tuples: set[RelationTuple]) -> None:\n",
    "        self.name:str = relation_name # I threw in a string for the relation name for fun\n",
    "        self.header: list[str] = relation_header\n",
    "        self.set_of_tuples: set[RelationTuple] = set_of_tuples\n",
    "\n",
    "    def __str__(self) -> str:\n",
    "        value: str = f\"relation name = {self.name}\\n\" + tabulate(iter(self.set_of_tuples), self.header, tablefmt=\"fancy_grid\")\n",
    "        return value\n",
    "\n",
    "    def __eq__(self, other: Any) -> bool:\n",
    "        if not isinstance(other, Relation):\n",
    "            print(\"you are trying to compare a relation to something that is not a relation\")\n",
    "            return False\n",
    "        return (\n",
    "            self.header == other.header\n",
    "            and self.set_of_tuples == other.set_of_tuples\n",
    "        )\n",
    "\n",
    "    \n",
    "R: Relation = Relation(relation_name = \"R\",relation_header = ('char','int'), set_of_tuples = {('a',1),('b',2),('c',3),('d',4)})\n",
    "R2: Relation = Relation(relation_name = \"R2\",relation_header = ('char','int'), set_of_tuples = {('b',2),('a',1),('c',3),('d',4)})\n",
    "print(f\"The revised __eq__ method says the statement R==R2 is {R==R2}\")"
   ]
  },
  {
   "attachments": {},
   "cell_type": "markdown",
   "metadata": {},
   "source": [
    "Defining the `__eq__` function within the class allows us to use the == operator to check whether the contents of the two relations are the same. Notice a few things about the `__eq__` method:\n",
    "\n",
    "- Two arguments are passed to the `__eq__` method: `self` and `other`. \n",
    "  - `self` refers to the instance of the relation class\n",
    "  - `other` refers to whatever the relation can be compared to. The code above uses the `Any` type to say that we can compare anything to the relation.\n",
    "- The first line of the method tests whether the `other` object passed in is a `Relation` type. If it's not, the function returns false.\n",
    "- The `__eq__` method returns the boolean expression that tests whether both headers match as well as whether the set of tuples match.\n",
    "\n",
    "***\n"
   ]
  },
  {
   "cell_type": "markdown",
   "metadata": {},
   "source": [
    "#### 2.2 Copy vs Reference (Aliasing)\n",
    "\n",
    "In Python, variables **hold references** to objects. Assigning one variable to another **does not make a new copy** . This means that both names refer to the **same object** (aliasing). Since mutating (i.e., changing) the object referenced by one name changes the single shared object, making a change to one object alters the other. We can demonstrate this with using Python strings.\n"
   ]
  },
  {
   "cell_type": "code",
   "execution_count": 5,
   "metadata": {},
   "outputs": [
    {
     "name": "stdout",
     "output_type": "stream",
     "text": [
      "Demonstrating the difference between copying and referencing\n",
      "string1 = Happy\n",
      "string2 = Happy\n",
      "The id for string 1 is 281472714997312\n",
      "The id for string 2 is 281472714997312\n",
      "Copying string1 to string2 means string1 == string2 is True\n"
     ]
    }
   ],
   "source": [
    "string1: str = \"Happy\"\n",
    "string2 = string1\n",
    "\n",
    "print(\"Demonstrating the difference between copying and referencing\")\n",
    "print(f\"string1 = {string1}\")\n",
    "print(f\"string2 = {string2}\")\n",
    "print(f\"The id for string 1 is {id(string1)}\")\n",
    "print(f\"The id for string 2 is {id(string2)}\")\n",
    "print(f\"Copying string1 to string2 means string1 == string2 is {string1 == string2}\")\n"
   ]
  },
  {
   "cell_type": "markdown",
   "metadata": {},
   "source": [
    "It is easy to miss the fact that assigning `string2 = string1` just assigns the reference because of an important property of strings: they are immutable in Python. Look at what happens when we add more string to `string2`."
   ]
  },
  {
   "cell_type": "code",
   "execution_count": 6,
   "metadata": {},
   "outputs": [
    {
     "name": "stdout",
     "output_type": "stream",
     "text": [
      "After modifying string2, string1 = Happy\n",
      "After modifying string2, string2 = Happy Birthday\n",
      "The id for string 1 is 281472714997312\n",
      "The id for string 2 is 281472715137200\n",
      "Modifying string2 means string1 == string2 is False because modifying string2 created a new string object\n"
     ]
    }
   ],
   "source": [
    "\n",
    "# The following line creates a new string object by concatenating \" Birthday\" to string2\n",
    "string2 += \" Birthday\"  \n",
    "print(f\"After modifying string2, string1 = {string1}\")\n",
    "print(f\"After modifying string2, string2 = {string2}\")\n",
    "print(f\"The id for string 1 is {id(string1)}\")\n",
    "print(f\"The id for string 2 is {id(string2)}\")\n",
    "print(f\"Modifying string2 means string1 == string2 is {string1 == string2} because modifying string2 created a new string object\")\n"
   ]
  },
  {
   "cell_type": "markdown",
   "metadata": {},
   "source": [
    "Since strings are immutable, modifying `string2` through `string2 += \"Birthday\"` actually creates a new copy of `string2`."
   ]
  },
  {
   "cell_type": "markdown",
   "metadata": {},
   "source": [
    "Let's see what happens when we copy a relation. We'll create a copy and print the `id` of both the original and the copy."
   ]
  },
  {
   "cell_type": "code",
   "execution_count": 7,
   "metadata": {},
   "outputs": [
    {
     "name": "stdout",
     "output_type": "stream",
     "text": [
      "281472726349008\n",
      "281472726349008\n"
     ]
    }
   ],
   "source": [
    "R: Relation = Relation(relation_name = \"R\",relation_header = ('char','int'), set_of_tuples = {('a',1),('b',2),('c',3),('d',4)})\n",
    "Q: Relation = R\n",
    "\n",
    "print(id(R))\n",
    "print(id(Q))"
   ]
  },
  {
   "cell_type": "markdown",
   "metadata": {},
   "source": [
    "Notice that the two objects have the same `id`. The problem is that Python defaults to creating a **reference** to the original object. This means that if we modify the copy we also modify the original. We can see this if I overwrite the header of the copy and then print out the header of the original and the copy. "
   ]
  },
  {
   "cell_type": "code",
   "execution_count": 8,
   "metadata": {},
   "outputs": [
    {
     "name": "stdout",
     "output_type": "stream",
     "text": [
      "Header of R before modification = ('char', 'int')\n",
      "Header of Q before modification = ('char', 'int')\n",
      "Header of R after modification = ['bart', 'lisa']\n",
      "Header of Q after modification = ['bart', 'lisa']\n"
     ]
    }
   ],
   "source": [
    "print(f'Header of R before modification = {R.header}')\n",
    "print(f'Header of Q before modification = {Q.header}')\n",
    "\n",
    "Q.header = ['bart', 'lisa']\n",
    "\n",
    "print(f'Header of R after modification = {R.header}')\n",
    "print(f'Header of Q after modification = {Q.header}')\n"
   ]
  },
  {
   "cell_type": "markdown",
   "metadata": {},
   "source": [
    "Notice how both the copy and the original are modified. This is because the copy created a new pointer to the original relation, so when we modified the memory to which the pointer referenced the we also modified the original."
   ]
  },
  {
   "cell_type": "markdown",
   "metadata": {},
   "source": [
    "Python's `deepcopy` creates a new instance of the object."
   ]
  },
  {
   "cell_type": "code",
   "execution_count": 9,
   "metadata": {},
   "outputs": [
    {
     "name": "stdout",
     "output_type": "stream",
     "text": [
      "281472767155024\n",
      "281472715161728\n",
      "Header of R before modification = ('char', 'int')\n",
      "Header of Q before modification = ('char', 'int')\n",
      "Header of R before modification = ('char', 'int')\n",
      "Header of Q before modification = ['bart', 'lisa']\n",
      "Header of R after modification = ('char', 'int')\n",
      "Header of Q after modification = ['bart', 'lisa']\n"
     ]
    }
   ],
   "source": [
    "from copy import deepcopy\n",
    "\n",
    "R: Relation = Relation(relation_name = \"R\",relation_header = ('char','int'), set_of_tuples = {('a',1),('b',2),('c',3),('d',4)})\n",
    "Q: Relation = deepcopy(R)\n",
    "\n",
    "print(id(R))\n",
    "print(id(Q))\n",
    "\n",
    "print(f'Header of R before modification = {R.header}')\n",
    "print(f'Header of Q before modification = {Q.header}')\n",
    "\n",
    "Q.header = ['bart', 'lisa']\n",
    "\n",
    "print(f'Header of R before modification = {R.header}')\n",
    "print(f'Header of Q before modification = {Q.header}')\n",
    "\n",
    "Q.header = ['bart', 'lisa']\n",
    "\n",
    "print(f'Header of R after modification = {R.header}')\n",
    "print(f'Header of Q after modification = {Q.header}')"
   ]
  },
  {
   "cell_type": "markdown",
   "metadata": {},
   "source": [
    "When we copy relations in Project 3, we intend to modify the new copy. Thus, we'll want to do a deep copy.\n",
    "\n",
    "**Rules of thumb**\n",
    "- If you plan to **mutate**, decide whether that mutation should be **shared** (reference) or **isolated** (copy).\n",
    "- For **immutable** types (e.g., `int`, `str`, `tuple` of immutables), aliasing is harmless because the object itself cannot be mutated.\n"
   ]
  },
  {
   "cell_type": "markdown",
   "metadata": {},
   "source": [
    "---\n"
   ]
  },
  {
   "cell_type": "markdown",
   "metadata": {},
   "source": [
    "## 3. Notes on the Starter Code\n",
    "\n",
    "There are a few things in the starter code that have been confusing to students in previous semesters. \n",
    "\n",
    "#### 3.1  Creating New Initalized Lists\n",
    "\n",
    "**Note that some of the information shared here was culled from copilot in response to a prompt on differences in initalizing member variables in the starter code.**\n",
    "\n",
    "Starter code is provided for project 3. It has a subtle difference with the definition of the class above. In the code above, assigning the `relation_header` to the class variable `self.header`is done by\n",
    "\n",
    "`self.header: list[str] = relation_header`\n",
    "\n",
    "but in the starter code the assigment is \n",
    "\n",
    "`self.header = list(relation_header)`\n",
    "\n",
    "What's the difference? Let's experiment with some variables outside of the definition of the Relation class. "
   ]
  },
  {
   "cell_type": "code",
   "execution_count": 10,
   "metadata": {},
   "outputs": [
    {
     "name": "stdout",
     "output_type": "stream",
     "text": [
      "The original list has id = 281472714952384\n",
      "The assignment operator in version 1 has id = 281472714952384\n",
      "The assignment operator in version 2 has id = 281472715012288\n"
     ]
    }
   ],
   "source": [
    "relation_header: list[str] = ['A', 'B', 'C']\n",
    "header_v1: list[str] = relation_header\n",
    "header_v2 = list(relation_header)\n",
    "\n",
    "print(f\"The original list has id = {id(relation_header)}\")\n",
    "print(f\"The assignment operator in version 1 has id = {id(header_v1)}\")\n",
    "print(f\"The assignment operator in version 2 has id = {id(header_v2)}\")"
   ]
  },
  {
   "cell_type": "markdown",
   "metadata": {},
   "source": [
    "Notice that the id's for the original list and the first version of the header have the same id, but the id's of the original list and the second version of the header have different id's. Stated simply,\n",
    " - the assignment `header_v1: list[str] = relation_header` copies a *reference* (e.g., the pointer)\n",
    " - the assignment `header_v2 = list(relation_header)` creates a brand new list object\n",
    "\n",
    "You can tell that the second assignment creates a brand new list object because it uses the formatting that we use whenever we create a new object in Python. The `list(stuff)` creates a new instance of a list object, where `stuff` initializes the list object. We can confirm that a new list object is created by asking Python about the list keyword, as follows:"
   ]
  },
  {
   "cell_type": "code",
   "execution_count": 11,
   "metadata": {},
   "outputs": [
    {
     "name": "stdout",
     "output_type": "stream",
     "text": [
      "Help on class list in module builtins:\n",
      "\n",
      "class list(object)\n",
      " |  list(iterable=(), /)\n",
      " |\n",
      " |  Built-in mutable sequence.\n",
      " |\n",
      " |  If no argument is given, the constructor creates a new empty list.\n",
      " |  The argument must be an iterable if specified.\n",
      " |\n",
      " |  Methods defined here:\n",
      " |\n",
      " |  __add__(self, value, /)\n",
      " |      Return self+value.\n",
      " |\n",
      " |  __contains__(self, key, /)\n",
      " |      Return bool(key in self).\n",
      " |\n",
      " |  __delitem__(self, key, /)\n",
      " |      Delete self[key].\n",
      " |\n",
      " |  __eq__(self, value, /)\n",
      " |      Return self==value.\n",
      " |\n",
      " |  __ge__(self, value, /)\n",
      " |      Return self>=value.\n",
      " |\n",
      " |  __getattribute__(self, name, /)\n",
      " |      Return getattr(self, name).\n",
      " |\n",
      " |  __getitem__(self, index, /)\n",
      " |      Return self[index].\n",
      " |\n",
      " |  __gt__(self, value, /)\n",
      " |      Return self>value.\n",
      " |\n",
      " |  __iadd__(self, value, /)\n",
      " |      Implement self+=value.\n",
      " |\n",
      " |  __imul__(self, value, /)\n",
      " |      Implement self*=value.\n",
      " |\n",
      " |  __init__(self, /, *args, **kwargs)\n",
      " |      Initialize self.  See help(type(self)) for accurate signature.\n",
      " |\n",
      " |  __iter__(self, /)\n",
      " |      Implement iter(self).\n",
      " |\n",
      " |  __le__(self, value, /)\n",
      " |      Return self<=value.\n",
      " |\n",
      " |  __len__(self, /)\n",
      " |      Return len(self).\n",
      " |\n",
      " |  __lt__(self, value, /)\n",
      " |      Return self<value.\n",
      " |\n",
      " |  __mul__(self, value, /)\n",
      " |      Return self*value.\n",
      " |\n",
      " |  __ne__(self, value, /)\n",
      " |      Return self!=value.\n",
      " |\n",
      " |  __repr__(self, /)\n",
      " |      Return repr(self).\n",
      " |\n",
      " |  __reversed__(self, /)\n",
      " |      Return a reverse iterator over the list.\n",
      " |\n",
      " |  __rmul__(self, value, /)\n",
      " |      Return value*self.\n",
      " |\n",
      " |  __setitem__(self, key, value, /)\n",
      " |      Set self[key] to value.\n",
      " |\n",
      " |  __sizeof__(self, /)\n",
      " |      Return the size of the list in memory, in bytes.\n",
      " |\n",
      " |  append(self, object, /)\n",
      " |      Append object to the end of the list.\n",
      " |\n",
      " |  clear(self, /)\n",
      " |      Remove all items from list.\n",
      " |\n",
      " |  copy(self, /)\n",
      " |      Return a shallow copy of the list.\n",
      " |\n",
      " |  count(self, value, /)\n",
      " |      Return number of occurrences of value.\n",
      " |\n",
      " |  extend(self, iterable, /)\n",
      " |      Extend list by appending elements from the iterable.\n",
      " |\n",
      " |  index(self, value, start=0, stop=9223372036854775807, /)\n",
      " |      Return first index of value.\n",
      " |\n",
      " |      Raises ValueError if the value is not present.\n",
      " |\n",
      " |  insert(self, index, object, /)\n",
      " |      Insert object before index.\n",
      " |\n",
      " |  pop(self, index=-1, /)\n",
      " |      Remove and return item at index (default last).\n",
      " |\n",
      " |      Raises IndexError if list is empty or index is out of range.\n",
      " |\n",
      " |  remove(self, value, /)\n",
      " |      Remove first occurrence of value.\n",
      " |\n",
      " |      Raises ValueError if the value is not present.\n",
      " |\n",
      " |  reverse(self, /)\n",
      " |      Reverse *IN PLACE*.\n",
      " |\n",
      " |  sort(self, /, *, key=None, reverse=False)\n",
      " |      Sort the list in ascending order and return None.\n",
      " |\n",
      " |      The sort is in-place (i.e. the list itself is modified) and stable (i.e. the\n",
      " |      order of two equal elements is maintained).\n",
      " |\n",
      " |      If a key function is given, apply it once to each list item and sort them,\n",
      " |      ascending or descending, according to their function values.\n",
      " |\n",
      " |      The reverse flag can be set to sort in descending order.\n",
      " |\n",
      " |  ----------------------------------------------------------------------\n",
      " |  Class methods defined here:\n",
      " |\n",
      " |  __class_getitem__(...)\n",
      " |      See PEP 585\n",
      " |\n",
      " |  ----------------------------------------------------------------------\n",
      " |  Static methods defined here:\n",
      " |\n",
      " |  __new__(*args, **kwargs)\n",
      " |      Create and return a new object.  See help(type) for accurate signature.\n",
      " |\n",
      " |  ----------------------------------------------------------------------\n",
      " |  Data and other attributes defined here:\n",
      " |\n",
      " |  __hash__ = None\n",
      "\n"
     ]
    }
   ],
   "source": [
    "help(list)"
   ]
  },
  {
   "cell_type": "markdown",
   "metadata": {},
   "source": [
    "---"
   ]
  },
  {
   "cell_type": "markdown",
   "metadata": {},
   "source": [
    "#### 3.2 Creating relations with one-ples or empty relations ####\n",
    "\n",
    "A tuple can have only a single element in it, what Goodrich jokingly calls a \"one-ple\" in class. There is a tricky problem that comes up when we try to create a tuple with only a single element. Consider the following. We want to create a relation \n",
    "\n",
    "| `char` | \n",
    "| :-: | \n",
    "| a | \n",
    "\n",
    "but when we call the constructor for the `Relation` class we get a different relation\n"
   ]
  },
  {
   "cell_type": "code",
   "execution_count": 12,
   "metadata": {},
   "outputs": [
    {
     "name": "stdout",
     "output_type": "stream",
     "text": [
      "relation name = R\n",
      "╒═════╕\n",
      "│ c   │\n",
      "╞═════╡\n",
      "│ a   │\n",
      "╘═════╛\n"
     ]
    }
   ],
   "source": [
    "\n",
    "R: Relation = Relation('R',('char'),{('a')}) #To create a tuple with only one item, you have add a comma after the item, otherwise Python will not recognize the variable as a tuple.\n",
    "print(R)\n"
   ]
  },
  {
   "attachments": {},
   "cell_type": "markdown",
   "metadata": {},
   "source": [
    "Notice how the only the \"c\" from the attribute name \"char\" is printed out. This can be a difficult bug to diagnose.\n",
    "\n",
    "It gets worse if we try to create a relation with no tuples in the set. We intend to create the relation\n",
    "\n",
    "| `char` | \n",
    "| :-: | \n",
    "\n",
    "but calling the contructor with an empty set of tuples gives"
   ]
  },
  {
   "cell_type": "code",
   "execution_count": 13,
   "metadata": {},
   "outputs": [
    {
     "name": "stdout",
     "output_type": "stream",
     "text": [
      "relation name = Q\n",
      "╒═════╤═════╤═════╤═════╕\n",
      "│ c   │ h   │ a   │ r   │\n",
      "╞═════╪═════╪═════╪═════╡\n",
      "╘═════╧═════╧═════╧═════╛\n"
     ]
    }
   ],
   "source": [
    "Q: Relation = Relation('Q',('char'),{}) #To create a tuple with only one item, you have add a comma after the item, otherwise Python will not recognize the variable as a tuple.\n",
    "print(Q)"
   ]
  },
  {
   "attachments": {},
   "cell_type": "markdown",
   "metadata": {},
   "source": [
    "That's not what we intended at all. We can get around this by adding a comma after the single element of the tuple (after both the 'char' and the 'a')..."
   ]
  },
  {
   "cell_type": "code",
   "execution_count": 14,
   "metadata": {},
   "outputs": [
    {
     "name": "stdout",
     "output_type": "stream",
     "text": [
      "relation name = P\n",
      "╒════════╕\n",
      "│ char   │\n",
      "╞════════╡\n",
      "│ a      │\n",
      "╘════════╛\n"
     ]
    }
   ],
   "source": [
    "P: Relation = Relation('P',('char',),{('a',)}) #To create a tuple with only one item, you have add a comma after the item, otherwise Python will not recognize the variable as a tuple.\n",
    "print(P)\n"
   ]
  },
  {
   "attachments": {},
   "cell_type": "markdown",
   "metadata": {},
   "source": [
    "... and by adding a single comma after the header when we create a relation with the set of tuples empty"
   ]
  },
  {
   "cell_type": "code",
   "execution_count": 15,
   "metadata": {},
   "outputs": [
    {
     "name": "stdout",
     "output_type": "stream",
     "text": [
      "relation name = Q\n",
      "╒════════╕\n",
      "│ char   │\n",
      "╞════════╡\n",
      "╘════════╛\n"
     ]
    }
   ],
   "source": [
    "Q: Relation = Relation('Q',('char',),{}) #To create a tuple with only one item, you have add a comma after the item, otherwise Python will not recognize the variable as a tuple.\n",
    "print(Q)\n"
   ]
  },
  {
   "cell_type": "markdown",
   "metadata": {},
   "source": [
    "A good LLM prompt to understand this issue better is\n",
    "\n",
    "     Why do i have to add a comma after a list with only one element in python? \n",
    "\n",
    "--- "
   ]
  },
  {
   "cell_type": "markdown",
   "metadata": {},
   "source": [
    "## 4. Adding relational algebra operators to the Relation class"
   ]
  },
  {
   "attachments": {},
   "cell_type": "markdown",
   "metadata": {},
   "source": [
    "We are now in a position to start filling in the rest of the Relation class.\n",
    "\n",
    "I want to be able to apply the _relational operators_ to any relation or pair of relations. Using good object-oriented programming style, I'll add the relational operators as functions to the class.\n",
    "\n",
    "Let's begin by creating our own error handler a la the starter code\n"
   ]
  },
  {
   "cell_type": "code",
   "execution_count": 16,
   "metadata": {},
   "outputs": [],
   "source": [
    "class IncompatibleOperandError(Exception):\n",
    "    def __init__(self, msg: str) -> None:\n",
    "        super().__init__(msg)"
   ]
  },
  {
   "cell_type": "markdown",
   "metadata": {},
   "source": [
    "#### 4.1 Union\n",
    "\n",
    "Consider the relation R defined as before\n",
    "| char | int | \n",
    "| :-: | :-: | \n",
    "| $a$ | $1$ |\n",
    "| $b$ | $2$ | \n",
    "| $c$ | $3$ | \n",
    "| $d$ | $4$ | \n",
    "\n",
    "and consider a new relation Q defined as\n",
    "| char | int | \n",
    "| :-: | :-: | \n",
    "| $f$ | $3$ |\n",
    "\n",
    "The union $P\\cup Q$ is possible since the headers match. \"Doing the math\" on this union yields\n",
    "| char | int | \n",
    "| :-: | :-: | \n",
    "| $a$ | $1$ |\n",
    "| $b$ | $2$ | \n",
    "| $c$ | $3$ | \n",
    "| $d$ | $4$ | \n",
    "| $f$ | $3$ |  \n",
    "\n",
    "Let's check in the code."
   ]
  },
  {
   "cell_type": "code",
   "execution_count": 17,
   "metadata": {},
   "outputs": [],
   "source": [
    "class Relation:\n",
    "    def __init__(self, relation_name: str, relation_header: list[str], set_of_tuples: set[RelationTuple]) -> None:\n",
    "        self.name:str = relation_name # I threw in a string for the relation name for fun\n",
    "        self.header: list[str] = relation_header\n",
    "        self.set_of_tuples: set[RelationTuple] = set_of_tuples\n",
    "\n",
    "    def __str__(self) -> str:\n",
    "        value: str = f\"relation name = {self.name}\\n\" + tabulate(iter(self.set_of_tuples), self.header, tablefmt=\"fancy_grid\")\n",
    "        return value\n",
    "\n",
    "    def __eq__(self, other: Any) -> bool:\n",
    "        if not isinstance(other, Relation):\n",
    "            print(\"you are trying to compare a relation to something that is not a relation\")\n",
    "            return False\n",
    "        return (\n",
    "            self.header == other.header\n",
    "            and self.set_of_tuples == other.set_of_tuples\n",
    "        )\n",
    "    \n",
    "    ########################\n",
    "    # Relational Operators #\n",
    "    ########################\n",
    "    def union(self,other) -> 'Relation':\n",
    "        if not isinstance(other, Relation):\n",
    "            raise IncompatibleOperandError(f\"Tried to union a relation with a {type(other)}\") # don't attempt to union with something not a relation\n",
    "        # First, check the precondition to see if the headers are the same\n",
    "        if self.header != other.header:\n",
    "            raise IncompatibleOperandError(\"Tried to union two relations with different headers\")\n",
    "        \n",
    "        # Second, create a new header that is the union of the sets of tuples\n",
    "        name: str = self.name + \"\\u222A\" + other.name\n",
    "        header: list[str] = self.header\n",
    "        set_of_tuples = self.set_of_tuples\n",
    "        set_of_tuples = set_of_tuples.union(other.set_of_tuples)    # This is the union operator defined for set objects\n",
    "        return Relation(name,header,set_of_tuples) # Create a new relation\n",
    "        \n"
   ]
  },
  {
   "cell_type": "code",
   "execution_count": 18,
   "metadata": {},
   "outputs": [
    {
     "name": "stdout",
     "output_type": "stream",
     "text": [
      "relation name = R∪Q\n",
      "╒════════╤═══════╕\n",
      "│ char   │   int │\n",
      "╞════════╪═══════╡\n",
      "│ d      │     4 │\n",
      "├────────┼───────┤\n",
      "│ c      │     3 │\n",
      "├────────┼───────┤\n",
      "│ f      │     3 │\n",
      "├────────┼───────┤\n",
      "│ b      │     2 │\n",
      "├────────┼───────┤\n",
      "│ a      │     1 │\n",
      "╘════════╧═══════╛\n"
     ]
    }
   ],
   "source": [
    "    \n",
    "R = Relation(relation_name = 'R',relation_header = ('char','int'), set_of_tuples = {('a',1),('b',2),('c',3),('d',4)})\n",
    "Q = Relation('Q',('char','int'),{('f',3),}) # Notice the comma after the ('f',3) tuple. This create a set of tuples, with only one element in the set\n",
    "\n",
    "P: Relation = R.union(Q)\n",
    "print(P) # I can see that the relation name is a union when I print it out"
   ]
  },
  {
   "cell_type": "markdown",
   "metadata": {},
   "source": [
    "#### 4.2 Error Handling Unit Tests\n",
    "\n",
    "Let's write unit tests that check two types of errors:\n",
    "- The error caused by trying to take the union of a relation and something that is not a relation (i.e., a string)\n",
    "- The error caused by trying to take the union of two relations that have different headers\n",
    "\n",
    "I gave ChatGPT-5 the specifics of the two errors that I wanted to check and had it generate the tests:"
   ]
  },
  {
   "cell_type": "code",
   "execution_count": 19,
   "metadata": {},
   "outputs": [],
   "source": [
    "import ipytest\n",
    "import pytest\n",
    "\n",
    "ipytest.autoconfig()\n"
   ]
  },
  {
   "cell_type": "code",
   "execution_count": 20,
   "metadata": {},
   "outputs": [
    {
     "name": "stdout",
     "output_type": "stream",
     "text": [
      "\u001b[32m.\u001b[0m\u001b[32m.\u001b[0m\u001b[32m                                                                                           [100%]\u001b[0m\n"
     ]
    }
   ],
   "source": [
    "%%ipytest -qq\n",
    "def test_union_raises_when_other_is_not_relation() -> None:\n",
    "    # Step 1: Instantiate a valid Relation P\n",
    "    P: Relation = Relation(\"P\", [\"bart\", \"lisa\"], {(\"h\", 1), (\"m\", 2)})\n",
    "\n",
    "    #######################################\n",
    "    ## Step 2: Specify invalid input      ##\n",
    "    #######################################\n",
    "    not_a_relation = \"mystring\"\n",
    "\n",
    "    #################################################\n",
    "    ## Step 3: Expected: raise IncompatibleOperandError\n",
    "    #################################################\n",
    "    # The message includes the type of the other operand (<class 'str'>)\n",
    "    with pytest.raises(IncompatibleOperandError, match=r\"union a relation with a <class 'str'>\"):\n",
    "        P.union(not_a_relation)\n",
    "\n",
    "\n",
    "def test_union_raises_when_headers_differ() -> None:\n",
    "    # Step 1: Instantiate two Relations with different headers\n",
    "    P = Relation(\"P\", [\"bart\", \"lisa\"], {(\"h\", 1), (\"m\", 2)})\n",
    "    W = Relation(\"Q\", [\"bart\", \"maggie\"], {(\"f\", 3)})  # header differs in second column\n",
    "\n",
    "    #################################################\n",
    "    ## Step 2: Expected: raise IncompatibleOperandError\n",
    "    #################################################\n",
    "    with pytest.raises(IncompatibleOperandError, match=r\"different headers\"):\n",
    "        P.union(W)"
   ]
  },
  {
   "cell_type": "markdown",
   "metadata": {},
   "source": [
    "Both tests should pass by raising the correct errors."
   ]
  },
  {
   "cell_type": "markdown",
   "metadata": {},
   "source": [
    "#### 4.3 Parameterized Unit Tests\n",
    "\n",
    "There are times when we want to write several tests for a specific function or class. It can become tedious to write a function for each test that we want to perform. A common way around this is to use parameterized tests. \n",
    "\n",
    "Instead of writing many tests that are nearly identical, we can write **one test** and feed it **many cases** using `@pytest.mark.parametrize`. This improves readability and coverage with less code. Notice the spelling of `parametrize`. The verb form of **parameter** is spelled **parameterize**. The function used in `pytest` for doing parmeterized tests uses a different spelling. \n",
    "\n",
    "When we \"do the math\" we identify several cases that could cause problems. \n",
    "- Disjoint sets\n",
    "- Overlapping sets\n",
    "- Union with empty set\n",
    "- Idempotence: $A \\cup A == A$\n",
    "- Commutativity: $A \\cup B == B \\cup A$\n",
    "\n",
    "Let's set up `pytest` inside of the Jupyter notebook before looking at how we'd write parameterized tests."
   ]
  },
  {
   "cell_type": "code",
   "execution_count": 21,
   "metadata": {},
   "outputs": [],
   "source": [
    "import ipytest\n",
    "import pytest\n",
    "\n",
    "ipytest.autoconfig()"
   ]
  },
  {
   "cell_type": "code",
   "execution_count": 22,
   "metadata": {},
   "outputs": [
    {
     "name": "stdout",
     "output_type": "stream",
     "text": [
      "\u001b[32m.\u001b[0m\u001b[32m.\u001b[0m\u001b[32m.\u001b[0m\u001b[32m.\u001b[0m\u001b[32m.\u001b[0m\u001b[32m                                                                                        [100%]\u001b[0m"
     ]
    },
    {
     "name": "stdout",
     "output_type": "stream",
     "text": [
      "\n",
      "\u001b[32m\u001b[32m\u001b[1m5 passed\u001b[0m\u001b[32m in 0.01s\u001b[0m\u001b[0m\n"
     ]
    }
   ],
   "source": [
    "%%ipytest\n",
    "@pytest.mark.parametrize(\n",
    "    \"hdr,rows1,name1,rows2,name2,expected_rows\",\n",
    "    [\n",
    "        # Disjoint\n",
    "        ([\"A\",\"B\"], {(1,\"a\"), (2,\"b\")}, \"R1\",\n",
    "                     {(3,\"c\")},            \"R2\",\n",
    "                     {(1,\"a\"), (2,\"b\"), (3,\"c\")}),\n",
    "\n",
    "        # Overlap (duplicates should be removed by set semantics)\n",
    "        ([\"A\",\"B\"], {(1,\"a\"), (2,\"b\")}, \"R1\",\n",
    "                     {(2,\"b\"), (3,\"c\")}, \"R2\",\n",
    "                     {(1,\"a\"), (2,\"b\"), (3,\"c\")}),\n",
    "\n",
    "        # Left empty\n",
    "        ([\"A\",\"B\"], set(),              \"Empty\",\n",
    "                     {(1,\"a\")},         \"R2\",\n",
    "                     {(1,\"a\")}),\n",
    "\n",
    "        # Right empty\n",
    "        ([\"A\",\"B\"], {(1,\"a\")},          \"R1\",\n",
    "                     set(),             \"Empty\",\n",
    "                     {(1,\"a\")}),\n",
    "\n",
    "        # Idempotent: R ∪ R = R\n",
    "        ([\"A\",\"B\"], {(10,\"x\"), (11,\"y\")}, \"R\",\n",
    "                     {(10,\"x\"), (11,\"y\")}, \"R_again\",\n",
    "                     {(10,\"x\"), (11,\"y\")}),\n",
    "    ],\n",
    ")\n",
    "def test_union_basic_cases(hdr, rows1, name1, rows2, name2, expected_rows):\n",
    "    r1 = Relation(name1, hdr, rows1)\n",
    "    r2 = Relation(name2, hdr, rows2)\n",
    "\n",
    "    out = r1.union(r2)\n",
    "\n",
    "    # Header must match original header (by precondition)\n",
    "    assert out.header == hdr\n",
    "    # Row set must match expected\n",
    "    assert out.set_of_tuples == expected_rows\n",
    "    # Equality should work via __eq__\n",
    "    assert out == Relation(\"EXPECTED\", hdr, expected_rows)\n",
    "\n"
   ]
  },
  {
   "cell_type": "markdown",
   "metadata": {},
   "source": [
    "#### 4.4 What’s Happening in the Parameterized Tests?\n",
    "\n",
    "The `@pytest.mark.parametrize` **decorator** is a way to tell `pytest`:  \n",
    "“Run this same test function many times, once for each row in the table of inputs.” You don't need to understand how **decorators** work, but they are a neat programming concept that allows you to modify the way functions work. A good LLM will be able to provide a tutorial about decorators.\n",
    "\n",
    "Let’s unpack what’s going on in `test_union_basic_cases`:\n",
    "\n",
    "```python\n",
    "@pytest.mark.parametrize(\n",
    "    \"hdr,rows1,name1,rows2,name2,expected_rows\",\n",
    "    [\n",
    "        ([\"A\",\"B\"], {(1,\"a\"), (2,\"b\")}, \"R1\",\n",
    "                     {(3,\"c\")},          \"R2\",\n",
    "                     {(1,\"a\"), (2,\"b\"), (3,\"c\")}),   # disjoint\n",
    "\n",
    "        ([\"A\",\"B\"], {(1,\"a\"), (2,\"b\")}, \"R1\",\n",
    "                     {(2,\"b\"), (3,\"c\")}, \"R2\",\n",
    "                     {(1,\"a\"), (2,\"b\"), (3,\"c\")}),   # overlap\n",
    "\n",
    "        ...\n",
    "    ],\n",
    ")\n",
    "def test_union_basic_cases(hdr, rows1, name1, rows2, name2, expected_rows):\n",
    "    ...\n",
    "```"
   ]
  },
  {
   "cell_type": "markdown",
   "metadata": {},
   "source": [
    "The first argument to `parametrize` is a comma-separated string of variable names.  \n",
    "These become the parameters to the test function (`hdr, rows1, name1, ...`).\n",
    "\n",
    "- The second argument is a **list of tuples**.  \n",
    "  Each tuple is one set of inputs that fills in those variables.\n",
    "\n",
    "- When pytest runs:\n",
    "  - It substitutes the first tuple into the variables and runs the test once.  \n",
    "  - Then it substitutes the second tuple and runs again.  \n",
    "  - And so on for every row.  \n",
    "\n",
    "This way, one test function actually checks **five different scenarios**:\n",
    "1. Disjoint relations  \n",
    "2. Overlapping relations (testing duplicate elimination)  \n",
    "3. Left operand empty  \n",
    "4. Right operand empty  \n",
    "5. Idempotence ($R \\cup R = R$)  \n",
    "\n",
    "\n",
    "**Why Do This?**\n",
    "\n",
    "Without parameterization, we would need to write **five almost-identical test functions**. That makes tests longer, harder to read, and more likely to miss a case.  \n",
    "\n",
    "By using `parametrize`, we:\n",
    "- Capture the essence of what changes across cases (the data, not the logic).  \n",
    "- Keep the test logic short and clear.  \n",
    "- Guarantee consistent checks across many scenarios.  \n",
    "\n",
    "\n",
    "**Key takeaway:** Parameterized tests let you explore a whole *family* of inputs with one concise piece of code."
   ]
  },
  {
   "cell_type": "markdown",
   "metadata": {},
   "source": [
    "#### 4.5 More Parameterized Tests for Union\n",
    "\n",
    "Let's write a parameterized test that checks that $A \\cup B = B \\cup A$. In the test, we'll check relations with tuples of size 2, tuples with only one element, and relations that have identical tuples. "
   ]
  },
  {
   "cell_type": "code",
   "execution_count": 23,
   "metadata": {},
   "outputs": [
    {
     "name": "stdout",
     "output_type": "stream",
     "text": [
      "\u001b[32m.\u001b[0m\u001b[32m.\u001b[0m\u001b[32m.\u001b[0m\u001b[32m                                                                                          [100%]\u001b[0m\n",
      "\u001b[32m\u001b[32m\u001b[1m3 passed\u001b[0m\u001b[32m in 0.01s\u001b[0m\u001b[0m\n"
     ]
    }
   ],
   "source": [
    "%%ipytest\n",
    "@pytest.mark.parametrize(\n",
    "    \"hdr,rows1,rows2\",\n",
    "    [\n",
    "        ([\"A\",\"B\"], {(1,\"a\"), (2,\"b\")}, {(2,\"b\"), (3,\"c\")}),\n",
    "        ([\"A\"],      {(1,)},            {(1,), (2,)}),\n",
    "        ([\"X\",\"Y\"], {(0,\"p\")},          {(0,\"p\")}),\n",
    "    ],\n",
    ")\n",
    "def test_union_commutative(hdr, rows1, rows2):\n",
    "    r1 = Relation(\"R1\", hdr, rows1)\n",
    "    r2 = Relation(\"R2\", hdr, rows2)\n",
    "\n",
    "    # Commutativity: r1 ∪ r2 == r2 ∪ r1\n",
    "    out1 = r1.union(r2)\n",
    "    out2 = r2.union(r1)\n",
    "    assert out1 == out2"
   ]
  },
  {
   "cell_type": "markdown",
   "metadata": {},
   "source": [
    "Parameterized tests are a convenient way of checking the math on several test cases but only having to write a single testing function. The key idea is to use the  `@pytest.mark.parametrize` decorator that defines the different parameters to be tested by the testing function. Each row in the list enclosed by the square braces `[ row1, row2 ]` represents a different set of testing values."
   ]
  },
  {
   "attachments": {},
   "cell_type": "markdown",
   "metadata": {},
   "source": [
    "***\n",
    "\n",
    "\n",
    "## The Project Relational Operator\n",
    "\n",
    "We'll only implement a portion of this operator since you will need to implement the rest of the operator in Project 3. Specifically, this project operation will only work to project to a single column.\n",
    " \n",
    "Consider the relation $P = R\\cup Q$ defined as before\n",
    "| `char` | `int` | \n",
    "| :-: | :-: | \n",
    "| $a$ | $1$ |\n",
    "| $b$ | $2$ | \n",
    "| $c$ | $3$ | \n",
    "| $d$ | $4$ |\n",
    "| $f$ | $3$ | \n",
    "\n",
    "We want to compute $\\pi_{char}(P)$, which does two things. \n",
    "* First, it creates a new relation.\n",
    "* Second, it populates the new relation with the `char` column.\n",
    "\n",
    "The result is the relation $\\pi_{char}(P)$\n",
    "| `char` | \n",
    "| :-: |\n",
    "| $a$ |\n",
    "| $b$ |\n",
    "| $c$ |\n",
    "| $d$ |\n",
    "| $f$ |\n",
    "\n",
    "***\n",
    "Here's the code"
   ]
  },
  {
   "cell_type": "code",
   "execution_count": 24,
   "metadata": {},
   "outputs": [],
   "source": [
    "class Relation:\n",
    "    def __init__(self, relation_name: str, relation_header: list[str], set_of_tuples: set[RelationTuple]) -> None:\n",
    "        self.name:str = relation_name # I threw in a string for the relation name for fun\n",
    "        self.header: list[str] = relation_header\n",
    "        self.set_of_tuples: set[RelationTuple] = set_of_tuples\n",
    "\n",
    "    def __str__(self) -> str:\n",
    "        value: str = f\"relation name = {self.name}\\n\" + tabulate(iter(self.set_of_tuples), self.header, tablefmt=\"fancy_grid\")\n",
    "        return value\n",
    "\n",
    "    def __eq__(self, other: Any) -> bool:\n",
    "        if not isinstance(other, Relation):\n",
    "            print(\"you are trying to compare a relation to something that is not a relation\")\n",
    "            return False\n",
    "        return (\n",
    "            self.header == other.header\n",
    "            and self.set_of_tuples == other.set_of_tuples\n",
    "        )\n",
    "    \n",
    "    ########################\n",
    "    # Relational Operators #\n",
    "    ########################\n",
    "    def union(self,other) -> 'Relation':\n",
    "        if not isinstance(other, Relation):\n",
    "            raise IncompatibleOperandError(f\"Tried to union a relation with a {type(other)}\") # don't attempt to union with something not a relation\n",
    "        # First, check the precondition to see if the headers are the same\n",
    "        if self.header != other.header:\n",
    "            raise IncompatibleOperandError(\"Tried to union two relations with different headers\")\n",
    "        \n",
    "        # Second, create a new header that is the union of the sets of tuples\n",
    "        name: str = self.name + \"\\u222A\" + other.name\n",
    "        header: list[str] = self.header\n",
    "        set_of_tuples = self.set_of_tuples\n",
    "        set_of_tuples = set_of_tuples.union(other.set_of_tuples)    # This is the union operator defined for set objects\n",
    "        return Relation(name,header,set_of_tuples) # Create a new relation\n",
    "\n",
    "    def project(self,column_header: str) -> 'Relation':\n",
    "        # Only a portion of this function is implemented. \n",
    "        # Specifically, only the portion that projects onto a single column.\n",
    "        # You have to implement the rest of this function in the Project 3\n",
    "        \n",
    "        # First, check the precondition\n",
    "        # The precondition for the project operator is that the column attribute\n",
    "        # must exist in the set of attributes\n",
    "        if column_header not in set(self.header):\n",
    "            raise IncompatibleOperandError(f\"Tried to project onto {column_header}, which isn't an attribute of the relation\")\n",
    "        \n",
    "        # Second, create a new relation that is the output of the projection operator.\n",
    "        # THe relation needs a name, a header, and the set of tuples\n",
    "        new_name = \"\\u03C0\" + \"_{\" + column_header + \"}(\" + self.name + \")\" # The \\u03c0 is a special code for a union symbol\n",
    "        new_header = (column_header,) # Notice the comma after \"column_header\", which forces the header to be a tuple\n",
    "        header_index = self.header.index(column_header) # Get the index of the header that matches the column you want\n",
    "        new_tuples: set[RelationTuple] = {(rtuple[header_index],) for rtuple in self.set_of_tuples}\n",
    "        new_relation = Relation(new_name,new_header,new_tuples) # Create the relation\n",
    "        return new_relation \n"
   ]
  },
  {
   "attachments": {},
   "cell_type": "markdown",
   "metadata": {},
   "source": [
    "#### 5.1 Doing the Math\n",
    "\n",
    "Let's look at the output of the `project` operator using simple tests. For simplicity, we won't put these simple tests into `pytest` so that we can just print out the relation. "
   ]
  },
  {
   "cell_type": "code",
   "execution_count": 25,
   "metadata": {},
   "outputs": [
    {
     "name": "stdout",
     "output_type": "stream",
     "text": [
      "relation name = π_{char}(R∪Q)\n",
      "╒════════╕\n",
      "│ char   │\n",
      "╞════════╡\n",
      "│ a      │\n",
      "├────────┤\n",
      "│ b      │\n",
      "├────────┤\n",
      "│ f      │\n",
      "├────────┤\n",
      "│ d      │\n",
      "├────────┤\n",
      "│ c      │\n",
      "╘════════╛\n"
     ]
    }
   ],
   "source": [
    "R: Relation = Relation(relation_name = 'R',relation_header = ('char','int'), set_of_tuples = {('a',1),('b',2),('c',3),('d',4)})\n",
    "Q: Relation = Relation('Q',('char','int'),{('f','3'),}) # Observe the comma after the ('f',3) tuple. This forces python to make the tuple the lone element of a set\n",
    "\n",
    "P: Relation = R.union(Q)\n",
    "M: Relation = P.project('char')\n",
    "print(M)\n"
   ]
  },
  {
   "attachments": {},
   "cell_type": "markdown",
   "metadata": {},
   "source": [
    "Let's project onto the `int` column instead. Why does projecting onto the `char` column produce five tuples but projecting onto the `char` column only produce four tuples?"
   ]
  },
  {
   "cell_type": "code",
   "execution_count": 26,
   "metadata": {},
   "outputs": [
    {
     "name": "stdout",
     "output_type": "stream",
     "text": [
      "relation name = π_{int}(R∪Q)\n",
      "╒═══════╕\n",
      "│   int │\n",
      "╞═══════╡\n",
      "│     2 │\n",
      "├───────┤\n",
      "│     3 │\n",
      "├───────┤\n",
      "│     4 │\n",
      "├───────┤\n",
      "│     1 │\n",
      "├───────┤\n",
      "│     3 │\n",
      "╘═══════╛\n"
     ]
    }
   ],
   "source": [
    "P = R.union(Q)\n",
    "M = P.project('int')\n",
    "print(M)"
   ]
  },
  {
   "attachments": {},
   "cell_type": "markdown",
   "metadata": {},
   "source": [
    "The answer is that the set of tuples is a set, and sets don't have repeats. \n",
    "\n",
    "If we hadn't ignored repeated elements, projecting the relation $P$ defined as\n",
    "| `char` | `int` | \n",
    "| :-: | :-: | \n",
    "| $a$ | $1$ |\n",
    "| $b$ | $2$ | \n",
    "| $c$ | $3$ | \n",
    "| $d$ | $4$ |\n",
    "| $f$ | $3$ | \n",
    "\n",
    "onto the `int` column would yield $\\pi_{int}(P)$ \n",
    "| `int` | \n",
    "| :-: | \n",
    "| $1$ |\n",
    "| $2$ | \n",
    "| $3$ | \n",
    "| $4$ |\n",
    "| $3$ |\n",
    "\n",
    "but the \"3\" appears in the set twice, so the correct answer is\n",
    "$\\pi_{int}(P)$ \n",
    "| `int` | \n",
    "| :-: | \n",
    "| $1$ |\n",
    "| $2$ | \n",
    "| $3$ | \n",
    "| $4$ |\n"
   ]
  },
  {
   "cell_type": "markdown",
   "metadata": {},
   "source": [
    "#### 5.2 Test Coverage via Input Partitioning\n",
    "\n",
    "The unit tests in Project 1 and Project 2 were based on the principle that you should write a few positive tests and at least one negative test for each method or class. That principle can be strengthened using the idea of **test coverage**, which is that the tests that we write should cover a wide range of possible input values so that we are more confident that the thing we are testing works in a real situation.\n",
    "\n",
    "One way to systematically design tests that produe high **test coverate** is to **partition the input space** into meaningful categories, then pick at least one test case from each partition. The `project` operator creates a new relation by removing columns from an existing relation.\n",
    "\n",
    "For the `project` operator, we can identify a set of possible inputs that might cause problems for the `project` operator. The inputs that we chose go from problems with few tuples and few columns to problems with more tuples and more columns.\n",
    "\n",
    "**Partitions to cover:**\n",
    "- empty relation with two columns projected onto one column\n",
    "- nonempty with two columns projected onto one column, and the resulting relation doesn't have repeat elements\n",
    "- nonempty with two columns projected onto one column, and the resulting relation would have repeat elements if not written correctly\n",
    "- nonempty with three columns projected onto one column\n",
    "- nonempty with three columns projected onto two columns and the two columns are side-by-side in the original relation\n",
    "- nonempty with three columns projected onto two columns and the two columns are not by each other in the original relation\n",
    "- projection that keeps all columns\n",
    "- error case where there is an invalid column name to which we are trying to project (i.e., header mismatch)\n",
    "\n",
    "---\n",
    "\n",
    "**Empty Relation**\n",
    "If we project an **empty relation** $E$ defined as\n",
    "\n",
    "| `A` | `B` |\n",
    "| :-: | :-: |\n",
    "\n",
    "onto the column `A`, the result is $\\pi_{A}(E)$:\n",
    "\n",
    "| `A` |\n",
    "| :-: |\n",
    "\n",
    "Since $E$ has no rows, the projected relation should also be empty.\n",
    "\n",
    "---\n",
    "\n",
    "**Two Projected to One (no duplicates)**\n",
    "If we project the relation $R$ defined as\n",
    "\n",
    "| `A` | `B` |\n",
    "| :-: | :-: |\n",
    "| $x$ | $1$ |\n",
    "| $y$ | $2$ |\n",
    "\n",
    "onto the column `A`, the result is $\\pi_{A}(R)$:\n",
    "\n",
    "| `A` |\n",
    "| :-: |\n",
    "| $x$ |\n",
    "| $y$ |\n",
    "\n",
    "No duplicates appear in this projection, so the result is just the distinct values of `A`.\n",
    "\n",
    "---\n",
    "\n",
    "**Two Projected to One (possible duplicates)**\n",
    "If we hadn’t ignored repeated elements, projecting the relation $P$ defined as\n",
    "\n",
    "| `A` | `B` |\n",
    "| :-: | :-: |\n",
    "| $x$ | $1$ |\n",
    "| $x$ | $2$ |\n",
    "\n",
    "onto the column `A` would yield $\\pi_{A}(P)$:\n",
    "\n",
    "| `A` |\n",
    "| :-: |\n",
    "| $x$ |\n",
    "| $x$ |\n",
    "\n",
    "But projection in relational algebra **removes duplicates**, so the correct result is:\n",
    "\n",
    "| `A` |\n",
    "| :-: |\n",
    "| $x$ |\n",
    "\n",
    "---\n",
    "\n",
    "**Three Columns Projected to One Column**\n",
    "If we project the relation $R$ defined as\n",
    "\n",
    "| `A` | `B` | `C` |\n",
    "| :-: | :-: | :-: |\n",
    "| $x$ | $1$ | $\\mathsf{true}$ |\n",
    "| $y$ | $2$ | $\\mathsf{false}$ |\n",
    "\n",
    "onto the column `B`, the result is $\\pi_{B}(R)$:\n",
    "\n",
    "| `B` |\n",
    "| :-: |\n",
    "| $1$ |\n",
    "| $2$ |\n",
    "\n",
    "---\n",
    "\n",
    "**Three Columns Projected to Two Adjacent Columns**\n",
    "\n",
    "If we project the relation $R$ defined as\n",
    "\n",
    "| `A` | `B` | `C` |\n",
    "| :-: | :-: | :-: |\n",
    "| $x$ | $1$ | $\\mathsf{true}$ |\n",
    "| $y$ | $2$ | $\\mathsf{false}$ |\n",
    "| $x$ | $1$ | $\\mathsf{false}$ |\n",
    "\n",
    "onto the **adjacent columns** `A` and `B`, the result is $\\pi_{A,B}(R)$:\n",
    "\n",
    "| `A` | `B` |\n",
    "| :-: | :-: |\n",
    "| $x$ | $1$ |\n",
    "| $y$ | $2$ |\n",
    "\n",
    "Notice that the third row collapses with the first under projection, since only the `A` and `B` columns are kept.\n",
    "\n",
    "---\n",
    "\n",
    "**Three Columns Projected to Two NonAdjacent Columns**\n",
    "\n",
    "If we project the relation $R$ defined as\n",
    "\n",
    "| `A` | `B` | `C` |\n",
    "| :-: | :-: | :-: |\n",
    "| $x$ | $1$ | $\\mathsf{true}$ |\n",
    "| $y$ | $2$ | $\\mathsf{false}$ |\n",
    "| $x$ | $9$ | $\\mathsf{true}$ |\n",
    "\n",
    "onto the **non-adjacent columns** `A` and `C`, the result is $\\pi_{A,C}(R)$:\n",
    "\n",
    "| `A` | `C` |\n",
    "| :-: | :-: |\n",
    "| $x$ | $\\mathsf{true}$ |\n",
    "| $y$ | $\\mathsf{false}$ |\n",
    "\n",
    "Here the first and third rows collapse into one, since the projection ignores the `B` column and both give $(x,\\mathsf{true})$.\n",
    "\n",
    "---\n",
    "\n",
    "**Projection that Keeps All Columns**\n",
    "\n",
    "If we project the relation $R$ defined as\n",
    "\n",
    "| `A` | `B` |\n",
    "| :-: | :-: |\n",
    "| $x$ | $1$ |\n",
    "| $y$ | $2$ |\n",
    "\n",
    "onto **all of its columns** (`A` and `B`), then $\\pi_{A,B}(R) = R$:\n",
    "\n",
    "| `A` | `B` |\n",
    "| :-: | :-: |\n",
    "| $x$ | $1$ |\n",
    "| $y$ | $2$ |\n",
    "\n",
    "Projecting onto the full set of attributes returns the original relation unchanged.\n",
    "\n",
    "---\n",
    "\n",
    "**Error Case: Invalid Column Name**\n",
    "If we try to project the relation $R$ defined as\n",
    "\n",
    "| `A` | `B` |\n",
    "| :-: | :-: |\n",
    "| $x$ | $1$ |\n",
    "\n",
    "onto a column `Z` that does not appear in the header, the operation is undefined.  \n",
    "In our implementation this raises an `IncompatibleOperandError`.\n"
   ]
  },
  {
   "cell_type": "code",
   "execution_count": 27,
   "metadata": {},
   "outputs": [
    {
     "name": "stdout",
     "output_type": "stream",
     "text": [
      "\u001b[32m.\u001b[0m\u001b[32m.\u001b[0m\u001b[32m.\u001b[0m\u001b[32m.\u001b[0m\u001b[32m.\u001b[0m\u001b[31mF\u001b[0m\u001b[31mF\u001b[0m\u001b[31m                                                                                      [100%]\u001b[0m"
     ]
    },
    {
     "name": "stdout",
     "output_type": "stream",
     "text": [
      "\n",
      "============================================= FAILURES =============================================\n",
      "\u001b[31m\u001b[1m_____________________________ test_project_three_cols_to_two_adjacent ______________________________\u001b[0m\n",
      "\n",
      "    \u001b[0m\u001b[94mdef\u001b[39;49;00m\u001b[90m \u001b[39;49;00m\u001b[92mtest_project_three_cols_to_two_adjacent\u001b[39;49;00m() -> \u001b[94mNone\u001b[39;49;00m:\u001b[90m\u001b[39;49;00m\n",
      "        \u001b[90m# Header A, B, C — project onto adjacent columns A,B\u001b[39;49;00m\u001b[90m\u001b[39;49;00m\n",
      "        r = Relation(\u001b[90m\u001b[39;49;00m\n",
      "            \u001b[33m\"\u001b[39;49;00m\u001b[33mR\u001b[39;49;00m\u001b[33m\"\u001b[39;49;00m,\u001b[90m\u001b[39;49;00m\n",
      "            [\u001b[33m\"\u001b[39;49;00m\u001b[33mA\u001b[39;49;00m\u001b[33m\"\u001b[39;49;00m, \u001b[33m\"\u001b[39;49;00m\u001b[33mB\u001b[39;49;00m\u001b[33m\"\u001b[39;49;00m, \u001b[33m\"\u001b[39;49;00m\u001b[33mC\u001b[39;49;00m\u001b[33m\"\u001b[39;49;00m],\u001b[90m\u001b[39;49;00m\n",
      "            {\u001b[90m\u001b[39;49;00m\n",
      "                (\u001b[33m\"\u001b[39;49;00m\u001b[33mx\u001b[39;49;00m\u001b[33m\"\u001b[39;49;00m, \u001b[94m1\u001b[39;49;00m, \u001b[94mTrue\u001b[39;49;00m),\u001b[90m\u001b[39;49;00m\n",
      "                (\u001b[33m\"\u001b[39;49;00m\u001b[33my\u001b[39;49;00m\u001b[33m\"\u001b[39;49;00m, \u001b[94m2\u001b[39;49;00m, \u001b[94mFalse\u001b[39;49;00m),\u001b[90m\u001b[39;49;00m\n",
      "                (\u001b[33m\"\u001b[39;49;00m\u001b[33mx\u001b[39;49;00m\u001b[33m\"\u001b[39;49;00m, \u001b[94m1\u001b[39;49;00m, \u001b[94mFalse\u001b[39;49;00m),   \u001b[90m# duplicate on (A,B) should be removed by projection\u001b[39;49;00m\u001b[90m\u001b[39;49;00m\n",
      "            },\u001b[90m\u001b[39;49;00m\n",
      "        )\u001b[90m\u001b[39;49;00m\n",
      "    \u001b[90m\u001b[39;49;00m\n",
      ">       out = r.project((\u001b[33m\"\u001b[39;49;00m\u001b[33mA\u001b[39;49;00m\u001b[33m\"\u001b[39;49;00m, \u001b[33m\"\u001b[39;49;00m\u001b[33mB\u001b[39;49;00m\u001b[33m\"\u001b[39;49;00m))  \u001b[90m# expecting future support for multi-column\u001b[39;49;00m\u001b[90m\u001b[39;49;00m\n",
      "              ^^^^^^^^^^^^^^^^^^^^^\u001b[90m\u001b[39;49;00m\n",
      "\n",
      "\u001b[1m\u001b[31m/tmp/ipykernel_19873/1026480360.py\u001b[0m:51: \n",
      "_ _ _ _ _ _ _ _ _ _ _ _ _ _ _ _ _ _ _ _ _ _ _ _ _ _ _ _ _ _ _ _ _ _ _ _ _ _ _ _ _ _ _ _ _ _ _ _ _ _ \n",
      "\n",
      "self = <__main__.Relation object at 0xffff787f3770>, column_header = ('A', 'B')\n",
      "\n",
      "    \u001b[0m\u001b[94mdef\u001b[39;49;00m\u001b[90m \u001b[39;49;00m\u001b[92mproject\u001b[39;49;00m(\u001b[96mself\u001b[39;49;00m,column_header: \u001b[96mstr\u001b[39;49;00m) -> \u001b[33m'\u001b[39;49;00m\u001b[33mRelation\u001b[39;49;00m\u001b[33m'\u001b[39;49;00m:\u001b[90m\u001b[39;49;00m\n",
      "        \u001b[90m# Only a portion of this function is implemented.\u001b[39;49;00m\u001b[90m\u001b[39;49;00m\n",
      "        \u001b[90m# Specifically, only the portion that projects onto a single column.\u001b[39;49;00m\u001b[90m\u001b[39;49;00m\n",
      "        \u001b[90m# You have to implement the rest of this function in the Project 3\u001b[39;49;00m\u001b[90m\u001b[39;49;00m\n",
      "    \u001b[90m\u001b[39;49;00m\n",
      "        \u001b[90m# First, check the precondition\u001b[39;49;00m\u001b[90m\u001b[39;49;00m\n",
      "        \u001b[90m# The precondition for the project operator is that the column attribute\u001b[39;49;00m\u001b[90m\u001b[39;49;00m\n",
      "        \u001b[90m# must exist in the set of attributes\u001b[39;49;00m\u001b[90m\u001b[39;49;00m\n",
      "        \u001b[94mif\u001b[39;49;00m column_header \u001b[95mnot\u001b[39;49;00m \u001b[95min\u001b[39;49;00m \u001b[96mset\u001b[39;49;00m(\u001b[96mself\u001b[39;49;00m.header):\u001b[90m\u001b[39;49;00m\n",
      ">           \u001b[94mraise\u001b[39;49;00m IncompatibleOperandError(\u001b[33mf\u001b[39;49;00m\u001b[33m\"\u001b[39;49;00m\u001b[33mTried to project onto \u001b[39;49;00m\u001b[33m{\u001b[39;49;00mcolumn_header\u001b[33m}\u001b[39;49;00m\u001b[33m, which isn\u001b[39;49;00m\u001b[33m'\u001b[39;49;00m\u001b[33mt an attribute of the relation\u001b[39;49;00m\u001b[33m\"\u001b[39;49;00m)\u001b[90m\u001b[39;49;00m\n",
      "\u001b[1m\u001b[31mE           IncompatibleOperandError: Tried to project onto ('A', 'B'), which isn't an attribute of the relation\u001b[0m\n",
      "\n",
      "\u001b[1m\u001b[31m/tmp/ipykernel_19873/3733103698.py\u001b[0m:46: IncompatibleOperandError\n",
      "\u001b[31m\u001b[1m___________________________ test_project_three_cols_to_two_non_adjacent ____________________________\u001b[0m\n",
      "\n",
      "    \u001b[0m\u001b[94mdef\u001b[39;49;00m\u001b[90m \u001b[39;49;00m\u001b[92mtest_project_three_cols_to_two_non_adjacent\u001b[39;49;00m() -> \u001b[94mNone\u001b[39;49;00m:\u001b[90m\u001b[39;49;00m\n",
      "        \u001b[90m# Header A, B, C — project onto non-adjacent columns A,C\u001b[39;49;00m\u001b[90m\u001b[39;49;00m\n",
      "        r = Relation(\u001b[90m\u001b[39;49;00m\n",
      "            \u001b[33m\"\u001b[39;49;00m\u001b[33mR\u001b[39;49;00m\u001b[33m\"\u001b[39;49;00m,\u001b[90m\u001b[39;49;00m\n",
      "            [\u001b[33m\"\u001b[39;49;00m\u001b[33mA\u001b[39;49;00m\u001b[33m\"\u001b[39;49;00m, \u001b[33m\"\u001b[39;49;00m\u001b[33mB\u001b[39;49;00m\u001b[33m\"\u001b[39;49;00m, \u001b[33m\"\u001b[39;49;00m\u001b[33mC\u001b[39;49;00m\u001b[33m\"\u001b[39;49;00m],\u001b[90m\u001b[39;49;00m\n",
      "            {\u001b[90m\u001b[39;49;00m\n",
      "                (\u001b[33m\"\u001b[39;49;00m\u001b[33mx\u001b[39;49;00m\u001b[33m\"\u001b[39;49;00m, \u001b[94m1\u001b[39;49;00m, \u001b[94mTrue\u001b[39;49;00m),\u001b[90m\u001b[39;49;00m\n",
      "                (\u001b[33m\"\u001b[39;49;00m\u001b[33my\u001b[39;49;00m\u001b[33m\"\u001b[39;49;00m, \u001b[94m2\u001b[39;49;00m, \u001b[94mFalse\u001b[39;49;00m),\u001b[90m\u001b[39;49;00m\n",
      "                (\u001b[33m\"\u001b[39;49;00m\u001b[33mx\u001b[39;49;00m\u001b[33m\"\u001b[39;49;00m, \u001b[94m9\u001b[39;49;00m, \u001b[94mTrue\u001b[39;49;00m),    \u001b[90m# same (A,C) as first row; should collapse to one\u001b[39;49;00m\u001b[90m\u001b[39;49;00m\n",
      "            },\u001b[90m\u001b[39;49;00m\n",
      "        )\u001b[90m\u001b[39;49;00m\n",
      "    \u001b[90m\u001b[39;49;00m\n",
      ">       out = r.project((\u001b[33m\"\u001b[39;49;00m\u001b[33mA\u001b[39;49;00m\u001b[33m\"\u001b[39;49;00m, \u001b[33m\"\u001b[39;49;00m\u001b[33mC\u001b[39;49;00m\u001b[33m\"\u001b[39;49;00m))  \u001b[90m# expecting future support for multi-column\u001b[39;49;00m\u001b[90m\u001b[39;49;00m\n",
      "              ^^^^^^^^^^^^^^^^^^^^^\u001b[90m\u001b[39;49;00m\n",
      "\n",
      "\u001b[1m\u001b[31m/tmp/ipykernel_19873/1026480360.py\u001b[0m:73: \n",
      "_ _ _ _ _ _ _ _ _ _ _ _ _ _ _ _ _ _ _ _ _ _ _ _ _ _ _ _ _ _ _ _ _ _ _ _ _ _ _ _ _ _ _ _ _ _ _ _ _ _ \n",
      "\n",
      "self = <__main__.Relation object at 0xffff787d4c20>, column_header = ('A', 'C')\n",
      "\n",
      "    \u001b[0m\u001b[94mdef\u001b[39;49;00m\u001b[90m \u001b[39;49;00m\u001b[92mproject\u001b[39;49;00m(\u001b[96mself\u001b[39;49;00m,column_header: \u001b[96mstr\u001b[39;49;00m) -> \u001b[33m'\u001b[39;49;00m\u001b[33mRelation\u001b[39;49;00m\u001b[33m'\u001b[39;49;00m:\u001b[90m\u001b[39;49;00m\n",
      "        \u001b[90m# Only a portion of this function is implemented.\u001b[39;49;00m\u001b[90m\u001b[39;49;00m\n",
      "        \u001b[90m# Specifically, only the portion that projects onto a single column.\u001b[39;49;00m\u001b[90m\u001b[39;49;00m\n",
      "        \u001b[90m# You have to implement the rest of this function in the Project 3\u001b[39;49;00m\u001b[90m\u001b[39;49;00m\n",
      "    \u001b[90m\u001b[39;49;00m\n",
      "        \u001b[90m# First, check the precondition\u001b[39;49;00m\u001b[90m\u001b[39;49;00m\n",
      "        \u001b[90m# The precondition for the project operator is that the column attribute\u001b[39;49;00m\u001b[90m\u001b[39;49;00m\n",
      "        \u001b[90m# must exist in the set of attributes\u001b[39;49;00m\u001b[90m\u001b[39;49;00m\n",
      "        \u001b[94mif\u001b[39;49;00m column_header \u001b[95mnot\u001b[39;49;00m \u001b[95min\u001b[39;49;00m \u001b[96mset\u001b[39;49;00m(\u001b[96mself\u001b[39;49;00m.header):\u001b[90m\u001b[39;49;00m\n",
      ">           \u001b[94mraise\u001b[39;49;00m IncompatibleOperandError(\u001b[33mf\u001b[39;49;00m\u001b[33m\"\u001b[39;49;00m\u001b[33mTried to project onto \u001b[39;49;00m\u001b[33m{\u001b[39;49;00mcolumn_header\u001b[33m}\u001b[39;49;00m\u001b[33m, which isn\u001b[39;49;00m\u001b[33m'\u001b[39;49;00m\u001b[33mt an attribute of the relation\u001b[39;49;00m\u001b[33m\"\u001b[39;49;00m)\u001b[90m\u001b[39;49;00m\n",
      "\u001b[1m\u001b[31mE           IncompatibleOperandError: Tried to project onto ('A', 'C'), which isn't an attribute of the relation\u001b[0m\n",
      "\n",
      "\u001b[1m\u001b[31m/tmp/ipykernel_19873/3733103698.py\u001b[0m:46: IncompatibleOperandError\n",
      "\u001b[36m\u001b[1m===================================== short test summary info ======================================\u001b[0m\n",
      "\u001b[31mFAILED\u001b[0m t_5dabe86a0f944f6db54a33165c5d9481.py::\u001b[1mtest_project_three_cols_to_two_adjacent\u001b[0m - IncompatibleOperandError: Tried to project onto ('A', 'B'), which isn't an attribute of the rel...\n",
      "\u001b[31mFAILED\u001b[0m t_5dabe86a0f944f6db54a33165c5d9481.py::\u001b[1mtest_project_three_cols_to_two_non_adjacent\u001b[0m - IncompatibleOperandError: Tried to project onto ('A', 'C'), which isn't an attribute of the rel...\n"
     ]
    }
   ],
   "source": [
    "%%ipytest -qq\n",
    "\n",
    "def test_project_invalid_column() -> None:\n",
    "    # error case where invalid column name is used\n",
    "    R = Relation(\"R\", [\"A\",\"B\"], {(\"x\",1)})\n",
    "    with pytest.raises(IncompatibleOperandError):\n",
    "        R.project(\"Z\")\n",
    "\n",
    "def test_project_empty_relation() -> None:\n",
    "    # empty relation with two columns projected onto one column\n",
    "    R = Relation(\"Empty\", [\"A\",\"B\"], set())\n",
    "    out = R.project(\"A\")\n",
    "    expected = Relation(\"π_{A}(Empty)\", (\"A\",), set())\n",
    "    assert out == expected\n",
    "\n",
    "\n",
    "def test_project_nonempty_two_columns_no_duplicates() -> None:\n",
    "    # nonempty with two columns projected onto one column, distinct values\n",
    "    R = Relation(\"R\", [\"A\",\"B\"], {(\"x\",1), (\"y\",2)})\n",
    "    out = R.project(\"A\")\n",
    "    expected = Relation(\"π_{A}(R)\", (\"A\",), {(\"x\",), (\"y\",)})\n",
    "    assert out == expected\n",
    "\n",
    "\n",
    "def test_project_nonempty_two_columns_with_duplicates() -> None:\n",
    "    # nonempty with two columns projected onto one column, duplicates removed\n",
    "    R = Relation(\"R\", [\"A\",\"B\"], {(\"x\",1), (\"x\",2)})\n",
    "    out = R.project(\"A\")\n",
    "    expected = Relation(\"π_{A}(R)\", (\"A\",), {(\"x\",)})\n",
    "    assert out == expected\n",
    "\n",
    "\n",
    "def test_project_three_columns_one_column() -> None:\n",
    "    # nonempty with three columns projected onto one column\n",
    "    R = Relation(\"R\", [\"A\",\"B\",\"C\"], {(\"x\",1,True), (\"y\",2,False)})\n",
    "    out = R.project(\"B\")\n",
    "    expected = Relation(\"π_{B}(R)\", (\"B\",), {(1,), (2,)})\n",
    "    assert out == expected\n",
    "\n",
    "\n",
    "def test_project_three_cols_to_two_adjacent() -> None:\n",
    "    # Header A, B, C — project onto adjacent columns A,B\n",
    "    r = Relation(\n",
    "        \"R\",\n",
    "        [\"A\", \"B\", \"C\"],\n",
    "        {\n",
    "            (\"x\", 1, True),\n",
    "            (\"y\", 2, False),\n",
    "            (\"x\", 1, False),   # duplicate on (A,B) should be removed by projection\n",
    "        },\n",
    "    )\n",
    "\n",
    "    out = r.project((\"A\", \"B\"))  # expecting future support for multi-column\n",
    "\n",
    "    # Expected: header (A,B) and duplicates removed\n",
    "    expected_header = (\"A\", \"B\")\n",
    "    expected_rows = {(\"x\", 1), (\"y\", 2)}\n",
    "\n",
    "    assert out.header == expected_header\n",
    "    assert out.set_of_tuples == expected_rows\n",
    "\n",
    "\n",
    "def test_project_three_cols_to_two_non_adjacent() -> None:\n",
    "    # Header A, B, C — project onto non-adjacent columns A,C\n",
    "    r = Relation(\n",
    "        \"R\",\n",
    "        [\"A\", \"B\", \"C\"],\n",
    "        {\n",
    "            (\"x\", 1, True),\n",
    "            (\"y\", 2, False),\n",
    "            (\"x\", 9, True),    # same (A,C) as first row; should collapse to one\n",
    "        },\n",
    "    )\n",
    "\n",
    "    out = r.project((\"A\", \"C\"))  # expecting future support for multi-column\n",
    "\n",
    "    # Expected: header (A,C) and duplicates removed\n",
    "    expected_header = (\"A\", \"C\")\n",
    "    expected_rows = {(\"x\", True), (\"y\", False)}\n",
    "\n",
    "    assert out.header == expected_header\n",
    "    assert out.set_of_tuples == expected_rows"
   ]
  },
  {
   "cell_type": "markdown",
   "metadata": {},
   "source": [
    "Why do two of the tests fail? Because the `project` operator implemented above is written to only project onto a single column. The two failed tests are for problems when we are trying to project onto more than one column. \n",
    "\n",
    "And this is the reason that the idea of **test coverage through input partitioning** is useful; it helps us think through different **types of inputs** that can occur and write a test for each input type."
   ]
  },
  {
   "cell_type": "markdown",
   "metadata": {},
   "source": [
    "---"
   ]
  }
 ],
 "metadata": {
  "kernelspec": {
   "display_name": ".venv",
   "language": "python",
   "name": "python3"
  },
  "language_info": {
   "codemirror_mode": {
    "name": "ipython",
    "version": 3
   },
   "file_extension": ".py",
   "mimetype": "text/x-python",
   "name": "python",
   "nbconvert_exporter": "python",
   "pygments_lexer": "ipython3",
   "version": "3.12.11"
  },
  "orig_nbformat": 4
 },
 "nbformat": 4,
 "nbformat_minor": 2
}
